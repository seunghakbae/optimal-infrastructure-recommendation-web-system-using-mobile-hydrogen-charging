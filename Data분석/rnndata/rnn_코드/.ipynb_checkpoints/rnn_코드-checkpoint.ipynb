{
 "cells": [
  {
   "cell_type": "code",
   "execution_count": 1,
   "metadata": {
    "colab": {},
    "colab_type": "code",
    "id": "VhEWz6ywHZF1"
   },
   "outputs": [],
   "source": [
    "import numpy as np\n",
    "import matplotlib.pyplot as plt\n",
    "import pandas as pd"
   ]
  },
  {
   "cell_type": "code",
   "execution_count": 2,
   "metadata": {
    "colab": {
     "base_uri": "https://localhost:8080/",
     "height": 78,
     "resources": {
      "http://localhost:8080/nbextensions/google.colab/files.js": {
       "data": "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",
       "headers": [
        [
         "content-type",
         "application/javascript"
        ]
       ],
       "ok": true,
       "status": 200,
       "status_text": ""
      }
     }
    },
    "colab_type": "code",
    "id": "8oYE0JZ-Hjsr",
    "outputId": "1fe4222b-b520-4dba-eda3-2efcd854b425"
   },
   "outputs": [
    {
     "ename": "ModuleNotFoundError",
     "evalue": "No module named 'google.colab'",
     "output_type": "error",
     "traceback": [
      "\u001b[1;31m---------------------------------------------------------------------------\u001b[0m",
      "\u001b[1;31mModuleNotFoundError\u001b[0m                       Traceback (most recent call last)",
      "\u001b[1;32m<ipython-input-2-21dc3c638f66>\u001b[0m in \u001b[0;36m<module>\u001b[1;34m\u001b[0m\n\u001b[1;32m----> 1\u001b[1;33m \u001b[1;32mfrom\u001b[0m \u001b[0mgoogle\u001b[0m\u001b[1;33m.\u001b[0m\u001b[0mcolab\u001b[0m \u001b[1;32mimport\u001b[0m \u001b[0mfiles\u001b[0m\u001b[1;33m\u001b[0m\u001b[1;33m\u001b[0m\u001b[0m\n\u001b[0m\u001b[0;32m      2\u001b[0m \u001b[0muploaded\u001b[0m \u001b[1;33m=\u001b[0m \u001b[0mfiles\u001b[0m\u001b[1;33m.\u001b[0m\u001b[0mupload\u001b[0m\u001b[1;33m(\u001b[0m\u001b[1;33m)\u001b[0m\u001b[1;33m\u001b[0m\u001b[1;33m\u001b[0m\u001b[0m\n",
      "\u001b[1;31mModuleNotFoundError\u001b[0m: No module named 'google.colab'"
     ]
    }
   ],
   "source": [
    "from google.colab import files\n",
    "uploaded = files.upload()"
   ]
  },
  {
   "cell_type": "code",
   "execution_count": 0,
   "metadata": {
    "colab": {},
    "colab_type": "code",
    "id": "pF8Qrp-oHZF5"
   },
   "outputs": [],
   "source": [
    "data = pd.read_csv('B-02.csv', encoding='utf-8')"
   ]
  },
  {
   "cell_type": "code",
   "execution_count": 0,
   "metadata": {
    "colab": {
     "base_uri": "https://localhost:8080/",
     "height": 228
    },
    "colab_type": "code",
    "id": "T1-Cw_Qgf09C",
    "outputId": "41b3fa76-3598-4827-8697-1390d47a5d9c"
   },
   "outputs": [
    {
     "name": "stdout",
     "output_type": "stream",
     "text": [
      "<class 'pandas.core.frame.DataFrame'>\n",
      "RangeIndex: 4344 entries, 0 to 4343\n",
      "Data columns (total 7 columns):\n",
      "Unnamed: 0    4344 non-null int64\n",
      "유입교통량         4344 non-null float64\n",
      "시간_x          4344 non-null int64\n",
      "일자_x          4344 non-null int64\n",
      "지점번호_x        4344 non-null object\n",
      "유출교통량         4344 non-null float64\n",
      "교통량           4344 non-null float64\n",
      "dtypes: float64(3), int64(3), object(1)\n",
      "memory usage: 237.6+ KB\n"
     ]
    }
   ],
   "source": [
    "data.info()"
   ]
  },
  {
   "cell_type": "code",
   "execution_count": 0,
   "metadata": {
    "colab": {},
    "colab_type": "code",
    "id": "8Kyef7mgHZF8"
   },
   "outputs": [],
   "source": [
    "data.drop(columns={'Unnamed: 0','시간_x','일자_x','지점번호_x','유입교통량','유출교통량'},inplace=True)"
   ]
  },
  {
   "cell_type": "code",
   "execution_count": 0,
   "metadata": {
    "colab": {
     "base_uri": "https://localhost:8080/",
     "height": 52
    },
    "colab_type": "code",
    "id": "rrA7DrbjHZF_",
    "outputId": "5bb23127-88dd-40b0-871f-eab6eabeb3ac"
   },
   "outputs": [
    {
     "data": {
      "text/plain": [
       "교통량    0\n",
       "dtype: int64"
      ]
     },
     "execution_count": 308,
     "metadata": {
      "tags": []
     },
     "output_type": "execute_result"
    }
   ],
   "source": [
    "# filling nan with mean in any columns\n",
    "\n",
    "for j in range(0,1):        \n",
    "        data.iloc[:,j]=data.iloc[:,j].fillna(data.iloc[:,j].mean())\n",
    "# another sanity check to make sure that there are not more any nan\n",
    "data.isnull().sum()"
   ]
  },
  {
   "cell_type": "code",
   "execution_count": 0,
   "metadata": {
    "colab": {},
    "colab_type": "code",
    "id": "J3Gyfv2GHZGF"
   },
   "outputs": [],
   "source": [
    "from datetime import datetime\n",
    "data['time'] = pd.date_range(start='20190101', freq='H', periods=4344)"
   ]
  },
  {
   "cell_type": "code",
   "execution_count": 0,
   "metadata": {
    "colab": {},
    "colab_type": "code",
    "id": "c9cAhSRnHZGJ"
   },
   "outputs": [],
   "source": [
    "data.set_index(data['time'], inplace=True)"
   ]
  },
  {
   "cell_type": "code",
   "execution_count": 0,
   "metadata": {
    "colab": {},
    "colab_type": "code",
    "id": "w19x5XaagEP3"
   },
   "outputs": [],
   "source": [
    "data.drop(columns={'time'}, inplace=True)"
   ]
  },
  {
   "cell_type": "code",
   "execution_count": 0,
   "metadata": {
    "colab": {},
    "colab_type": "code",
    "id": "7oanOk1hHZGN"
   },
   "outputs": [],
   "source": [
    "#교통량 사용\n",
    "data_training = data.iloc[:3040,:].values\n",
    "data_testing = data.iloc[3041:,:].values"
   ]
  },
  {
   "cell_type": "code",
   "execution_count": 0,
   "metadata": {
    "colab": {},
    "colab_type": "code",
    "id": "xvm5DKD5HZGQ"
   },
   "outputs": [],
   "source": [
    "#data Normalization\n",
    "from sklearn.preprocessing import MinMaxScaler\n",
    "scaler = MinMaxScaler(feature_range = (0, 1))\n",
    "\n",
    "data_training_scaled = scaler.fit_transform(data_training)"
   ]
  },
  {
   "cell_type": "code",
   "execution_count": 0,
   "metadata": {
    "colab": {
     "base_uri": "https://localhost:8080/",
     "height": 140
    },
    "colab_type": "code",
    "id": "f1voZyftHZGT",
    "outputId": "34805aca-5c6f-471c-9844-2e2df5c03d4d"
   },
   "outputs": [
    {
     "data": {
      "text/plain": [
       "array([[0.        ],\n",
       "       [0.21959146],\n",
       "       [0.15289384],\n",
       "       ...,\n",
       "       [0.65536985],\n",
       "       [0.68802228],\n",
       "       [0.72346023]])"
      ]
     },
     "execution_count": 314,
     "metadata": {
      "tags": []
     },
     "output_type": "execute_result"
    }
   ],
   "source": [
    "data_training_scaled"
   ]
  },
  {
   "cell_type": "code",
   "execution_count": 0,
   "metadata": {
    "colab": {},
    "colab_type": "code",
    "id": "1bGbc67JHZGX"
   },
   "outputs": [],
   "source": [
    "#Convert Training Data to Right Shape\n",
    "features_set = []\n",
    "labels = []\n",
    "for i in range(60, 3040):\n",
    "    features_set.append(data_training_scaled[i-60:i, 0])\n",
    "    labels.append(data_training_scaled[i, 0])"
   ]
  },
  {
   "cell_type": "code",
   "execution_count": 0,
   "metadata": {
    "colab": {},
    "colab_type": "code",
    "id": "I6JWb19OHZGa"
   },
   "outputs": [],
   "source": [
    "features_set, labels = np.array(features_set), np.array(labels)"
   ]
  },
  {
   "cell_type": "code",
   "execution_count": 0,
   "metadata": {
    "colab": {},
    "colab_type": "code",
    "id": "BCZmfKMcHZGd"
   },
   "outputs": [],
   "source": [
    "features_set = np.reshape(features_set, (features_set.shape[0], features_set.shape[1], 1))"
   ]
  },
  {
   "cell_type": "code",
   "execution_count": 0,
   "metadata": {
    "colab": {},
    "colab_type": "code",
    "id": "TzT5MrqtHZGj"
   },
   "outputs": [],
   "source": [
    "#Training The LSTM\n",
    "from keras.models import Sequential\n",
    "from keras.layers import Dense\n",
    "from keras.layers import LSTM\n",
    "from keras.layers import Dropout"
   ]
  },
  {
   "cell_type": "code",
   "execution_count": 0,
   "metadata": {
    "colab": {},
    "colab_type": "code",
    "id": "CiAw4cVSHZGl"
   },
   "outputs": [],
   "source": [
    "model = Sequential()"
   ]
  },
  {
   "cell_type": "code",
   "execution_count": 0,
   "metadata": {
    "colab": {},
    "colab_type": "code",
    "id": "XEhgzj1mHZGr"
   },
   "outputs": [],
   "source": [
    "#Creating LSTM and Dropout Layers\n",
    "model.add(LSTM(units=50, return_sequences=True, input_shape=(features_set.shape[1], 1)))"
   ]
  },
  {
   "cell_type": "code",
   "execution_count": 0,
   "metadata": {
    "colab": {},
    "colab_type": "code",
    "id": "vmHFWN0oHZGu"
   },
   "outputs": [],
   "source": [
    "model.add(Dropout(0.2))"
   ]
  },
  {
   "cell_type": "code",
   "execution_count": 0,
   "metadata": {
    "colab": {},
    "colab_type": "code",
    "id": "oQ3SufhiHZGx"
   },
   "outputs": [],
   "source": [
    "model.add(LSTM(units=50, return_sequences=True))\n",
    "model.add(Dropout(0.2))\n",
    "\n",
    "model.add(LSTM(units=50, return_sequences=True))\n",
    "model.add(Dropout(0.2))\n",
    "\n",
    "model.add(LSTM(units=50))\n",
    "model.add(Dropout(0.2))"
   ]
  },
  {
   "cell_type": "code",
   "execution_count": 0,
   "metadata": {
    "colab": {},
    "colab_type": "code",
    "id": "HgHsaQueHZG0"
   },
   "outputs": [],
   "source": [
    "#Creating Dense Layer\n",
    "model.add(Dense(units = 1))"
   ]
  },
  {
   "cell_type": "code",
   "execution_count": 0,
   "metadata": {
    "colab": {},
    "colab_type": "code",
    "id": "rUJ8OrtBHZG2"
   },
   "outputs": [],
   "source": [
    "#Model Compilation\n",
    "model.compile(optimizer = 'adam', loss = 'mean_squared_error')"
   ]
  },
  {
   "cell_type": "code",
   "execution_count": 0,
   "metadata": {
    "colab": {
     "base_uri": "https://localhost:8080/",
     "height": 386
    },
    "colab_type": "code",
    "id": "y2knLIaHHZG7",
    "outputId": "c0e4e770-f9f5-4ae3-c315-794741a02361",
    "scrolled": true
   },
   "outputs": [
    {
     "name": "stdout",
     "output_type": "stream",
     "text": [
      "Epoch 1/10\n",
      "2980/2980 [==============================] - 50s 17ms/step - loss: 0.0973\n",
      "Epoch 2/10\n",
      "2980/2980 [==============================] - 43s 14ms/step - loss: 0.0352\n",
      "Epoch 3/10\n",
      "2980/2980 [==============================] - 43s 14ms/step - loss: 0.0248\n",
      "Epoch 4/10\n",
      "2980/2980 [==============================] - 43s 14ms/step - loss: 0.0222\n",
      "Epoch 5/10\n",
      "2980/2980 [==============================] - 43s 14ms/step - loss: 0.0206\n",
      "Epoch 6/10\n",
      "2980/2980 [==============================] - 43s 14ms/step - loss: 0.0199\n",
      "Epoch 7/10\n",
      "2980/2980 [==============================] - 42s 14ms/step - loss: 0.0199\n",
      "Epoch 8/10\n",
      "2980/2980 [==============================] - 42s 14ms/step - loss: 0.0167\n",
      "Epoch 9/10\n",
      "2980/2980 [==============================] - 43s 14ms/step - loss: 0.0163\n",
      "Epoch 10/10\n",
      "2980/2980 [==============================] - 43s 14ms/step - loss: 0.0159\n"
     ]
    },
    {
     "data": {
      "text/plain": [
       "<keras.callbacks.History at 0x7fbb959526a0>"
      ]
     },
     "execution_count": 325,
     "metadata": {
      "tags": []
     },
     "output_type": "execute_result"
    }
   ],
   "source": [
    "#Algorithm Training, 원래 epochs 값이 100 이지만 시간상 10번 돌림, 더 돌리면 정확도가 올라갈듯?\n",
    "model.fit(features_set, labels, epochs = 10, batch_size = 32)"
   ]
  },
  {
   "cell_type": "code",
   "execution_count": 0,
   "metadata": {
    "colab": {},
    "colab_type": "code",
    "id": "KRlhWOo4HZHC"
   },
   "outputs": [],
   "source": [
    "data_total = data"
   ]
  },
  {
   "cell_type": "code",
   "execution_count": 0,
   "metadata": {
    "colab": {},
    "colab_type": "code",
    "id": "MfTmZBHNHZHJ"
   },
   "outputs": [],
   "source": [
    "test_inputs = data_total[len(data_total) - len(data_testing) - 60:].values"
   ]
  },
  {
   "cell_type": "code",
   "execution_count": 0,
   "metadata": {
    "colab": {},
    "colab_type": "code",
    "id": "BbvmiAWnHZHO"
   },
   "outputs": [],
   "source": [
    "test_inputs = test_inputs.reshape(-1,1)\n",
    "test_inputs = scaler.transform(test_inputs)"
   ]
  },
  {
   "cell_type": "code",
   "execution_count": 0,
   "metadata": {
    "colab": {
     "base_uri": "https://localhost:8080/",
     "height": 34
    },
    "colab_type": "code",
    "id": "7trtL0fNHZHR",
    "outputId": "c25efd94-5b5b-46ed-a7de-5b742dd48e90"
   },
   "outputs": [
    {
     "data": {
      "text/plain": [
       "1363"
      ]
     },
     "execution_count": 329,
     "metadata": {
      "tags": []
     },
     "output_type": "execute_result"
    }
   ],
   "source": [
    "len(test_inputs)"
   ]
  },
  {
   "cell_type": "code",
   "execution_count": 0,
   "metadata": {
    "colab": {},
    "colab_type": "code",
    "id": "iUaNGanYHZHV"
   },
   "outputs": [],
   "source": [
    "test_features = []\n",
    "for i in range(60, 1363):\n",
    "    test_features.append(test_inputs[i-60:i, 0])"
   ]
  },
  {
   "cell_type": "code",
   "execution_count": 0,
   "metadata": {
    "colab": {},
    "colab_type": "code",
    "id": "FofLZRnzHZHX"
   },
   "outputs": [],
   "source": [
    "test_features = np.array(test_features)\n",
    "test_features = np.reshape(test_features, (test_features.shape[0], test_features.shape[1], 1))"
   ]
  },
  {
   "cell_type": "code",
   "execution_count": 0,
   "metadata": {
    "colab": {},
    "colab_type": "code",
    "id": "T4BFDCipHZHc"
   },
   "outputs": [],
   "source": [
    "#Making Predictions\n",
    "predictions = model.predict(test_features)"
   ]
  },
  {
   "cell_type": "code",
   "execution_count": 0,
   "metadata": {
    "colab": {},
    "colab_type": "code",
    "id": "mp_7FzVjHZHe"
   },
   "outputs": [],
   "source": [
    "predictions = scaler.inverse_transform(predictions)"
   ]
  },
  {
   "cell_type": "code",
   "execution_count": 0,
   "metadata": {
    "colab": {
     "base_uri": "https://localhost:8080/",
     "height": 404
    },
    "colab_type": "code",
    "id": "n9yqLMWGHZHh",
    "outputId": "f829465e-3642-4caa-86b1-c0b21ed5c2ee"
   },
   "outputs": [
    {
     "data": {
      "image/png": "[encoded data removed]",
      "text/plain": [
       "<Figure size 720x432 with 1 Axes>"
      ]
     },
     "metadata": {
      "tags": []
     },
     "output_type": "display_data"
    }
   ],
   "source": [
    "#Finally, let's see how well did our algorithm predicted the future stock prices. Execute the following script:\n",
    "plt.figure(figsize=(10,6))\n",
    "plt.plot(data_testing, color='blue', label='Actual 교통량')\n",
    "plt.plot(predictions , color='red', label='Predicted 교통량')\n",
    "plt.title('Prediction')\n",
    "plt.xlabel('Time')\n",
    "plt.ylabel('교통량')\n",
    "plt.legend()\n",
    "plt.show()"
   ]
  },
  {
   "cell_type": "code",
   "execution_count": 0,
   "metadata": {
    "colab": {},
    "colab_type": "code",
    "id": "4dCNfN9gNNgr"
   },
   "outputs": [],
   "source": [
    "#예측값 pred data 전환\n",
    "predata = pd.DataFrame(predictions)\n",
    "predata = predata.rename(columns={0:'predata'})\n",
    "predata['time'] = pd.date_range(start='20190507', freq='H', periods=1303)"
   ]
  },
  {
   "cell_type": "code",
   "execution_count": 0,
   "metadata": {
    "colab": {
     "base_uri": "https://localhost:8080/",
     "height": 1000
    },
    "colab_type": "code",
    "id": "zUAqvm-2l-JJ",
    "outputId": "12f93f92-0ac0-422b-bd37-3a3cae905319"
   },
   "outputs": [
    {
     "data": {
      "text/html": [
       "<div>\n",
       "<style scoped>\n",
       "    .dataframe tbody tr th:only-of-type {\n",
       "        vertical-align: middle;\n",
       "    }\n",
       "\n",
       "    .dataframe tbody tr th {\n",
       "        vertical-align: top;\n",
       "    }\n",
       "\n",
       "    .dataframe thead th {\n",
       "        text-align: right;\n",
       "    }\n",
       "</style>\n",
       "<table border=\"1\" class=\"dataframe\">\n",
       "  <thead>\n",
       "    <tr style=\"text-align: right;\">\n",
       "      <th></th>\n",
       "      <th>predata</th>\n",
       "    </tr>\n",
       "    <tr>\n",
       "      <th>time</th>\n",
       "      <th></th>\n",
       "    </tr>\n",
       "  </thead>\n",
       "  <tbody>\n",
       "    <tr>\n",
       "      <th>2019-05-07 00:00:00</th>\n",
       "      <td>5044.776367</td>\n",
       "    </tr>\n",
       "    <tr>\n",
       "      <th>2019-05-07 01:00:00</th>\n",
       "      <td>5084.393066</td>\n",
       "    </tr>\n",
       "    <tr>\n",
       "      <th>2019-05-07 02:00:00</th>\n",
       "      <td>4833.737305</td>\n",
       "    </tr>\n",
       "    <tr>\n",
       "      <th>2019-05-07 03:00:00</th>\n",
       "      <td>4289.104980</td>\n",
       "    </tr>\n",
       "    <tr>\n",
       "      <th>2019-05-07 04:00:00</th>\n",
       "      <td>3553.421875</td>\n",
       "    </tr>\n",
       "    <tr>\n",
       "      <th>2019-05-07 05:00:00</th>\n",
       "      <td>2777.726562</td>\n",
       "    </tr>\n",
       "    <tr>\n",
       "      <th>2019-05-07 06:00:00</th>\n",
       "      <td>2061.440186</td>\n",
       "    </tr>\n",
       "    <tr>\n",
       "      <th>2019-05-07 07:00:00</th>\n",
       "      <td>1453.362061</td>\n",
       "    </tr>\n",
       "    <tr>\n",
       "      <th>2019-05-07 08:00:00</th>\n",
       "      <td>981.122314</td>\n",
       "    </tr>\n",
       "    <tr>\n",
       "      <th>2019-05-07 09:00:00</th>\n",
       "      <td>670.874512</td>\n",
       "    </tr>\n",
       "    <tr>\n",
       "      <th>2019-05-07 10:00:00</th>\n",
       "      <td>546.621277</td>\n",
       "    </tr>\n",
       "    <tr>\n",
       "      <th>2019-05-07 11:00:00</th>\n",
       "      <td>648.703796</td>\n",
       "    </tr>\n",
       "    <tr>\n",
       "      <th>2019-05-07 12:00:00</th>\n",
       "      <td>1091.812988</td>\n",
       "    </tr>\n",
       "    <tr>\n",
       "      <th>2019-05-07 13:00:00</th>\n",
       "      <td>2150.875000</td>\n",
       "    </tr>\n",
       "    <tr>\n",
       "      <th>2019-05-07 14:00:00</th>\n",
       "      <td>3744.942627</td>\n",
       "    </tr>\n",
       "    <tr>\n",
       "      <th>2019-05-07 15:00:00</th>\n",
       "      <td>4844.087891</td>\n",
       "    </tr>\n",
       "    <tr>\n",
       "      <th>2019-05-07 16:00:00</th>\n",
       "      <td>5029.255859</td>\n",
       "    </tr>\n",
       "    <tr>\n",
       "      <th>2019-05-07 17:00:00</th>\n",
       "      <td>4754.733887</td>\n",
       "    </tr>\n",
       "    <tr>\n",
       "      <th>2019-05-07 18:00:00</th>\n",
       "      <td>4424.949219</td>\n",
       "    </tr>\n",
       "    <tr>\n",
       "      <th>2019-05-07 19:00:00</th>\n",
       "      <td>4213.534668</td>\n",
       "    </tr>\n",
       "    <tr>\n",
       "      <th>2019-05-07 20:00:00</th>\n",
       "      <td>4178.004395</td>\n",
       "    </tr>\n",
       "    <tr>\n",
       "      <th>2019-05-07 21:00:00</th>\n",
       "      <td>4329.147461</td>\n",
       "    </tr>\n",
       "    <tr>\n",
       "      <th>2019-05-07 22:00:00</th>\n",
       "      <td>4606.843750</td>\n",
       "    </tr>\n",
       "    <tr>\n",
       "      <th>2019-05-07 23:00:00</th>\n",
       "      <td>4917.926758</td>\n",
       "    </tr>\n",
       "    <tr>\n",
       "      <th>2019-05-08 00:00:00</th>\n",
       "      <td>5141.976562</td>\n",
       "    </tr>\n",
       "    <tr>\n",
       "      <th>2019-05-08 01:00:00</th>\n",
       "      <td>5153.223633</td>\n",
       "    </tr>\n",
       "    <tr>\n",
       "      <th>2019-05-08 02:00:00</th>\n",
       "      <td>4869.700195</td>\n",
       "    </tr>\n",
       "    <tr>\n",
       "      <th>2019-05-08 03:00:00</th>\n",
       "      <td>4296.188477</td>\n",
       "    </tr>\n",
       "    <tr>\n",
       "      <th>2019-05-08 04:00:00</th>\n",
       "      <td>3540.518311</td>\n",
       "    </tr>\n",
       "    <tr>\n",
       "      <th>2019-05-08 05:00:00</th>\n",
       "      <td>2750.166260</td>\n",
       "    </tr>\n",
       "    <tr>\n",
       "      <th>...</th>\n",
       "      <td>...</td>\n",
       "    </tr>\n",
       "    <tr>\n",
       "      <th>2019-06-29 01:00:00</th>\n",
       "      <td>5267.679688</td>\n",
       "    </tr>\n",
       "    <tr>\n",
       "      <th>2019-06-29 02:00:00</th>\n",
       "      <td>5151.081543</td>\n",
       "    </tr>\n",
       "    <tr>\n",
       "      <th>2019-06-29 03:00:00</th>\n",
       "      <td>4729.955078</td>\n",
       "    </tr>\n",
       "    <tr>\n",
       "      <th>2019-06-29 04:00:00</th>\n",
       "      <td>4064.956299</td>\n",
       "    </tr>\n",
       "    <tr>\n",
       "      <th>2019-06-29 05:00:00</th>\n",
       "      <td>3272.176025</td>\n",
       "    </tr>\n",
       "    <tr>\n",
       "      <th>2019-06-29 06:00:00</th>\n",
       "      <td>2486.470215</td>\n",
       "    </tr>\n",
       "    <tr>\n",
       "      <th>2019-06-29 07:00:00</th>\n",
       "      <td>1795.721313</td>\n",
       "    </tr>\n",
       "    <tr>\n",
       "      <th>2019-06-29 08:00:00</th>\n",
       "      <td>1241.740356</td>\n",
       "    </tr>\n",
       "    <tr>\n",
       "      <th>2019-06-29 09:00:00</th>\n",
       "      <td>846.694153</td>\n",
       "    </tr>\n",
       "    <tr>\n",
       "      <th>2019-06-29 10:00:00</th>\n",
       "      <td>623.819519</td>\n",
       "    </tr>\n",
       "    <tr>\n",
       "      <th>2019-06-29 11:00:00</th>\n",
       "      <td>598.799622</td>\n",
       "    </tr>\n",
       "    <tr>\n",
       "      <th>2019-06-29 12:00:00</th>\n",
       "      <td>854.062256</td>\n",
       "    </tr>\n",
       "    <tr>\n",
       "      <th>2019-06-29 13:00:00</th>\n",
       "      <td>1629.083618</td>\n",
       "    </tr>\n",
       "    <tr>\n",
       "      <th>2019-06-29 14:00:00</th>\n",
       "      <td>3131.837891</td>\n",
       "    </tr>\n",
       "    <tr>\n",
       "      <th>2019-06-29 15:00:00</th>\n",
       "      <td>4487.660645</td>\n",
       "    </tr>\n",
       "    <tr>\n",
       "      <th>2019-06-29 16:00:00</th>\n",
       "      <td>4926.958496</td>\n",
       "    </tr>\n",
       "    <tr>\n",
       "      <th>2019-06-29 17:00:00</th>\n",
       "      <td>4744.929688</td>\n",
       "    </tr>\n",
       "    <tr>\n",
       "      <th>2019-06-29 18:00:00</th>\n",
       "      <td>4392.355957</td>\n",
       "    </tr>\n",
       "    <tr>\n",
       "      <th>2019-06-29 19:00:00</th>\n",
       "      <td>4092.518799</td>\n",
       "    </tr>\n",
       "    <tr>\n",
       "      <th>2019-06-29 20:00:00</th>\n",
       "      <td>3941.984131</td>\n",
       "    </tr>\n",
       "    <tr>\n",
       "      <th>2019-06-29 21:00:00</th>\n",
       "      <td>3981.010986</td>\n",
       "    </tr>\n",
       "    <tr>\n",
       "      <th>2019-06-29 22:00:00</th>\n",
       "      <td>4179.314941</td>\n",
       "    </tr>\n",
       "    <tr>\n",
       "      <th>2019-06-29 23:00:00</th>\n",
       "      <td>4456.641602</td>\n",
       "    </tr>\n",
       "    <tr>\n",
       "      <th>2019-06-30 00:00:00</th>\n",
       "      <td>4688.643555</td>\n",
       "    </tr>\n",
       "    <tr>\n",
       "      <th>2019-06-30 01:00:00</th>\n",
       "      <td>4737.990723</td>\n",
       "    </tr>\n",
       "    <tr>\n",
       "      <th>2019-06-30 02:00:00</th>\n",
       "      <td>4517.377441</td>\n",
       "    </tr>\n",
       "    <tr>\n",
       "      <th>2019-06-30 03:00:00</th>\n",
       "      <td>4041.864502</td>\n",
       "    </tr>\n",
       "    <tr>\n",
       "      <th>2019-06-30 04:00:00</th>\n",
       "      <td>3397.087402</td>\n",
       "    </tr>\n",
       "    <tr>\n",
       "      <th>2019-06-30 05:00:00</th>\n",
       "      <td>2679.688477</td>\n",
       "    </tr>\n",
       "    <tr>\n",
       "      <th>2019-06-30 06:00:00</th>\n",
       "      <td>1990.682739</td>\n",
       "    </tr>\n",
       "  </tbody>\n",
       "</table>\n",
       "<p>1303 rows × 1 columns</p>\n",
       "</div>"
      ],
      "text/plain": [
       "                         predata\n",
       "time                            \n",
       "2019-05-07 00:00:00  5044.776367\n",
       "2019-05-07 01:00:00  5084.393066\n",
       "2019-05-07 02:00:00  4833.737305\n",
       "2019-05-07 03:00:00  4289.104980\n",
       "2019-05-07 04:00:00  3553.421875\n",
       "2019-05-07 05:00:00  2777.726562\n",
       "2019-05-07 06:00:00  2061.440186\n",
       "2019-05-07 07:00:00  1453.362061\n",
       "2019-05-07 08:00:00   981.122314\n",
       "2019-05-07 09:00:00   670.874512\n",
       "2019-05-07 10:00:00   546.621277\n",
       "2019-05-07 11:00:00   648.703796\n",
       "2019-05-07 12:00:00  1091.812988\n",
       "2019-05-07 13:00:00  2150.875000\n",
       "2019-05-07 14:00:00  3744.942627\n",
       "2019-05-07 15:00:00  4844.087891\n",
       "2019-05-07 16:00:00  5029.255859\n",
       "2019-05-07 17:00:00  4754.733887\n",
       "2019-05-07 18:00:00  4424.949219\n",
       "2019-05-07 19:00:00  4213.534668\n",
       "2019-05-07 20:00:00  4178.004395\n",
       "2019-05-07 21:00:00  4329.147461\n",
       "2019-05-07 22:00:00  4606.843750\n",
       "2019-05-07 23:00:00  4917.926758\n",
       "2019-05-08 00:00:00  5141.976562\n",
       "2019-05-08 01:00:00  5153.223633\n",
       "2019-05-08 02:00:00  4869.700195\n",
       "2019-05-08 03:00:00  4296.188477\n",
       "2019-05-08 04:00:00  3540.518311\n",
       "2019-05-08 05:00:00  2750.166260\n",
       "...                          ...\n",
       "2019-06-29 01:00:00  5267.679688\n",
       "2019-06-29 02:00:00  5151.081543\n",
       "2019-06-29 03:00:00  4729.955078\n",
       "2019-06-29 04:00:00  4064.956299\n",
       "2019-06-29 05:00:00  3272.176025\n",
       "2019-06-29 06:00:00  2486.470215\n",
       "2019-06-29 07:00:00  1795.721313\n",
       "2019-06-29 08:00:00  1241.740356\n",
       "2019-06-29 09:00:00   846.694153\n",
       "2019-06-29 10:00:00   623.819519\n",
       "2019-06-29 11:00:00   598.799622\n",
       "2019-06-29 12:00:00   854.062256\n",
       "2019-06-29 13:00:00  1629.083618\n",
       "2019-06-29 14:00:00  3131.837891\n",
       "2019-06-29 15:00:00  4487.660645\n",
       "2019-06-29 16:00:00  4926.958496\n",
       "2019-06-29 17:00:00  4744.929688\n",
       "2019-06-29 18:00:00  4392.355957\n",
       "2019-06-29 19:00:00  4092.518799\n",
       "2019-06-29 20:00:00  3941.984131\n",
       "2019-06-29 21:00:00  3981.010986\n",
       "2019-06-29 22:00:00  4179.314941\n",
       "2019-06-29 23:00:00  4456.641602\n",
       "2019-06-30 00:00:00  4688.643555\n",
       "2019-06-30 01:00:00  4737.990723\n",
       "2019-06-30 02:00:00  4517.377441\n",
       "2019-06-30 03:00:00  4041.864502\n",
       "2019-06-30 04:00:00  3397.087402\n",
       "2019-06-30 05:00:00  2679.688477\n",
       "2019-06-30 06:00:00  1990.682739\n",
       "\n",
       "[1303 rows x 1 columns]"
      ]
     },
     "execution_count": 336,
     "metadata": {
      "tags": []
     },
     "output_type": "execute_result"
    }
   ],
   "source": [
    "predata.set_index('time')"
   ]
  },
  {
   "cell_type": "code",
   "execution_count": 0,
   "metadata": {
    "colab": {},
    "colab_type": "code",
    "id": "Ontti4bNoOZv"
   },
   "outputs": [],
   "source": [
    "from google.colab import files\n",
    "predata.to_csv('B-02_10.csv') \n",
    "files.download('B-02_10.csv')"
   ]
  },
  {
   "cell_type": "code",
   "execution_count": 0,
   "metadata": {
    "colab": {},
    "colab_type": "code",
    "id": "bkvdMyIQpl2F"
   },
   "outputs": [],
   "source": []
  }
 ],
 "metadata": {
  "accelerator": "GPU",
  "colab": {
   "name": "rnn 코드.ipynb",
   "provenance": [],
   "version": "0.3.2"
  },
  "kernelspec": {
   "display_name": "Python 3",
   "language": "python",
   "name": "python3"
  },
  "language_info": {
   "codemirror_mode": {
    "name": "ipython",
    "version": 3
   },
   "file_extension": ".py",
   "mimetype": "text/x-python",
   "name": "python",
   "nbconvert_exporter": "python",
   "pygments_lexer": "ipython3",
   "version": "3.7.3"
  }
 },
 "nbformat": 4,
 "nbformat_minor": 1
}
