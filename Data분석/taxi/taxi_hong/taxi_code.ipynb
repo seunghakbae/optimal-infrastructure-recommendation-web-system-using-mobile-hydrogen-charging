{
 "cells": [
  {
   "cell_type": "markdown",
   "metadata": {},
   "source": [
    "# 택시 데이터 정제 코드\n",
    "\n",
    "1. 택시데이터 로드 정제\n",
    "\n",
    "3. 좌표별 데이터 로드 정제\n",
    "\n",
    "4. 동데이터와 택시데이터 합침"
   ]
  },
  {
   "cell_type": "markdown",
   "metadata": {},
   "source": [
    "### 택시데이터 로드, 정제"
   ]
  },
  {
   "cell_type": "code",
   "execution_count": null,
   "metadata": {},
   "outputs": [],
   "source": [
    "import pandas as pd\n",
    "import numpy as np"
   ]
  },
  {
   "cell_type": "code",
   "execution_count": null,
   "metadata": {},
   "outputs": [],
   "source": [
    "# 택시데이터를 불러옴. 안 될 경우 encoding을 cp949로 바꿔준다\n",
    "taxi = pd.read_csv(\"데이터 명\", encoding = \"utf-8\")"
   ]
  },
  {
   "cell_type": "code",
   "execution_count": null,
   "metadata": {},
   "outputs": [],
   "source": [
    "# 불필요한 데이터 삭제 (dest, weather, x,y_min , x,y_part 삭제 )\n",
    "\n",
    "# 중복 데이터는 남겨둔다.\n",
    "\n",
    "taxi.drop([\"Weather\",\"X_MIN\",\"Y_MIN\",\"X_PART\",\"Y_PART\",\"Dest\"], axis=1, inplace=True)"
   ]
  },
  {
   "cell_type": "code",
   "execution_count": null,
   "metadata": {},
   "outputs": [],
   "source": [
    "#NULL값을 0으로 치환해준다. (cnt에 있는 것을 합쳐주기 위함)\n",
    "taxi=taxi.fillna(0)"
   ]
  },
  {
   "cell_type": "code",
   "execution_count": null,
   "metadata": {},
   "outputs": [],
   "source": [
    "# DataFrame을 array의 형태로 저장한다\n",
    "\n",
    "hi= [np.array(taxi.T_LINK_ID),np.array(taxi.Day), np.array(taxi.Time), \n",
    "     np.array(taxi.CntOn), np.array(taxi.CntOff), np.array(taxi.CntEmp), \n",
    "     np.array(taxi.X_MAX), np.array(taxi.Y_MAX)]"
   ]
  },
  {
   "cell_type": "code",
   "execution_count": null,
   "metadata": {},
   "outputs": [],
   "source": [
    "# cnt를 값을 합치고 \n",
    "# name에 list형태로 저장해줌.\n",
    "\n",
    "\n",
    "name=list()\n",
    "\n",
    "def tapseung():\n",
    "    _sum=0\n",
    "    i=0\n",
    "    for i in range(len(hi[0])-1):\n",
    "        if hi[2][i]!=hi[2][i+1] :\n",
    "            name.append([hi[0][i],hi[1][i],hi[2][i], hi[6][i],hi[7][i],_sum])\n",
    "            _sum = 0\n",
    "\n",
    "        else:\n",
    "            _sum +=(hi[3][i]+hi[4][i]+hi[5][i])\n",
    "    return _sum"
   ]
  },
  {
   "cell_type": "code",
   "execution_count": null,
   "metadata": {},
   "outputs": [],
   "source": [
    "# 함수를 이용해 name에 값을 넣어준다\n",
    "tapseung()"
   ]
  },
  {
   "cell_type": "markdown",
   "metadata": {},
   "source": [
    "```python\n",
    "[['T_146396', 1, 0, 127.0299311759, 37.6088426369, 2488.0],...]\n",
    "```\n",
    "\n",
    "이런 형식으로 list에 들어간다"
   ]
  },
  {
   "cell_type": "code",
   "execution_count": null,
   "metadata": {},
   "outputs": [],
   "source": [
    "# DataFrame의 형태로 csv파일을 만들어준다.\n",
    "# 굳이 이렇게 하는 건 이쯤되면 메모리가 터졌을 것이기 떄문이다.\n",
    "\n",
    "pd.DataFrame(name).to_csv(\"taxi_count.csv\", encoding=\"cp949\")"
   ]
  },
  {
   "cell_type": "code",
   "execution_count": null,
   "metadata": {},
   "outputs": [],
   "source": [
    "taxi = pd.read_csv(\"taxi_count.csv\", encoding=\"cp949\")\n",
    "taxi_raw = taxi.copy()"
   ]
  },
  {
   "cell_type": "code",
   "execution_count": null,
   "metadata": {},
   "outputs": [],
   "source": [
    "#정제 및 index설정\n",
    "taxi.drop(\"Unnamed: 0\",axis=1, inplace =True)\n",
    "taxi.rename(columns={\"Unnamed: 0\":\"T_LINK_ID\"},inplace=True)\n",
    "taxi.set_index(\"4\", inplace=True)"
   ]
  },
  {
   "cell_type": "code",
   "execution_count": null,
   "metadata": {},
   "outputs": [],
   "source": [
    "#sigungu코드를 불러온다1\n",
    "\n",
    "tt =pd.read_csv(\"location_merge.csv\", encoding=\"cp949\")"
   ]
  },
  {
   "cell_type": "code",
   "execution_count": null,
   "metadata": {},
   "outputs": [],
   "source": [
    "#sigungu코드 정제\n",
    "tt.drop([\"Unnamed: 0\", \"3\",\"4\"],axis=1 , inplace =True)\n",
    "tt.set_index(\"0\", inplace=True)\n",
    "tt_raw = tt.copy()"
   ]
  },
  {
   "cell_type": "code",
   "execution_count": null,
   "metadata": {},
   "outputs": [],
   "source": [
    "#sigungu코드와 합쳐준다.\n",
    "taxi_merge = pd.merge(tt,taxi, left_index=True, right_index=True)"
   ]
  },
  {
   "cell_type": "code",
   "execution_count": null,
   "metadata": {},
   "outputs": [],
   "source": [
    "# 합친 데이터 rename\n",
    "taxi_merge =taxi_merge.rename(columns={\"0\":\"si\",\"1_y\":\"gu\", \"2_y\":\"dong\", \"5_y\":\"longtitude\", \"6\":\"latitude\", \"5_x\":\"traffic\", \"2_x\":\"time\", \"1_x\":\"day\"})"
   ]
  },
  {
   "cell_type": "code",
   "execution_count": null,
   "metadata": {},
   "outputs": [],
   "source": [
    "pd.DataFrame(taxi_merge).to_csv(이름입력, encoding=\"utf-8\")\n",
    "#이름 taxi_merge_201708로 수정함 "
   ]
  }
 ],
 "metadata": {
  "kernelspec": {
   "display_name": "Python 3",
   "language": "python",
   "name": "python3"
  },
  "language_info": {
   "codemirror_mode": {
    "name": "ipython",
    "version": 3
   },
   "file_extension": ".py",
   "mimetype": "text/x-python",
   "name": "python",
   "nbconvert_exporter": "python",
   "pygments_lexer": "ipython3",
   "version": "3.7.3"
  }
 },
 "nbformat": 4,
 "nbformat_minor": 2
}
