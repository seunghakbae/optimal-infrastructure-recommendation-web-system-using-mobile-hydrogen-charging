{
 "cells": [
  {
   "cell_type": "code",
   "execution_count": 1,
   "metadata": {},
   "outputs": [
    {
     "ename": "SyntaxError",
     "evalue": "invalid syntax (<ipython-input-1-e9e1dff1d3df>, line 6)",
     "output_type": "error",
     "traceback": [
      "\u001b[1;36m  File \u001b[1;32m\"<ipython-input-1-e9e1dff1d3df>\"\u001b[1;36m, line \u001b[1;32m6\u001b[0m\n\u001b[1;33m    전기충전소 위치\u001b[0m\n\u001b[1;37m           ^\u001b[0m\n\u001b[1;31mSyntaxError\u001b[0m\u001b[1;31m:\u001b[0m invalid syntax\n"
     ]
    }
   ],
   "source": [
    "아파트 \n",
    "사업체\n",
    "유통업체\n",
    "기초생활수급자\n",
    "수소충전소위치\n",
    "전기충전소 위치\n",
    "수입차\n",
    "교통량"
   ]
  },
  {
   "cell_type": "code",
   "execution_count": 2,
   "metadata": {},
   "outputs": [],
   "source": [
    "import seaborn as sns\n",
    "import matplotlib.pyplot as plt \n",
    "import matplotlib.font_manager as fm\n",
    "font_list = fm.findSystemFonts(fontpaths=None, fontext='ttf')\n",
    "\n",
    "from matplotlib import rc, font_manager\n",
    "\n",
    "rc('font', family='NanumGothic')"
   ]
  },
  {
   "cell_type": "markdown",
   "metadata": {},
   "source": [
    "[사업체 데이터] - 조경아 EDA\n",
    "연령대별 사업체 현황(동마다 대표자수,직원수)\n",
    "동별 사업체 현황(동마다 직원수, 사업체수)\n",
    "서울시 유통업체 현황(동별 백화점, 대형마트 수)"
   ]
  },
  {
   "cell_type": "code",
   "execution_count": 3,
   "metadata": {
    "scrolled": true
   },
   "outputs": [
    {
     "name": "stdout",
     "output_type": "stream",
     "text": [
      "aptapt.xlsx\n",
      "aptapt1.xlsx\n",
      "big_building_4.csv\n",
      "dong.csv\n",
      "dong_1.csv\n",
      "found_big_building_coor\n",
      "geocode_4.ipynb\n",
      "gugugu.csv\n",
      "missing_big_building_coor\n",
      "piddam.csv\n",
      "x값.ipynb\n",
      "★(월간)KB주택가격동향_시계열(2019.07)(2003버전).xls\n",
      "구별 수입차.txt\n",
      "서울시 국민기초생활보장 수급자 (동별) 통계.txt\n",
      "서울시 대표자 연령대별 사업체 현황 (동별) 통계.txt\n",
      "서울시 사업체현황.txt\n",
      "서울시 유통업체현황 (동별) 통계 .txt\n",
      "시세통계_면적당평균가_201907기준(2003버전).xls\n",
      "전국전기차충전소표준데이터.csv\n",
      "주택종류별_주택통계.txt\n",
      "행정동.csv\n",
      "행정동.txt\n",
      "행정동분류.csv\n"
     ]
    }
   ],
   "source": [
    "import glob, os\n",
    "os.chdir(\"C:/Users/Cho Gyung Ah/Documents/GitHub/Hydrogen-Vehicle/Data/data\")\n",
    "for file in glob.glob(\"*\"):\n",
    "    print(file)"
   ]
  },
  {
   "cell_type": "code",
   "execution_count": 4,
   "metadata": {},
   "outputs": [],
   "source": [
    "import pandas as pd"
   ]
  },
  {
   "cell_type": "code",
   "execution_count": 5,
   "metadata": {
    "scrolled": true
   },
   "outputs": [
    {
     "data": {
      "text/plain": [
       "424"
      ]
     },
     "execution_count": 5,
     "metadata": {},
     "output_type": "execute_result"
    }
   ],
   "source": [
    "450 - 25-1"
   ]
  },
  {
   "cell_type": "markdown",
   "metadata": {},
   "source": [
    "# 행정동 기준"
   ]
  },
  {
   "cell_type": "code",
   "execution_count": 6,
   "metadata": {},
   "outputs": [],
   "source": [
    "#2018년 데이터\n",
    "index1 = pd.read_csv(\"행정동.txt\", sep='\\t', usecols=[1,2,3])"
   ]
  },
  {
   "cell_type": "code",
   "execution_count": 7,
   "metadata": {},
   "outputs": [],
   "source": [
    "index1=index1[index1.동 != '합계']\n",
    "index1=index1[index1.동 != '본청']\n",
    "index1=index1[index1.동 != '소계']\n",
    "index1=index1[index1.동 != '기타']\n",
    "index1=index1[index1.동 != '동']"
   ]
  },
  {
   "cell_type": "code",
   "execution_count": 8,
   "metadata": {
    "scrolled": true
   },
   "outputs": [
    {
     "data": {
      "text/html": [
       "<div>\n",
       "<style scoped>\n",
       "    .dataframe tbody tr th:only-of-type {\n",
       "        vertical-align: middle;\n",
       "    }\n",
       "\n",
       "    .dataframe tbody tr th {\n",
       "        vertical-align: top;\n",
       "    }\n",
       "\n",
       "    .dataframe thead th {\n",
       "        text-align: right;\n",
       "    }\n",
       "</style>\n",
       "<table border=\"1\" class=\"dataframe\">\n",
       "  <thead>\n",
       "    <tr style=\"text-align: right;\">\n",
       "      <th></th>\n",
       "      <th>자치구</th>\n",
       "      <th>동</th>\n",
       "      <th>면적</th>\n",
       "    </tr>\n",
       "  </thead>\n",
       "  <tbody>\n",
       "    <tr>\n",
       "      <th>3</th>\n",
       "      <td>종로구</td>\n",
       "      <td>사직동</td>\n",
       "      <td>1.23</td>\n",
       "    </tr>\n",
       "    <tr>\n",
       "      <th>4</th>\n",
       "      <td>종로구</td>\n",
       "      <td>삼청동</td>\n",
       "      <td>1.49</td>\n",
       "    </tr>\n",
       "    <tr>\n",
       "      <th>5</th>\n",
       "      <td>종로구</td>\n",
       "      <td>부암동</td>\n",
       "      <td>2.27</td>\n",
       "    </tr>\n",
       "    <tr>\n",
       "      <th>6</th>\n",
       "      <td>종로구</td>\n",
       "      <td>평창동</td>\n",
       "      <td>8.87</td>\n",
       "    </tr>\n",
       "    <tr>\n",
       "      <th>7</th>\n",
       "      <td>종로구</td>\n",
       "      <td>무악동</td>\n",
       "      <td>0.36</td>\n",
       "    </tr>\n",
       "  </tbody>\n",
       "</table>\n",
       "</div>"
      ],
      "text/plain": [
       "   자치구    동    면적\n",
       "3  종로구  사직동  1.23\n",
       "4  종로구  삼청동  1.49\n",
       "5  종로구  부암동  2.27\n",
       "6  종로구  평창동  8.87\n",
       "7  종로구  무악동  0.36"
      ]
     },
     "execution_count": 8,
     "metadata": {},
     "output_type": "execute_result"
    }
   ],
   "source": [
    "index1.head()"
   ]
  },
  {
   "cell_type": "code",
   "execution_count": 9,
   "metadata": {},
   "outputs": [
    {
     "data": {
      "text/plain": [
       "Index(['자치구', '동', '면적'], dtype='object')"
      ]
     },
     "execution_count": 9,
     "metadata": {},
     "output_type": "execute_result"
    }
   ],
   "source": [
    "index1.columns"
   ]
  },
  {
   "cell_type": "code",
   "execution_count": 10,
   "metadata": {},
   "outputs": [
    {
     "data": {
      "text/html": [
       "<div>\n",
       "<style scoped>\n",
       "    .dataframe tbody tr th:only-of-type {\n",
       "        vertical-align: middle;\n",
       "    }\n",
       "\n",
       "    .dataframe tbody tr th {\n",
       "        vertical-align: top;\n",
       "    }\n",
       "\n",
       "    .dataframe thead th {\n",
       "        text-align: right;\n",
       "    }\n",
       "</style>\n",
       "<table border=\"1\" class=\"dataframe\">\n",
       "  <thead>\n",
       "    <tr style=\"text-align: right;\">\n",
       "      <th></th>\n",
       "      <th>자치구</th>\n",
       "      <th>동</th>\n",
       "      <th>면적</th>\n",
       "    </tr>\n",
       "  </thead>\n",
       "  <tbody>\n",
       "    <tr>\n",
       "      <th>382</th>\n",
       "      <td>강남구</td>\n",
       "      <td>신사동</td>\n",
       "      <td>1.89</td>\n",
       "    </tr>\n",
       "  </tbody>\n",
       "</table>\n",
       "</div>"
      ],
      "text/plain": [
       "     자치구    동    면적\n",
       "382  강남구  신사동  1.89"
      ]
     },
     "execution_count": 10,
     "metadata": {},
     "output_type": "execute_result"
    }
   ],
   "source": [
    "index1[index1.duplicated(subset=['동'], keep='first')].sort_values(by='동')"
   ]
  },
  {
   "cell_type": "code",
   "execution_count": 11,
   "metadata": {
    "scrolled": true
   },
   "outputs": [
    {
     "data": {
      "text/html": [
       "<div>\n",
       "<style scoped>\n",
       "    .dataframe tbody tr th:only-of-type {\n",
       "        vertical-align: middle;\n",
       "    }\n",
       "\n",
       "    .dataframe tbody tr th {\n",
       "        vertical-align: top;\n",
       "    }\n",
       "\n",
       "    .dataframe thead th {\n",
       "        text-align: right;\n",
       "    }\n",
       "</style>\n",
       "<table border=\"1\" class=\"dataframe\">\n",
       "  <thead>\n",
       "    <tr style=\"text-align: right;\">\n",
       "      <th></th>\n",
       "      <th>자치구</th>\n",
       "      <th>동</th>\n",
       "      <th>면적</th>\n",
       "    </tr>\n",
       "  </thead>\n",
       "  <tbody>\n",
       "    <tr>\n",
       "      <th>351</th>\n",
       "      <td>관악구</td>\n",
       "      <td>신사동</td>\n",
       "      <td>1.38</td>\n",
       "    </tr>\n",
       "    <tr>\n",
       "      <th>382</th>\n",
       "      <td>강남구</td>\n",
       "      <td>신사동</td>\n",
       "      <td>1.89</td>\n",
       "    </tr>\n",
       "  </tbody>\n",
       "</table>\n",
       "</div>"
      ],
      "text/plain": [
       "     자치구    동    면적\n",
       "351  관악구  신사동  1.38\n",
       "382  강남구  신사동  1.89"
      ]
     },
     "execution_count": 11,
     "metadata": {},
     "output_type": "execute_result"
    }
   ],
   "source": [
    "index1[(index1.동=='신사동')]"
   ]
  },
  {
   "cell_type": "code",
   "execution_count": 12,
   "metadata": {},
   "outputs": [
    {
     "data": {
      "text/plain": [
       "424"
      ]
     },
     "execution_count": 12,
     "metadata": {},
     "output_type": "execute_result"
    }
   ],
   "source": [
    "len(index1)"
   ]
  },
  {
   "cell_type": "code",
   "execution_count": 13,
   "metadata": {
    "scrolled": true
   },
   "outputs": [],
   "source": [
    "index1.to_csv('행정동.csv')"
   ]
  },
  {
   "cell_type": "markdown",
   "metadata": {},
   "source": [
    "## 구입수입차"
   ]
  },
  {
   "cell_type": "code",
   "execution_count": 14,
   "metadata": {},
   "outputs": [],
   "source": [
    "imp_car = pd.read_csv(\"구별 수입차.txt\", sep='\\t')"
   ]
  },
  {
   "cell_type": "code",
   "execution_count": 15,
   "metadata": {},
   "outputs": [
    {
     "data": {
      "text/html": [
       "<div>\n",
       "<style scoped>\n",
       "    .dataframe tbody tr th:only-of-type {\n",
       "        vertical-align: middle;\n",
       "    }\n",
       "\n",
       "    .dataframe tbody tr th {\n",
       "        vertical-align: top;\n",
       "    }\n",
       "\n",
       "    .dataframe thead th {\n",
       "        text-align: right;\n",
       "    }\n",
       "</style>\n",
       "<table border=\"1\" class=\"dataframe\">\n",
       "  <thead>\n",
       "    <tr style=\"text-align: right;\">\n",
       "      <th></th>\n",
       "      <th>기간</th>\n",
       "      <th>자치구별</th>\n",
       "      <th>합계</th>\n",
       "      <th>승용차</th>\n",
       "      <th>승합차</th>\n",
       "      <th>화물차</th>\n",
       "      <th>특수차</th>\n",
       "    </tr>\n",
       "  </thead>\n",
       "  <tbody>\n",
       "    <tr>\n",
       "      <th>0</th>\n",
       "      <td>2018.12</td>\n",
       "      <td>합계</td>\n",
       "      <td>483,823</td>\n",
       "      <td>478,139</td>\n",
       "      <td>1,652</td>\n",
       "      <td>3,210</td>\n",
       "      <td>822</td>\n",
       "    </tr>\n",
       "    <tr>\n",
       "      <th>1</th>\n",
       "      <td>2018.12</td>\n",
       "      <td>종로구</td>\n",
       "      <td>9,497</td>\n",
       "      <td>9,329</td>\n",
       "      <td>71</td>\n",
       "      <td>59</td>\n",
       "      <td>38</td>\n",
       "    </tr>\n",
       "    <tr>\n",
       "      <th>2</th>\n",
       "      <td>2018.12</td>\n",
       "      <td>중구</td>\n",
       "      <td>11,403</td>\n",
       "      <td>11,142</td>\n",
       "      <td>67</td>\n",
       "      <td>144</td>\n",
       "      <td>50</td>\n",
       "    </tr>\n",
       "    <tr>\n",
       "      <th>3</th>\n",
       "      <td>2018.12</td>\n",
       "      <td>용산구</td>\n",
       "      <td>22,513</td>\n",
       "      <td>22,317</td>\n",
       "      <td>59</td>\n",
       "      <td>131</td>\n",
       "      <td>6</td>\n",
       "    </tr>\n",
       "    <tr>\n",
       "      <th>4</th>\n",
       "      <td>2018.12</td>\n",
       "      <td>성동구</td>\n",
       "      <td>21,312</td>\n",
       "      <td>21,132</td>\n",
       "      <td>78</td>\n",
       "      <td>91</td>\n",
       "      <td>11</td>\n",
       "    </tr>\n",
       "  </tbody>\n",
       "</table>\n",
       "</div>"
      ],
      "text/plain": [
       "        기간 자치구별       합계      승용차    승합차    화물차  특수차\n",
       "0  2018.12   합계  483,823  478,139  1,652  3,210  822\n",
       "1  2018.12  종로구    9,497    9,329     71     59   38\n",
       "2  2018.12   중구   11,403   11,142     67    144   50\n",
       "3  2018.12  용산구   22,513   22,317     59    131    6\n",
       "4  2018.12  성동구   21,312   21,132     78     91   11"
      ]
     },
     "execution_count": 15,
     "metadata": {},
     "output_type": "execute_result"
    }
   ],
   "source": [
    "imp_car.head()"
   ]
  },
  {
   "cell_type": "code",
   "execution_count": 16,
   "metadata": {},
   "outputs": [],
   "source": [
    "imp_car=imp_car[imp_car.자치구별 != '합계']\n",
    "imp_car=imp_car[imp_car.자치구별 != '본청']\n",
    "imp_car=imp_car[imp_car.자치구별 != '소계']\n",
    "imp_car=imp_car[imp_car.자치구별 != '기타']"
   ]
  },
  {
   "cell_type": "code",
   "execution_count": 17,
   "metadata": {
    "scrolled": false
   },
   "outputs": [],
   "source": [
    "imp_car=imp_car[['자치구별', '합계', '승용차', '승합차', '화물차', '특수차']]"
   ]
  },
  {
   "cell_type": "code",
   "execution_count": 18,
   "metadata": {},
   "outputs": [],
   "source": [
    "imp_car.columns=['자치구', '합계', '승용차', '승합차', '화물차', '특수차']"
   ]
  },
  {
   "cell_type": "code",
   "execution_count": 19,
   "metadata": {
    "scrolled": false
   },
   "outputs": [
    {
     "name": "stdout",
     "output_type": "stream",
     "text": [
      "<class 'pandas.core.frame.DataFrame'>\n",
      "Int64Index: 25 entries, 1 to 25\n",
      "Data columns (total 6 columns):\n",
      "자치구    25 non-null object\n",
      "합계     25 non-null object\n",
      "승용차    25 non-null object\n",
      "승합차    25 non-null object\n",
      "화물차    25 non-null object\n",
      "특수차    25 non-null int64\n",
      "dtypes: int64(1), object(5)\n",
      "memory usage: 1.4+ KB\n"
     ]
    }
   ],
   "source": [
    "imp_car.info()"
   ]
  },
  {
   "cell_type": "code",
   "execution_count": 20,
   "metadata": {},
   "outputs": [],
   "source": [
    "imp_car.iloc[:,1:] = imp_car.iloc[:,1:].replace({',': ''}, regex=True)"
   ]
  },
  {
   "cell_type": "code",
   "execution_count": 21,
   "metadata": {},
   "outputs": [],
   "source": [
    "imp_car.iloc[:,1:] = imp_car.iloc[:,1:].astype('float')"
   ]
  },
  {
   "cell_type": "code",
   "execution_count": 22,
   "metadata": {
    "scrolled": true
   },
   "outputs": [
    {
     "data": {
      "text/html": [
       "<div>\n",
       "<style scoped>\n",
       "    .dataframe tbody tr th:only-of-type {\n",
       "        vertical-align: middle;\n",
       "    }\n",
       "\n",
       "    .dataframe tbody tr th {\n",
       "        vertical-align: top;\n",
       "    }\n",
       "\n",
       "    .dataframe thead th {\n",
       "        text-align: right;\n",
       "    }\n",
       "</style>\n",
       "<table border=\"1\" class=\"dataframe\">\n",
       "  <thead>\n",
       "    <tr style=\"text-align: right;\">\n",
       "      <th></th>\n",
       "      <th>합계</th>\n",
       "      <th>승용차</th>\n",
       "      <th>승합차</th>\n",
       "      <th>화물차</th>\n",
       "      <th>특수차</th>\n",
       "    </tr>\n",
       "  </thead>\n",
       "  <tbody>\n",
       "    <tr>\n",
       "      <th>합계</th>\n",
       "      <td>1.000000</td>\n",
       "      <td>0.999990</td>\n",
       "      <td>0.934914</td>\n",
       "      <td>0.757772</td>\n",
       "      <td>0.253239</td>\n",
       "    </tr>\n",
       "    <tr>\n",
       "      <th>승용차</th>\n",
       "      <td>0.999990</td>\n",
       "      <td>1.000000</td>\n",
       "      <td>0.934910</td>\n",
       "      <td>0.755467</td>\n",
       "      <td>0.249646</td>\n",
       "    </tr>\n",
       "    <tr>\n",
       "      <th>승합차</th>\n",
       "      <td>0.934914</td>\n",
       "      <td>0.934910</td>\n",
       "      <td>1.000000</td>\n",
       "      <td>0.674001</td>\n",
       "      <td>0.178706</td>\n",
       "    </tr>\n",
       "    <tr>\n",
       "      <th>화물차</th>\n",
       "      <td>0.757772</td>\n",
       "      <td>0.755467</td>\n",
       "      <td>0.674001</td>\n",
       "      <td>1.000000</td>\n",
       "      <td>0.431004</td>\n",
       "    </tr>\n",
       "    <tr>\n",
       "      <th>특수차</th>\n",
       "      <td>0.253239</td>\n",
       "      <td>0.249646</td>\n",
       "      <td>0.178706</td>\n",
       "      <td>0.431004</td>\n",
       "      <td>1.000000</td>\n",
       "    </tr>\n",
       "  </tbody>\n",
       "</table>\n",
       "</div>"
      ],
      "text/plain": [
       "           합계       승용차       승합차       화물차       특수차\n",
       "합계   1.000000  0.999990  0.934914  0.757772  0.253239\n",
       "승용차  0.999990  1.000000  0.934910  0.755467  0.249646\n",
       "승합차  0.934914  0.934910  1.000000  0.674001  0.178706\n",
       "화물차  0.757772  0.755467  0.674001  1.000000  0.431004\n",
       "특수차  0.253239  0.249646  0.178706  0.431004  1.000000"
      ]
     },
     "execution_count": 22,
     "metadata": {},
     "output_type": "execute_result"
    }
   ],
   "source": [
    "imp_car.corr()"
   ]
  },
  {
   "cell_type": "code",
   "execution_count": 23,
   "metadata": {},
   "outputs": [],
   "source": [
    "imp_car=imp_car[['자치구', '합계','화물차', '특수차']]"
   ]
  },
  {
   "cell_type": "code",
   "execution_count": 24,
   "metadata": {},
   "outputs": [],
   "source": [
    "imp_car.columns=['자치구', '수입차합계','수입화물차', '수입특수차']"
   ]
  },
  {
   "cell_type": "markdown",
   "metadata": {},
   "source": [
    "# company"
   ]
  },
  {
   "cell_type": "code",
   "execution_count": 25,
   "metadata": {
    "scrolled": true
   },
   "outputs": [],
   "source": [
    "company = pd.read_csv('서울시 사업체현황.txt', delimiter=\"\t\", header=[0,2])"
   ]
  },
  {
   "cell_type": "code",
   "execution_count": 26,
   "metadata": {
    "scrolled": true
   },
   "outputs": [
    {
     "data": {
      "text/html": [
       "<div>\n",
       "<style scoped>\n",
       "    .dataframe tbody tr th:only-of-type {\n",
       "        vertical-align: middle;\n",
       "    }\n",
       "\n",
       "    .dataframe tbody tr th {\n",
       "        vertical-align: top;\n",
       "    }\n",
       "\n",
       "    .dataframe thead tr th {\n",
       "        text-align: left;\n",
       "    }\n",
       "</style>\n",
       "<table border=\"1\" class=\"dataframe\">\n",
       "  <thead>\n",
       "    <tr>\n",
       "      <th></th>\n",
       "      <th>기간</th>\n",
       "      <th>자치구</th>\n",
       "      <th>동</th>\n",
       "      <th colspan=\"5\" halign=\"left\">합계</th>\n",
       "      <th colspan=\"2\" halign=\"left\">농업 임업 및 어업</th>\n",
       "      <th>...</th>\n",
       "      <th colspan=\"2\" halign=\"left\">공공행정 국방 및 사회보장 행정</th>\n",
       "      <th colspan=\"2\" halign=\"left\">교육 서비스업</th>\n",
       "      <th colspan=\"2\" halign=\"left\">보건업 및 사회복지 서비스업</th>\n",
       "      <th colspan=\"2\" halign=\"left\">예술 스포츠 및 여가관련 서비스업</th>\n",
       "      <th colspan=\"2\" halign=\"left\">협회 및 단체 수리 및 기타 개인 서비스업</th>\n",
       "    </tr>\n",
       "    <tr>\n",
       "      <th></th>\n",
       "      <th>기간</th>\n",
       "      <th>자치구</th>\n",
       "      <th>동</th>\n",
       "      <th>사업체수</th>\n",
       "      <th>여성대표자</th>\n",
       "      <th>계</th>\n",
       "      <th>남</th>\n",
       "      <th>여</th>\n",
       "      <th>사업체수</th>\n",
       "      <th>종사자수</th>\n",
       "      <th>...</th>\n",
       "      <th>사업체수</th>\n",
       "      <th>종사자수</th>\n",
       "      <th>사업체수</th>\n",
       "      <th>종사자수</th>\n",
       "      <th>사업체수</th>\n",
       "      <th>종사자수</th>\n",
       "      <th>사업체수</th>\n",
       "      <th>종사자수</th>\n",
       "      <th>사업체수</th>\n",
       "      <th>종사자수</th>\n",
       "    </tr>\n",
       "  </thead>\n",
       "  <tbody>\n",
       "    <tr>\n",
       "      <th>0</th>\n",
       "      <td>2017</td>\n",
       "      <td>합계</td>\n",
       "      <td>합계</td>\n",
       "      <td>822,863</td>\n",
       "      <td>278,152</td>\n",
       "      <td>5,119,913</td>\n",
       "      <td>2,848,150</td>\n",
       "      <td>2,271,763</td>\n",
       "      <td>29</td>\n",
       "      <td>469</td>\n",
       "      <td>...</td>\n",
       "      <td>1,296</td>\n",
       "      <td>138,150</td>\n",
       "      <td>34,762</td>\n",
       "      <td>341,732</td>\n",
       "      <td>28,683</td>\n",
       "      <td>358,563</td>\n",
       "      <td>22,913</td>\n",
       "      <td>86,452</td>\n",
       "      <td>69,637</td>\n",
       "      <td>190,963</td>\n",
       "    </tr>\n",
       "    <tr>\n",
       "      <th>1</th>\n",
       "      <td>2017</td>\n",
       "      <td>종로구</td>\n",
       "      <td>소계</td>\n",
       "      <td>40,490</td>\n",
       "      <td>13,577</td>\n",
       "      <td>268,702</td>\n",
       "      <td>154,100</td>\n",
       "      <td>114,602</td>\n",
       "      <td>3</td>\n",
       "      <td>30</td>\n",
       "      <td>...</td>\n",
       "      <td>90</td>\n",
       "      <td>16,504</td>\n",
       "      <td>852</td>\n",
       "      <td>13,317</td>\n",
       "      <td>732</td>\n",
       "      <td>15,954</td>\n",
       "      <td>926</td>\n",
       "      <td>6,198</td>\n",
       "      <td>2,506</td>\n",
       "      <td>8,275</td>\n",
       "    </tr>\n",
       "    <tr>\n",
       "      <th>2</th>\n",
       "      <td>2017</td>\n",
       "      <td>종로구</td>\n",
       "      <td>사직동</td>\n",
       "      <td>3,544</td>\n",
       "      <td>1,147</td>\n",
       "      <td>52,489</td>\n",
       "      <td>31,029</td>\n",
       "      <td>21,460</td>\n",
       "      <td>1</td>\n",
       "      <td>16</td>\n",
       "      <td>...</td>\n",
       "      <td>19</td>\n",
       "      <td>7,667</td>\n",
       "      <td>86</td>\n",
       "      <td>898</td>\n",
       "      <td>97</td>\n",
       "      <td>764</td>\n",
       "      <td>95</td>\n",
       "      <td>1,546</td>\n",
       "      <td>250</td>\n",
       "      <td>920</td>\n",
       "    </tr>\n",
       "    <tr>\n",
       "      <th>3</th>\n",
       "      <td>2017</td>\n",
       "      <td>종로구</td>\n",
       "      <td>삼청동</td>\n",
       "      <td>753</td>\n",
       "      <td>360</td>\n",
       "      <td>4,507</td>\n",
       "      <td>2,225</td>\n",
       "      <td>2,282</td>\n",
       "      <td>-</td>\n",
       "      <td>-</td>\n",
       "      <td>...</td>\n",
       "      <td>4</td>\n",
       "      <td>1,229</td>\n",
       "      <td>16</td>\n",
       "      <td>279</td>\n",
       "      <td>7</td>\n",
       "      <td>28</td>\n",
       "      <td>17</td>\n",
       "      <td>172</td>\n",
       "      <td>27</td>\n",
       "      <td>216</td>\n",
       "    </tr>\n",
       "    <tr>\n",
       "      <th>4</th>\n",
       "      <td>2017</td>\n",
       "      <td>종로구</td>\n",
       "      <td>부암동</td>\n",
       "      <td>567</td>\n",
       "      <td>235</td>\n",
       "      <td>4,147</td>\n",
       "      <td>2,137</td>\n",
       "      <td>2,010</td>\n",
       "      <td>-</td>\n",
       "      <td>-</td>\n",
       "      <td>...</td>\n",
       "      <td>3</td>\n",
       "      <td>58</td>\n",
       "      <td>43</td>\n",
       "      <td>1,543</td>\n",
       "      <td>12</td>\n",
       "      <td>153</td>\n",
       "      <td>15</td>\n",
       "      <td>73</td>\n",
       "      <td>94</td>\n",
       "      <td>806</td>\n",
       "    </tr>\n",
       "  </tbody>\n",
       "</table>\n",
       "<p>5 rows × 46 columns</p>\n",
       "</div>"
      ],
      "text/plain": [
       "     기간  자치구    동       합계                                            \\\n",
       "     기간  자치구    동     사업체수    여성대표자          계          남          여   \n",
       "0  2017   합계   합계  822,863  278,152  5,119,913  2,848,150  2,271,763   \n",
       "1  2017  종로구   소계   40,490   13,577    268,702    154,100    114,602   \n",
       "2  2017  종로구  사직동    3,544    1,147     52,489     31,029     21,460   \n",
       "3  2017  종로구  삼청동      753      360      4,507      2,225      2,282   \n",
       "4  2017  종로구  부암동      567      235      4,147      2,137      2,010   \n",
       "\n",
       "  농업 임업 및 어업       ... 공공행정 국방 및 사회보장 행정          교육 서비스업           \\\n",
       "        사업체수 종사자수  ...              사업체수     종사자수    사업체수     종사자수   \n",
       "0         29  469  ...             1,296  138,150  34,762  341,732   \n",
       "1          3   30  ...                90   16,504     852   13,317   \n",
       "2          1   16  ...                19    7,667      86      898   \n",
       "3          -    -  ...                 4    1,229      16      279   \n",
       "4          -    -  ...                 3       58      43    1,543   \n",
       "\n",
       "  보건업 및 사회복지 서비스업          예술 스포츠 및 여가관련 서비스업         협회 및 단체 수리 및 기타 개인 서비스업  \\\n",
       "             사업체수     종사자수               사업체수    종사자수                    사업체수   \n",
       "0          28,683  358,563             22,913  86,452                  69,637   \n",
       "1             732   15,954                926   6,198                   2,506   \n",
       "2              97      764                 95   1,546                     250   \n",
       "3               7       28                 17     172                      27   \n",
       "4              12      153                 15      73                      94   \n",
       "\n",
       "            \n",
       "      종사자수  \n",
       "0  190,963  \n",
       "1    8,275  \n",
       "2      920  \n",
       "3      216  \n",
       "4      806  \n",
       "\n",
       "[5 rows x 46 columns]"
      ]
     },
     "execution_count": 26,
     "metadata": {},
     "output_type": "execute_result"
    }
   ],
   "source": [
    "company.head()"
   ]
  },
  {
   "cell_type": "code",
   "execution_count": 27,
   "metadata": {},
   "outputs": [],
   "source": [
    "company.columns = ['_'.join(col) for col in company.columns.values]"
   ]
  },
  {
   "cell_type": "code",
   "execution_count": 28,
   "metadata": {},
   "outputs": [],
   "source": [
    "company.columns = ['기간', '자치구', '동', '합계_사업체수', '합계_여성대표자', '합계_계', '합계_남',\n",
    "       '합계_여', '농업 임업 및 어업_사업체수', '농업 임업 및 어업_종사자수', '광업_사업체수', '광업_종사자수',\n",
    "       '제조업_사업체수', '제조업_종사자수', '전기 가스 증기 및 공기조절 공급업_사업체수',\n",
    "       '전기 가스 증기 및 공기조절 공급업_종사자수', '수도 하수 및 폐기물 처리 원료 재생업_사업체수',\n",
    "       '수도 하수 및 폐기물 처리 원료 재생업_종사자수', '건설업_사업체수', '건설업_종사자수', '도매 및 소매업_사업체수',\n",
    "       '도매 및 소매업_종사자수', '운수 및 창고업_사업체수', '운수 및 창고업_종사자수', '숙박 및 음식점업_사업체수',\n",
    "       '숙박 및 음식점업_종사자수', '정보통신업_사업체수', '정보통신업_종사자수', '금융 및 보험업_사업체수',\n",
    "       '금융 및 보험업_종사자수', '부동산업_사업체수', '부동산업_종사자수', '전문 과학 및 기술 서비스업_사업체수',\n",
    "       '전문 과학 및 기술 서비스업_종사자수', '사업시설 관리 사업 지원 및 임대 서비스업_사업체수',\n",
    "       '사업시설 관리 사업 지원 및 임대 서비스업_종사자수', '공공행정 국방 및 사회보장 행정_사업체수',\n",
    "       '공공행정 국방 및 사회보장 행정_종사자수', '교육 서비스업_사업체수', '교육 서비스업_종사자수',\n",
    "       '보건업 및 사회복지 서비스업_사업체수', '보건업 및 사회복지 서비스업_종사자수',\n",
    "       '예술 스포츠 및 여가관련 서비스업_사업체수', '예술 스포츠 및 여가관련 서비스업_종사자수',\n",
    "       '협회 및 단체 수리 및 기타 개인 서비스업_사업체수', '협회 및 단체 수리 및 기타 개인 서비스업_종사자수']"
   ]
  },
  {
   "cell_type": "code",
   "execution_count": 29,
   "metadata": {
    "scrolled": true
   },
   "outputs": [
    {
     "name": "stdout",
     "output_type": "stream",
     "text": [
      "<class 'pandas.core.frame.DataFrame'>\n",
      "RangeIndex: 450 entries, 0 to 449\n",
      "Data columns (total 46 columns):\n",
      "기간                              450 non-null int64\n",
      "자치구                             450 non-null object\n",
      "동                               450 non-null object\n",
      "합계_사업체수                         450 non-null object\n",
      "합계_여성대표자                        450 non-null object\n",
      "합계_계                            450 non-null object\n",
      "합계_남                            450 non-null object\n",
      "합계_여                            450 non-null object\n",
      "농업 임업 및 어업_사업체수                 450 non-null object\n",
      "농업 임업 및 어업_종사자수                 450 non-null object\n",
      "광업_사업체수                         450 non-null object\n",
      "광업_종사자수                         450 non-null object\n",
      "제조업_사업체수                        450 non-null object\n",
      "제조업_종사자수                        450 non-null object\n",
      "전기 가스 증기 및 공기조절 공급업_사업체수        450 non-null object\n",
      "전기 가스 증기 및 공기조절 공급업_종사자수        450 non-null object\n",
      "수도 하수 및 폐기물 처리 원료 재생업_사업체수      450 non-null object\n",
      "수도 하수 및 폐기물 처리 원료 재생업_종사자수      450 non-null object\n",
      "건설업_사업체수                        450 non-null object\n",
      "건설업_종사자수                        450 non-null object\n",
      "도매 및 소매업_사업체수                   450 non-null object\n",
      "도매 및 소매업_종사자수                   450 non-null object\n",
      "운수 및 창고업_사업체수                   450 non-null object\n",
      "운수 및 창고업_종사자수                   450 non-null object\n",
      "숙박 및 음식점업_사업체수                  450 non-null object\n",
      "숙박 및 음식점업_종사자수                  450 non-null object\n",
      "정보통신업_사업체수                      450 non-null object\n",
      "정보통신업_종사자수                      450 non-null object\n",
      "금융 및 보험업_사업체수                   450 non-null object\n",
      "금융 및 보험업_종사자수                   450 non-null object\n",
      "부동산업_사업체수                       450 non-null object\n",
      "부동산업_종사자수                       450 non-null object\n",
      "전문 과학 및 기술 서비스업_사업체수            450 non-null object\n",
      "전문 과학 및 기술 서비스업_종사자수            450 non-null object\n",
      "사업시설 관리 사업 지원 및 임대 서비스업_사업체수    450 non-null object\n",
      "사업시설 관리 사업 지원 및 임대 서비스업_종사자수    450 non-null object\n",
      "공공행정 국방 및 사회보장 행정_사업체수          450 non-null object\n",
      "공공행정 국방 및 사회보장 행정_종사자수          450 non-null object\n",
      "교육 서비스업_사업체수                    450 non-null object\n",
      "교육 서비스업_종사자수                    450 non-null object\n",
      "보건업 및 사회복지 서비스업_사업체수            450 non-null object\n",
      "보건업 및 사회복지 서비스업_종사자수            450 non-null object\n",
      "예술 스포츠 및 여가관련 서비스업_사업체수         450 non-null object\n",
      "예술 스포츠 및 여가관련 서비스업_종사자수         450 non-null object\n",
      "협회 및 단체 수리 및 기타 개인 서비스업_사업체수    450 non-null object\n",
      "협회 및 단체 수리 및 기타 개인 서비스업_종사자수    450 non-null object\n",
      "dtypes: int64(1), object(45)\n",
      "memory usage: 161.8+ KB\n"
     ]
    }
   ],
   "source": [
    "company.info()"
   ]
  },
  {
   "cell_type": "code",
   "execution_count": 30,
   "metadata": {},
   "outputs": [],
   "source": [
    "from datetime import datetime"
   ]
  },
  {
   "cell_type": "code",
   "execution_count": 31,
   "metadata": {},
   "outputs": [],
   "source": [
    "cols = ['합계_사업체수', '합계_여성대표자', '합계_계', '합계_남',\n",
    "       '합계_여', '농업 임업 및 어업_사업체수', '농업 임업 및 어업_종사자수', '광업_사업체수', '광업_종사자수',\n",
    "       '제조업_사업체수', '제조업_종사자수', '전기 가스 증기 및 공기조절 공급업_사업체수',\n",
    "       '전기 가스 증기 및 공기조절 공급업_종사자수', '수도 하수 및 폐기물 처리 원료 재생업_사업체수',\n",
    "       '수도 하수 및 폐기물 처리 원료 재생업_종사자수', '건설업_사업체수', '건설업_종사자수', '도매 및 소매업_사업체수',\n",
    "       '도매 및 소매업_종사자수', '운수 및 창고업_사업체수', '운수 및 창고업_종사자수', '숙박 및 음식점업_사업체수',\n",
    "       '숙박 및 음식점업_종사자수', '정보통신업_사업체수', '정보통신업_종사자수', '금융 및 보험업_사업체수',\n",
    "       '금융 및 보험업_종사자수', '부동산업_사업체수', '부동산업_종사자수', '전문 과학 및 기술 서비스업_사업체수',\n",
    "       '전문 과학 및 기술 서비스업_종사자수', '사업시설 관리 사업 지원 및 임대 서비스업_사업체수',\n",
    "       '사업시설 관리 사업 지원 및 임대 서비스업_종사자수', '공공행정 국방 및 사회보장 행정_사업체수',\n",
    "       '공공행정 국방 및 사회보장 행정_종사자수', '교육 서비스업_사업체수', '교육 서비스업_종사자수',\n",
    "       '보건업 및 사회복지 서비스업_사업체수', '보건업 및 사회복지 서비스업_종사자수',\n",
    "       '예술 스포츠 및 여가관련 서비스업_사업체수', '예술 스포츠 및 여가관련 서비스업_종사자수',\n",
    "       '협회 및 단체 수리 및 기타 개인 서비스업_사업체수', '협회 및 단체 수리 및 기타 개인 서비스업_종사자수']\n",
    "\n",
    "# pass them to df.replace(), specifying each char and it's replacement:\n",
    "company[cols] = company[cols].replace({',': '', '-':'0'}, regex=True)"
   ]
  },
  {
   "cell_type": "code",
   "execution_count": 32,
   "metadata": {
    "scrolled": true
   },
   "outputs": [],
   "source": [
    "company.기간 = company.기간.astype('int')\n",
    "company.iloc[:,1:3] = company.iloc[:,1:3].astype('str')\n",
    "company.iloc[:,3:] = company.iloc[:,3:].astype('int')"
   ]
  },
  {
   "cell_type": "code",
   "execution_count": 33,
   "metadata": {
    "scrolled": true
   },
   "outputs": [
    {
     "name": "stdout",
     "output_type": "stream",
     "text": [
      "기간 결측치 수 : 0\n",
      "자치구 결측치 수 : 0\n",
      "동 결측치 수 : 0\n",
      "합계_사업체수 결측치 수 : 0\n",
      "합계_여성대표자 결측치 수 : 0\n",
      "합계_계 결측치 수 : 0\n",
      "합계_남 결측치 수 : 0\n",
      "합계_여 결측치 수 : 0\n",
      "농업 임업 및 어업_사업체수 결측치 수 : 0\n",
      "농업 임업 및 어업_종사자수 결측치 수 : 0\n",
      "광업_사업체수 결측치 수 : 0\n",
      "광업_종사자수 결측치 수 : 0\n",
      "제조업_사업체수 결측치 수 : 0\n",
      "제조업_종사자수 결측치 수 : 0\n",
      "전기 가스 증기 및 공기조절 공급업_사업체수 결측치 수 : 0\n",
      "전기 가스 증기 및 공기조절 공급업_종사자수 결측치 수 : 0\n",
      "수도 하수 및 폐기물 처리 원료 재생업_사업체수 결측치 수 : 0\n",
      "수도 하수 및 폐기물 처리 원료 재생업_종사자수 결측치 수 : 0\n",
      "건설업_사업체수 결측치 수 : 0\n",
      "건설업_종사자수 결측치 수 : 0\n",
      "도매 및 소매업_사업체수 결측치 수 : 0\n",
      "도매 및 소매업_종사자수 결측치 수 : 0\n",
      "운수 및 창고업_사업체수 결측치 수 : 0\n",
      "운수 및 창고업_종사자수 결측치 수 : 0\n",
      "숙박 및 음식점업_사업체수 결측치 수 : 0\n",
      "숙박 및 음식점업_종사자수 결측치 수 : 0\n",
      "정보통신업_사업체수 결측치 수 : 0\n",
      "정보통신업_종사자수 결측치 수 : 0\n",
      "금융 및 보험업_사업체수 결측치 수 : 0\n",
      "금융 및 보험업_종사자수 결측치 수 : 0\n",
      "부동산업_사업체수 결측치 수 : 0\n",
      "부동산업_종사자수 결측치 수 : 0\n",
      "전문 과학 및 기술 서비스업_사업체수 결측치 수 : 0\n",
      "전문 과학 및 기술 서비스업_종사자수 결측치 수 : 0\n",
      "사업시설 관리 사업 지원 및 임대 서비스업_사업체수 결측치 수 : 0\n",
      "사업시설 관리 사업 지원 및 임대 서비스업_종사자수 결측치 수 : 0\n",
      "공공행정 국방 및 사회보장 행정_사업체수 결측치 수 : 0\n",
      "공공행정 국방 및 사회보장 행정_종사자수 결측치 수 : 0\n",
      "교육 서비스업_사업체수 결측치 수 : 0\n",
      "교육 서비스업_종사자수 결측치 수 : 0\n",
      "보건업 및 사회복지 서비스업_사업체수 결측치 수 : 0\n",
      "보건업 및 사회복지 서비스업_종사자수 결측치 수 : 0\n",
      "예술 스포츠 및 여가관련 서비스업_사업체수 결측치 수 : 0\n",
      "예술 스포츠 및 여가관련 서비스업_종사자수 결측치 수 : 0\n",
      "협회 및 단체 수리 및 기타 개인 서비스업_사업체수 결측치 수 : 0\n",
      "협회 및 단체 수리 및 기타 개인 서비스업_종사자수 결측치 수 : 0\n"
     ]
    }
   ],
   "source": [
    "for i in range(len(company.columns)) :\n",
    "    print(list(company.columns)[i],\"결측치 수 :\",sum(company[list(company.columns)[i]].isnull()))"
   ]
  },
  {
   "cell_type": "code",
   "execution_count": 34,
   "metadata": {},
   "outputs": [],
   "source": [
    "a = company.corr()"
   ]
  },
  {
   "cell_type": "code",
   "execution_count": 35,
   "metadata": {
    "scrolled": true
   },
   "outputs": [
    {
     "data": {
      "text/plain": [
       "합계_사업체수                         1.000000\n",
       "합계_여성대표자                        0.999701\n",
       "숙박 및 음식점업_사업체수                  0.998618\n",
       "숙박 및 음식점업_종사자수                  0.997924\n",
       "협회 및 단체 수리 및 기타 개인 서비스업_종사자수    0.997900\n",
       "합계_여                            0.997806\n",
       "협회 및 단체 수리 및 기타 개인 서비스업_사업체수    0.997739\n",
       "예술 스포츠 및 여가관련 서비스업_사업체수         0.997196\n",
       "합계_계                            0.997100\n",
       "공공행정 국방 및 사회보장 행정_사업체수          0.997045\n",
       "보건업 및 사회복지 서비스업_사업체수            0.996794\n",
       "부동산업_사업체수                       0.996755\n",
       "합계_남                            0.996241\n",
       "예술 스포츠 및 여가관련 서비스업_종사자수         0.995987\n",
       "건설업_사업체수                        0.995973\n",
       "도매 및 소매업_사업체수                   0.995799\n",
       "보건업 및 사회복지 서비스업_종사자수            0.995792\n",
       "도매 및 소매업_종사자수                   0.995772\n",
       "사업시설 관리 사업 지원 및 임대 서비스업_사업체수    0.995734\n",
       "교육 서비스업_사업체수                    0.994474\n",
       "교육 서비스업_종사자수                    0.994027\n",
       "수도 하수 및 폐기물 처리 원료 재생업_사업체수      0.992551\n",
       "부동산업_종사자수                       0.992161\n",
       "운수 및 창고업_사업체수                   0.990217\n",
       "금융 및 보험업_사업체수                   0.989897\n",
       "수도 하수 및 폐기물 처리 원료 재생업_종사자수      0.989220\n",
       "사업시설 관리 사업 지원 및 임대 서비스업_종사자수    0.988954\n",
       "전기 가스 증기 및 공기조절 공급업_사업체수        0.987040\n",
       "제조업_사업체수                        0.986025\n",
       "공공행정 국방 및 사회보장 행정_종사자수          0.985142\n",
       "제조업_종사자수                        0.983182\n",
       "건설업_종사자수                        0.982771\n",
       "전문 과학 및 기술 서비스업_사업체수            0.979917\n",
       "운수 및 창고업_종사자수                   0.979551\n",
       "정보통신업_종사자수                      0.978313\n",
       "전문 과학 및 기술 서비스업_종사자수            0.977731\n",
       "정보통신업_사업체수                      0.977521\n",
       "금융 및 보험업_종사자수                   0.963337\n",
       "전기 가스 증기 및 공기조절 공급업_종사자수        0.962735\n",
       "광업_사업체수                         0.950461\n",
       "농업 임업 및 어업_사업체수                 0.937838\n",
       "광업_종사자수                         0.914578\n",
       "농업 임업 및 어업_종사자수                 0.791743\n",
       "기간                                   NaN\n",
       "Name: 합계_사업체수, dtype: float64"
      ]
     },
     "execution_count": 35,
     "metadata": {},
     "output_type": "execute_result"
    }
   ],
   "source": [
    "a.합계_사업체수.sort_values(ascending=False)"
   ]
  },
  {
   "cell_type": "code",
   "execution_count": 36,
   "metadata": {
    "scrolled": true
   },
   "outputs": [],
   "source": [
    "num_company = company[['자치구', '동', '합계_사업체수']]\n",
    "\n",
    "num_company=num_company[num_company.동 != '합계']\n",
    "\n",
    "num_company=num_company[num_company.동 != '소계']"
   ]
  },
  {
   "cell_type": "code",
   "execution_count": 37,
   "metadata": {
    "scrolled": true
   },
   "outputs": [
    {
     "data": {
      "text/plain": [
       "424"
      ]
     },
     "execution_count": 37,
     "metadata": {},
     "output_type": "execute_result"
    }
   ],
   "source": [
    "len(num_company)"
   ]
  },
  {
   "cell_type": "markdown",
   "metadata": {},
   "source": [
    "# Comany_ceo"
   ]
  },
  {
   "cell_type": "code",
   "execution_count": 38,
   "metadata": {
    "scrolled": true
   },
   "outputs": [],
   "source": [
    "com_ceo = pd.read_csv('서울시 대표자 연령대별 사업체 현황 (동별) 통계.txt', delimiter=\"\t\", header=[0,1])"
   ]
  },
  {
   "cell_type": "code",
   "execution_count": 39,
   "metadata": {},
   "outputs": [],
   "source": [
    "com_ceo.columns = ['_'.join(col) for col in com_ceo.columns.values]"
   ]
  },
  {
   "cell_type": "code",
   "execution_count": 40,
   "metadata": {
    "scrolled": true
   },
   "outputs": [
    {
     "data": {
      "text/plain": [
       "Index(['기간_기간', '자치구_자치구', '동_동', '합계_사업체수', '합계_종사자수', '20대 이하(29세 이하)_사업체수',\n",
       "       '20대 이하(29세 이하)_종사자수', '30대(30~39세)_사업체수', '30대(30~39세)_종사자수',\n",
       "       '40대(40~49세)_사업체수', '40대(40~49세)_종사자수', '50대(50~59세)_사업체수',\n",
       "       '50대(50~59세)_종사자수', '60대 이상(60세 이상)_사업체수', '60대 이상(60세 이상)_종사자수'],\n",
       "      dtype='object')"
      ]
     },
     "execution_count": 40,
     "metadata": {},
     "output_type": "execute_result"
    }
   ],
   "source": [
    "com_ceo.columns"
   ]
  },
  {
   "cell_type": "code",
   "execution_count": 41,
   "metadata": {},
   "outputs": [],
   "source": [
    "com_ceo.columns = ['기간', '자치구', '동', '합계_사업체수', '합계_종사자수', '20대 이하(29세 이하)_사업체수',\n",
    "       '20대 이하(29세 이하)_종사자수', '30대(30~39세)_사업체수', '30대(30~39세)_종사자수',\n",
    "       '40대(40~49세)_사업체수', '40대(40~49세)_종사자수', '50대(50~59세)_사업체수',\n",
    "       '50대(50~59세)_종사자수', '60대 이상(60세 이상)_사업체수', '60대 이상(60세 이상)_종사자수']"
   ]
  },
  {
   "cell_type": "code",
   "execution_count": 42,
   "metadata": {
    "scrolled": false
   },
   "outputs": [
    {
     "name": "stdout",
     "output_type": "stream",
     "text": [
      "<class 'pandas.core.frame.DataFrame'>\n",
      "RangeIndex: 450 entries, 0 to 449\n",
      "Data columns (total 15 columns):\n",
      "기간                     450 non-null int64\n",
      "자치구                    450 non-null object\n",
      "동                      450 non-null object\n",
      "합계_사업체수                450 non-null object\n",
      "합계_종사자수                450 non-null object\n",
      "20대 이하(29세 이하)_사업체수    450 non-null object\n",
      "20대 이하(29세 이하)_종사자수    450 non-null object\n",
      "30대(30~39세)_사업체수       450 non-null object\n",
      "30대(30~39세)_종사자수       450 non-null object\n",
      "40대(40~49세)_사업체수       450 non-null object\n",
      "40대(40~49세)_종사자수       450 non-null object\n",
      "50대(50~59세)_사업체수       450 non-null object\n",
      "50대(50~59세)_종사자수       450 non-null object\n",
      "60대 이상(60세 이상)_사업체수    450 non-null object\n",
      "60대 이상(60세 이상)_종사자수    450 non-null object\n",
      "dtypes: int64(1), object(14)\n",
      "memory usage: 52.8+ KB\n"
     ]
    }
   ],
   "source": [
    "com_ceo.info()"
   ]
  },
  {
   "cell_type": "code",
   "execution_count": 43,
   "metadata": {},
   "outputs": [],
   "source": [
    "cols = ['합계_사업체수', '합계_종사자수', '20대 이하(29세 이하)_사업체수',\n",
    "       '20대 이하(29세 이하)_종사자수', '30대(30~39세)_사업체수', '30대(30~39세)_종사자수',\n",
    "       '40대(40~49세)_사업체수', '40대(40~49세)_종사자수', '50대(50~59세)_사업체수',\n",
    "       '50대(50~59세)_종사자수', '60대 이상(60세 이상)_사업체수', '60대 이상(60세 이상)_종사자수']\n",
    "\n",
    "# pass them to df.replace(), specifying each char and it's replacement:\n",
    "com_ceo[cols] = com_ceo[cols].replace({',': '', '-':'0'}, regex=True)"
   ]
  },
  {
   "cell_type": "code",
   "execution_count": 44,
   "metadata": {
    "scrolled": true
   },
   "outputs": [],
   "source": [
    "com_ceo.기간 = com_ceo.기간.astype('int')\n",
    "com_ceo.iloc[:,1:3] = com_ceo.iloc[:,1:3].astype('str')\n",
    "com_ceo.iloc[:,3:] = com_ceo.iloc[:,3:].astype('int')"
   ]
  },
  {
   "cell_type": "code",
   "execution_count": 45,
   "metadata": {
    "scrolled": true
   },
   "outputs": [
    {
     "name": "stdout",
     "output_type": "stream",
     "text": [
      "기간 결측치 수 : 0\n",
      "자치구 결측치 수 : 0\n",
      "동 결측치 수 : 0\n",
      "합계_사업체수 결측치 수 : 0\n",
      "합계_종사자수 결측치 수 : 0\n",
      "20대 이하(29세 이하)_사업체수 결측치 수 : 0\n",
      "20대 이하(29세 이하)_종사자수 결측치 수 : 0\n",
      "30대(30~39세)_사업체수 결측치 수 : 0\n",
      "30대(30~39세)_종사자수 결측치 수 : 0\n",
      "40대(40~49세)_사업체수 결측치 수 : 0\n",
      "40대(40~49세)_종사자수 결측치 수 : 0\n",
      "50대(50~59세)_사업체수 결측치 수 : 0\n",
      "50대(50~59세)_종사자수 결측치 수 : 0\n",
      "60대 이상(60세 이상)_사업체수 결측치 수 : 0\n",
      "60대 이상(60세 이상)_종사자수 결측치 수 : 0\n"
     ]
    }
   ],
   "source": [
    "for i in range(len(com_ceo.columns)) :\n",
    "    print(list(com_ceo.columns)[i],\"결측치 수 :\",sum(com_ceo[list(com_ceo.columns)[i]].isnull()))"
   ]
  },
  {
   "cell_type": "code",
   "execution_count": 46,
   "metadata": {},
   "outputs": [],
   "source": [
    "a = com_ceo.corr()"
   ]
  },
  {
   "cell_type": "code",
   "execution_count": 47,
   "metadata": {
    "scrolled": false
   },
   "outputs": [
    {
     "data": {
      "text/plain": [
       "합계_사업체수                1.000000\n",
       "50대(50~59세)_사업체수       0.999855\n",
       "40대(40~49세)_사업체수       0.999646\n",
       "60대 이상(60세 이상)_사업체수    0.999160\n",
       "30대(30~39세)_사업체수       0.998711\n",
       "20대 이하(29세 이하)_사업체수    0.998622\n",
       "20대 이하(29세 이하)_종사자수    0.998259\n",
       "합계_종사자수                0.997100\n",
       "30대(30~39세)_종사자수       0.996909\n",
       "50대(50~59세)_종사자수       0.996615\n",
       "60대 이상(60세 이상)_종사자수    0.996121\n",
       "40대(40~49세)_종사자수       0.995954\n",
       "기간                          NaN\n",
       "Name: 합계_사업체수, dtype: float64"
      ]
     },
     "execution_count": 47,
     "metadata": {},
     "output_type": "execute_result"
    }
   ],
   "source": [
    "a.합계_사업체수.sort_values(ascending=False)"
   ]
  },
  {
   "cell_type": "markdown",
   "metadata": {},
   "source": [
    "- 상관관계 결과 각 변수들의 상광관계가 크므로 **대표자 사업체 수 & 사업체 수** 중에서 모든 변수들에 가장 큰 대표성을 갖는 **'합계_사업체수'** 를 선택하도록 한다. "
   ]
  },
  {
   "cell_type": "code",
   "execution_count": 48,
   "metadata": {},
   "outputs": [
    {
     "data": {
      "text/html": [
       "<div>\n",
       "<style scoped>\n",
       "    .dataframe tbody tr th:only-of-type {\n",
       "        vertical-align: middle;\n",
       "    }\n",
       "\n",
       "    .dataframe tbody tr th {\n",
       "        vertical-align: top;\n",
       "    }\n",
       "\n",
       "    .dataframe thead th {\n",
       "        text-align: right;\n",
       "    }\n",
       "</style>\n",
       "<table border=\"1\" class=\"dataframe\">\n",
       "  <thead>\n",
       "    <tr style=\"text-align: right;\">\n",
       "      <th></th>\n",
       "      <th>자치구</th>\n",
       "      <th>동</th>\n",
       "      <th>합계_사업체수</th>\n",
       "    </tr>\n",
       "  </thead>\n",
       "  <tbody>\n",
       "    <tr>\n",
       "      <th>2</th>\n",
       "      <td>종로구</td>\n",
       "      <td>사직동</td>\n",
       "      <td>3544</td>\n",
       "    </tr>\n",
       "    <tr>\n",
       "      <th>3</th>\n",
       "      <td>종로구</td>\n",
       "      <td>삼청동</td>\n",
       "      <td>753</td>\n",
       "    </tr>\n",
       "    <tr>\n",
       "      <th>4</th>\n",
       "      <td>종로구</td>\n",
       "      <td>부암동</td>\n",
       "      <td>567</td>\n",
       "    </tr>\n",
       "    <tr>\n",
       "      <th>5</th>\n",
       "      <td>종로구</td>\n",
       "      <td>평창동</td>\n",
       "      <td>739</td>\n",
       "    </tr>\n",
       "    <tr>\n",
       "      <th>6</th>\n",
       "      <td>종로구</td>\n",
       "      <td>무악동</td>\n",
       "      <td>531</td>\n",
       "    </tr>\n",
       "  </tbody>\n",
       "</table>\n",
       "</div>"
      ],
      "text/plain": [
       "   자치구    동  합계_사업체수\n",
       "2  종로구  사직동     3544\n",
       "3  종로구  삼청동      753\n",
       "4  종로구  부암동      567\n",
       "5  종로구  평창동      739\n",
       "6  종로구  무악동      531"
      ]
     },
     "execution_count": 48,
     "metadata": {},
     "output_type": "execute_result"
    }
   ],
   "source": [
    "num_company.head()"
   ]
  },
  {
   "cell_type": "markdown",
   "metadata": {},
   "source": [
    "# 국민기초생활보장"
   ]
  },
  {
   "cell_type": "code",
   "execution_count": 49,
   "metadata": {
    "scrolled": true
   },
   "outputs": [],
   "source": [
    "underGDP = pd.read_csv('서울시 국민기초생활보장 수급자 (동별) 통계.txt', delimiter=\"\t\", header = [0,1], engine='python',  encoding='utf-8')"
   ]
  },
  {
   "cell_type": "code",
   "execution_count": 50,
   "metadata": {
    "scrolled": true
   },
   "outputs": [
    {
     "data": {
      "text/html": [
       "<div>\n",
       "<style scoped>\n",
       "    .dataframe tbody tr th:only-of-type {\n",
       "        vertical-align: middle;\n",
       "    }\n",
       "\n",
       "    .dataframe tbody tr th {\n",
       "        vertical-align: top;\n",
       "    }\n",
       "\n",
       "    .dataframe thead tr th {\n",
       "        text-align: left;\n",
       "    }\n",
       "</style>\n",
       "<table border=\"1\" class=\"dataframe\">\n",
       "  <thead>\n",
       "    <tr>\n",
       "      <th></th>\n",
       "      <th>기간</th>\n",
       "      <th>자치구</th>\n",
       "      <th>동</th>\n",
       "      <th colspan=\"3\" halign=\"left\">총 수급자</th>\n",
       "      <th colspan=\"2\" halign=\"left\">일반수급자</th>\n",
       "      <th colspan=\"2\" halign=\"left\">조건부 수급자</th>\n",
       "      <th colspan=\"2\" halign=\"left\">특례수급자</th>\n",
       "      <th colspan=\"2\" halign=\"left\">시설수급자</th>\n",
       "    </tr>\n",
       "    <tr>\n",
       "      <th></th>\n",
       "      <th>기간</th>\n",
       "      <th>자치구</th>\n",
       "      <th>동</th>\n",
       "      <th>가구</th>\n",
       "      <th>시설</th>\n",
       "      <th>인원</th>\n",
       "      <th>가구</th>\n",
       "      <th>인원</th>\n",
       "      <th>가구</th>\n",
       "      <th>인원</th>\n",
       "      <th>가구</th>\n",
       "      <th>인원</th>\n",
       "      <th>시설</th>\n",
       "      <th>인원</th>\n",
       "    </tr>\n",
       "  </thead>\n",
       "  <tbody>\n",
       "    <tr>\n",
       "      <th>0</th>\n",
       "      <td>2018</td>\n",
       "      <td>합계</td>\n",
       "      <td>합계</td>\n",
       "      <td>197,278</td>\n",
       "      <td>604</td>\n",
       "      <td>290,222</td>\n",
       "      <td>169,271</td>\n",
       "      <td>227,396</td>\n",
       "      <td>23,360</td>\n",
       "      <td>44,271</td>\n",
       "      <td>4,647</td>\n",
       "      <td>6,324</td>\n",
       "      <td>604</td>\n",
       "      <td>12,231</td>\n",
       "    </tr>\n",
       "    <tr>\n",
       "      <th>1</th>\n",
       "      <td>2018</td>\n",
       "      <td>본청</td>\n",
       "      <td>본청</td>\n",
       "      <td>-</td>\n",
       "      <td>8</td>\n",
       "      <td>880</td>\n",
       "      <td>-</td>\n",
       "      <td>-</td>\n",
       "      <td>-</td>\n",
       "      <td>-</td>\n",
       "      <td>-</td>\n",
       "      <td>-</td>\n",
       "      <td>8</td>\n",
       "      <td>880</td>\n",
       "    </tr>\n",
       "    <tr>\n",
       "      <th>2</th>\n",
       "      <td>2018</td>\n",
       "      <td>종로구</td>\n",
       "      <td>소계</td>\n",
       "      <td>3,109</td>\n",
       "      <td>14</td>\n",
       "      <td>4,450</td>\n",
       "      <td>2,821</td>\n",
       "      <td>3,403</td>\n",
       "      <td>216</td>\n",
       "      <td>318</td>\n",
       "      <td>72</td>\n",
       "      <td>80</td>\n",
       "      <td>14</td>\n",
       "      <td>649</td>\n",
       "    </tr>\n",
       "    <tr>\n",
       "      <th>3</th>\n",
       "      <td>2018</td>\n",
       "      <td>종로구</td>\n",
       "      <td>사직동</td>\n",
       "      <td>99</td>\n",
       "      <td>-</td>\n",
       "      <td>121</td>\n",
       "      <td>96</td>\n",
       "      <td>116</td>\n",
       "      <td>3</td>\n",
       "      <td>5</td>\n",
       "      <td>-</td>\n",
       "      <td>-</td>\n",
       "      <td>-</td>\n",
       "      <td>-</td>\n",
       "    </tr>\n",
       "    <tr>\n",
       "      <th>4</th>\n",
       "      <td>2018</td>\n",
       "      <td>종로구</td>\n",
       "      <td>삼청동</td>\n",
       "      <td>34</td>\n",
       "      <td>-</td>\n",
       "      <td>48</td>\n",
       "      <td>25</td>\n",
       "      <td>31</td>\n",
       "      <td>7</td>\n",
       "      <td>14</td>\n",
       "      <td>2</td>\n",
       "      <td>3</td>\n",
       "      <td>-</td>\n",
       "      <td>-</td>\n",
       "    </tr>\n",
       "  </tbody>\n",
       "</table>\n",
       "</div>"
      ],
      "text/plain": [
       "     기간  자치구    동    총 수급자                  일반수급자          조건부 수급자          \\\n",
       "     기간  자치구    동       가구   시설       인원       가구       인원      가구      인원   \n",
       "0  2018   합계   합계  197,278  604  290,222  169,271  227,396  23,360  44,271   \n",
       "1  2018   본청   본청        -    8      880        -        -       -       -   \n",
       "2  2018  종로구   소계    3,109   14    4,450    2,821    3,403     216     318   \n",
       "3  2018  종로구  사직동       99    -      121       96      116       3       5   \n",
       "4  2018  종로구  삼청동       34    -       48       25       31       7      14   \n",
       "\n",
       "   특례수급자        시설수급자          \n",
       "      가구     인원    시설      인원  \n",
       "0  4,647  6,324   604  12,231  \n",
       "1      -      -     8     880  \n",
       "2     72     80    14     649  \n",
       "3      -      -     -       -  \n",
       "4      2      3     -       -  "
      ]
     },
     "execution_count": 50,
     "metadata": {},
     "output_type": "execute_result"
    }
   ],
   "source": [
    "underGDP.head()"
   ]
  },
  {
   "cell_type": "code",
   "execution_count": 51,
   "metadata": {},
   "outputs": [],
   "source": [
    "underGDP.columns = ['_'.join(col) for col in underGDP.columns.values]"
   ]
  },
  {
   "cell_type": "code",
   "execution_count": 52,
   "metadata": {},
   "outputs": [
    {
     "data": {
      "text/plain": [
       "Index(['기간_기간', '자치구_자치구', '동_동', '총 수급자_가구', '총 수급자_시설', '총 수급자_인원',\n",
       "       '일반수급자_가구', '일반수급자_인원', '조건부 수급자_가구', '조건부 수급자_인원', '특례수급자_가구',\n",
       "       '특례수급자_인원', '시설수급자_시설', '시설수급자_인원'],\n",
       "      dtype='object')"
      ]
     },
     "execution_count": 52,
     "metadata": {},
     "output_type": "execute_result"
    }
   ],
   "source": [
    "underGDP.columns"
   ]
  },
  {
   "cell_type": "code",
   "execution_count": 53,
   "metadata": {},
   "outputs": [],
   "source": [
    "underGDP.columns = ['기간', '자치구', '동', '총_수급자_가구', '총_수급자_시설', '총_수급자_인원',\n",
    "       '일반수급자_가구', '일반수급자_인원', '조건부_수급자_가구', '조건부_수급자_인원', '특례수급자_가구',\n",
    "       '특례수급자_인원', '시설수급자_시설', '시설수급자_인원']"
   ]
  },
  {
   "cell_type": "code",
   "execution_count": 54,
   "metadata": {
    "scrolled": true
   },
   "outputs": [
    {
     "name": "stdout",
     "output_type": "stream",
     "text": [
      "<class 'pandas.core.frame.DataFrame'>\n",
      "RangeIndex: 475 entries, 0 to 474\n",
      "Data columns (total 14 columns):\n",
      "기간            475 non-null int64\n",
      "자치구           475 non-null object\n",
      "동             475 non-null object\n",
      "총_수급자_가구      475 non-null object\n",
      "총_수급자_시설      475 non-null object\n",
      "총_수급자_인원      475 non-null object\n",
      "일반수급자_가구      475 non-null object\n",
      "일반수급자_인원      475 non-null object\n",
      "조건부_수급자_가구    475 non-null object\n",
      "조건부_수급자_인원    475 non-null object\n",
      "특례수급자_가구      475 non-null object\n",
      "특례수급자_인원      475 non-null object\n",
      "시설수급자_시설      475 non-null object\n",
      "시설수급자_인원      475 non-null object\n",
      "dtypes: int64(1), object(13)\n",
      "memory usage: 52.0+ KB\n"
     ]
    }
   ],
   "source": [
    "underGDP.info()"
   ]
  },
  {
   "cell_type": "code",
   "execution_count": 55,
   "metadata": {},
   "outputs": [],
   "source": [
    "cols = ['총_수급자_가구', '총_수급자_시설', '총_수급자_인원',\n",
    "       '일반수급자_가구', '일반수급자_인원', '조건부_수급자_가구', '조건부_수급자_인원', '특례수급자_가구',\n",
    "       '특례수급자_인원', '시설수급자_시설', '시설수급자_인원']\n",
    "\n",
    "# pass them to df.replace(), specifying each char and it's replacement:\n",
    "underGDP[cols] = underGDP[cols].replace({',': '', '-':'0'}, regex=True)"
   ]
  },
  {
   "cell_type": "code",
   "execution_count": 56,
   "metadata": {
    "scrolled": true
   },
   "outputs": [],
   "source": [
    "underGDP.기간 = underGDP.기간.astype('int')\n",
    "underGDP.iloc[:,1:3] = underGDP.iloc[:,1:3].astype('str')\n",
    "underGDP.iloc[:,3:] = underGDP.iloc[:,3:].astype('int')"
   ]
  },
  {
   "cell_type": "code",
   "execution_count": 57,
   "metadata": {
    "scrolled": true
   },
   "outputs": [
    {
     "name": "stdout",
     "output_type": "stream",
     "text": [
      "기간 결측치 수 : 0\n",
      "자치구 결측치 수 : 0\n",
      "동 결측치 수 : 0\n",
      "총_수급자_가구 결측치 수 : 0\n",
      "총_수급자_시설 결측치 수 : 0\n",
      "총_수급자_인원 결측치 수 : 0\n",
      "일반수급자_가구 결측치 수 : 0\n",
      "일반수급자_인원 결측치 수 : 0\n",
      "조건부_수급자_가구 결측치 수 : 0\n",
      "조건부_수급자_인원 결측치 수 : 0\n",
      "특례수급자_가구 결측치 수 : 0\n",
      "특례수급자_인원 결측치 수 : 0\n",
      "시설수급자_시설 결측치 수 : 0\n",
      "시설수급자_인원 결측치 수 : 0\n"
     ]
    }
   ],
   "source": [
    "for i in range(len(underGDP.columns)) :\n",
    "    print(list(underGDP.columns)[i],\"결측치 수 :\",sum(underGDP[list(underGDP.columns)[i]].isnull()))"
   ]
  },
  {
   "cell_type": "code",
   "execution_count": 58,
   "metadata": {},
   "outputs": [],
   "source": [
    "a = underGDP.corr()"
   ]
  },
  {
   "cell_type": "code",
   "execution_count": 59,
   "metadata": {
    "scrolled": true
   },
   "outputs": [
    {
     "data": {
      "text/plain": [
       "총_수급자_가구      1.000000\n",
       "일반수급자_가구      0.999981\n",
       "일반수급자_인원      0.999931\n",
       "총_수급자_인원      0.999865\n",
       "조건부_수급자_가구    0.998804\n",
       "조건부_수급자_인원    0.998474\n",
       "특례수급자_가구      0.994186\n",
       "특례수급자_인원      0.993587\n",
       "시설수급자_시설      0.973538\n",
       "총_수급자_시설      0.973538\n",
       "시설수급자_인원      0.960688\n",
       "기간                 NaN\n",
       "Name: 총_수급자_가구, dtype: float64"
      ]
     },
     "execution_count": 59,
     "metadata": {},
     "output_type": "execute_result"
    }
   ],
   "source": [
    "a.총_수급자_가구.sort_values(ascending=False)"
   ]
  },
  {
   "cell_type": "code",
   "execution_count": 60,
   "metadata": {
    "scrolled": true
   },
   "outputs": [],
   "source": [
    "underGDP = underGDP[['자치구', '동', '총_수급자_가구']]"
   ]
  },
  {
   "cell_type": "code",
   "execution_count": 61,
   "metadata": {
    "scrolled": true
   },
   "outputs": [],
   "source": [
    "underGDP=underGDP[underGDP.동 != '합계']\n",
    "underGDP=underGDP[underGDP.동 != '본청']\n",
    "underGDP=underGDP[underGDP.동 != '소계']\n",
    "underGDP=underGDP[underGDP.동 != '기타']"
   ]
  },
  {
   "cell_type": "code",
   "execution_count": 62,
   "metadata": {
    "scrolled": false
   },
   "outputs": [
    {
     "data": {
      "text/plain": [
       "423"
      ]
     },
     "execution_count": 62,
     "metadata": {},
     "output_type": "execute_result"
    }
   ],
   "source": [
    "len(underGDP)"
   ]
  },
  {
   "cell_type": "code",
   "execution_count": 63,
   "metadata": {},
   "outputs": [],
   "source": [
    "num_company.동.replace('여의도동','여의동', inplace=True)"
   ]
  },
  {
   "cell_type": "code",
   "execution_count": 64,
   "metadata": {
    "scrolled": false
   },
   "outputs": [
    {
     "data": {
      "text/plain": [
       "set()"
      ]
     },
     "execution_count": 64,
     "metadata": {},
     "output_type": "execute_result"
    }
   ],
   "source": [
    "set(underGDP.동)-set(num_company.동)"
   ]
  },
  {
   "cell_type": "code",
   "execution_count": 65,
   "metadata": {},
   "outputs": [
    {
     "data": {
      "text/plain": [
       "{'둔촌1동'}"
      ]
     },
     "execution_count": 65,
     "metadata": {},
     "output_type": "execute_result"
    }
   ],
   "source": [
    "set(num_company.동)-set(underGDP.동)"
   ]
  },
  {
   "cell_type": "code",
   "execution_count": 66,
   "metadata": {
    "scrolled": false
   },
   "outputs": [
    {
     "data": {
      "text/html": [
       "<div>\n",
       "<style scoped>\n",
       "    .dataframe tbody tr th:only-of-type {\n",
       "        vertical-align: middle;\n",
       "    }\n",
       "\n",
       "    .dataframe tbody tr th {\n",
       "        vertical-align: top;\n",
       "    }\n",
       "\n",
       "    .dataframe thead th {\n",
       "        text-align: right;\n",
       "    }\n",
       "</style>\n",
       "<table border=\"1\" class=\"dataframe\">\n",
       "  <thead>\n",
       "    <tr style=\"text-align: right;\">\n",
       "      <th></th>\n",
       "      <th>자치구</th>\n",
       "      <th>동</th>\n",
       "      <th>총_수급자_가구</th>\n",
       "    </tr>\n",
       "  </thead>\n",
       "  <tbody>\n",
       "    <tr>\n",
       "      <th>470</th>\n",
       "      <td>강동구</td>\n",
       "      <td>둔촌2동</td>\n",
       "      <td>281</td>\n",
       "    </tr>\n",
       "  </tbody>\n",
       "</table>\n",
       "</div>"
      ],
      "text/plain": [
       "     자치구     동  총_수급자_가구\n",
       "470  강동구  둔촌2동       281"
      ]
     },
     "execution_count": 66,
     "metadata": {},
     "output_type": "execute_result"
    }
   ],
   "source": [
    "underGDP[underGDP['동'].str.contains(r'둔촌')]"
   ]
  },
  {
   "cell_type": "markdown",
   "metadata": {},
   "source": [
    "# store"
   ]
  },
  {
   "cell_type": "code",
   "execution_count": 67,
   "metadata": {
    "scrolled": true
   },
   "outputs": [],
   "source": [
    "store = pd.read_csv('서울시 유통업체현황 (동별) 통계 .txt', delimiter=\"\t\", header=[0,3])"
   ]
  },
  {
   "cell_type": "code",
   "execution_count": 68,
   "metadata": {},
   "outputs": [
    {
     "data": {
      "text/html": [
       "<div>\n",
       "<style scoped>\n",
       "    .dataframe tbody tr th:only-of-type {\n",
       "        vertical-align: middle;\n",
       "    }\n",
       "\n",
       "    .dataframe tbody tr th {\n",
       "        vertical-align: top;\n",
       "    }\n",
       "\n",
       "    .dataframe thead tr th {\n",
       "        text-align: left;\n",
       "    }\n",
       "</style>\n",
       "<table border=\"1\" class=\"dataframe\">\n",
       "  <thead>\n",
       "    <tr>\n",
       "      <th></th>\n",
       "      <th>기간</th>\n",
       "      <th>자치구</th>\n",
       "      <th>동</th>\n",
       "      <th colspan=\"3\" halign=\"left\">합계</th>\n",
       "      <th colspan=\"3\" halign=\"left\">대형마트</th>\n",
       "      <th>백화점</th>\n",
       "      <th>...</th>\n",
       "      <th>전문점</th>\n",
       "      <th colspan=\"3\" halign=\"left\">쇼핑센터</th>\n",
       "      <th colspan=\"3\" halign=\"left\">복합쇼핑몰</th>\n",
       "      <th colspan=\"3\" halign=\"left\">그밖의 대규모점포</th>\n",
       "    </tr>\n",
       "    <tr>\n",
       "      <th></th>\n",
       "      <th>기간</th>\n",
       "      <th>자치구</th>\n",
       "      <th>동</th>\n",
       "      <th>개소</th>\n",
       "      <th>매장면적</th>\n",
       "      <th>건물연면적</th>\n",
       "      <th>개소</th>\n",
       "      <th>매장면적</th>\n",
       "      <th>건물연면적</th>\n",
       "      <th>개소</th>\n",
       "      <th>...</th>\n",
       "      <th>건물연면적</th>\n",
       "      <th>개소</th>\n",
       "      <th>매장면적</th>\n",
       "      <th>건물연면적</th>\n",
       "      <th>개소</th>\n",
       "      <th>매장면적</th>\n",
       "      <th>건물연면적</th>\n",
       "      <th>개소</th>\n",
       "      <th>매장면적</th>\n",
       "      <th>건물연면적</th>\n",
       "    </tr>\n",
       "  </thead>\n",
       "  <tbody>\n",
       "    <tr>\n",
       "      <th>0</th>\n",
       "      <td>2017</td>\n",
       "      <td>합계</td>\n",
       "      <td>합계</td>\n",
       "      <td>467</td>\n",
       "      <td>5,393,420</td>\n",
       "      <td>27,016,613</td>\n",
       "      <td>61</td>\n",
       "      <td>857,904</td>\n",
       "      <td>6,237,959</td>\n",
       "      <td>31</td>\n",
       "      <td>...</td>\n",
       "      <td>2,829,420</td>\n",
       "      <td>36</td>\n",
       "      <td>784,804</td>\n",
       "      <td>3,761,856</td>\n",
       "      <td>10</td>\n",
       "      <td>278,711</td>\n",
       "      <td>1,534,046</td>\n",
       "      <td>307</td>\n",
       "      <td>2,153,637</td>\n",
       "      <td>8,609,705</td>\n",
       "    </tr>\n",
       "    <tr>\n",
       "      <th>1</th>\n",
       "      <td>2017</td>\n",
       "      <td>종로구</td>\n",
       "      <td>소계</td>\n",
       "      <td>12</td>\n",
       "      <td>133,876</td>\n",
       "      <td>444,978</td>\n",
       "      <td>-</td>\n",
       "      <td>-</td>\n",
       "      <td>-</td>\n",
       "      <td>-</td>\n",
       "      <td>...</td>\n",
       "      <td>168,311</td>\n",
       "      <td>-</td>\n",
       "      <td>-</td>\n",
       "      <td>-</td>\n",
       "      <td>-</td>\n",
       "      <td>-</td>\n",
       "      <td>-</td>\n",
       "      <td>10</td>\n",
       "      <td>117,620</td>\n",
       "      <td>276,667</td>\n",
       "    </tr>\n",
       "    <tr>\n",
       "      <th>2</th>\n",
       "      <td>2017</td>\n",
       "      <td>종로구</td>\n",
       "      <td>종로1.2.3.4가동</td>\n",
       "      <td>6</td>\n",
       "      <td>54,063</td>\n",
       "      <td>333,469</td>\n",
       "      <td>-</td>\n",
       "      <td>-</td>\n",
       "      <td>-</td>\n",
       "      <td>-</td>\n",
       "      <td>...</td>\n",
       "      <td>168,311</td>\n",
       "      <td>-</td>\n",
       "      <td>-</td>\n",
       "      <td>-</td>\n",
       "      <td>-</td>\n",
       "      <td>-</td>\n",
       "      <td>-</td>\n",
       "      <td>4</td>\n",
       "      <td>37,807</td>\n",
       "      <td>165,158</td>\n",
       "    </tr>\n",
       "    <tr>\n",
       "      <th>3</th>\n",
       "      <td>2017</td>\n",
       "      <td>종로구</td>\n",
       "      <td>종로5·6가동</td>\n",
       "      <td>3</td>\n",
       "      <td>71,445</td>\n",
       "      <td>83,436</td>\n",
       "      <td>-</td>\n",
       "      <td>-</td>\n",
       "      <td>-</td>\n",
       "      <td>-</td>\n",
       "      <td>...</td>\n",
       "      <td>-</td>\n",
       "      <td>-</td>\n",
       "      <td>-</td>\n",
       "      <td>-</td>\n",
       "      <td>-</td>\n",
       "      <td>-</td>\n",
       "      <td>-</td>\n",
       "      <td>3</td>\n",
       "      <td>71,445</td>\n",
       "      <td>83,436</td>\n",
       "    </tr>\n",
       "    <tr>\n",
       "      <th>4</th>\n",
       "      <td>2017</td>\n",
       "      <td>종로구</td>\n",
       "      <td>창신1동</td>\n",
       "      <td>1</td>\n",
       "      <td>3,660</td>\n",
       "      <td>9,625</td>\n",
       "      <td>-</td>\n",
       "      <td>-</td>\n",
       "      <td>-</td>\n",
       "      <td>-</td>\n",
       "      <td>...</td>\n",
       "      <td>-</td>\n",
       "      <td>-</td>\n",
       "      <td>-</td>\n",
       "      <td>-</td>\n",
       "      <td>-</td>\n",
       "      <td>-</td>\n",
       "      <td>-</td>\n",
       "      <td>1</td>\n",
       "      <td>3,660</td>\n",
       "      <td>9,625</td>\n",
       "    </tr>\n",
       "  </tbody>\n",
       "</table>\n",
       "<p>5 rows × 24 columns</p>\n",
       "</div>"
      ],
      "text/plain": [
       "     기간  자치구            동   합계                        대형마트           \\\n",
       "     기간  자치구            동   개소       매장면적       건물연면적   개소     매장면적   \n",
       "0  2017   합계           합계  467  5,393,420  27,016,613   61  857,904   \n",
       "1  2017  종로구           소계   12    133,876     444,978    -        -   \n",
       "2  2017  종로구  종로1.2.3.4가동    6     54,063     333,469    -        -   \n",
       "3  2017  종로구      종로5·6가동    3     71,445      83,436    -        -   \n",
       "4  2017  종로구         창신1동    1      3,660       9,625    -        -   \n",
       "\n",
       "             백화점  ...        전문점 쇼핑센터                     복합쇼핑몰           \\\n",
       "       건물연면적  개소  ...      건물연면적   개소     매장면적      건물연면적    개소     매장면적   \n",
       "0  6,237,959  31  ...  2,829,420   36  784,804  3,761,856    10  278,711   \n",
       "1          -   -  ...    168,311    -        -          -     -        -   \n",
       "2          -   -  ...    168,311    -        -          -     -        -   \n",
       "3          -   -  ...          -    -        -          -     -        -   \n",
       "4          -   -  ...          -    -        -          -     -        -   \n",
       "\n",
       "             그밖의 대규모점포                        \n",
       "       건물연면적        개소       매장면적      건물연면적  \n",
       "0  1,534,046       307  2,153,637  8,609,705  \n",
       "1          -        10    117,620    276,667  \n",
       "2          -         4     37,807    165,158  \n",
       "3          -         3     71,445     83,436  \n",
       "4          -         1      3,660      9,625  \n",
       "\n",
       "[5 rows x 24 columns]"
      ]
     },
     "execution_count": 68,
     "metadata": {},
     "output_type": "execute_result"
    }
   ],
   "source": [
    "store.head()"
   ]
  },
  {
   "cell_type": "code",
   "execution_count": 69,
   "metadata": {},
   "outputs": [],
   "source": [
    "store.columns = ['_'.join(col) for col in store.columns.values]"
   ]
  },
  {
   "cell_type": "code",
   "execution_count": 70,
   "metadata": {},
   "outputs": [],
   "source": [
    "store.columns = ['기간', '자치구', '동', 'store_총_개소', '합계_매장면적', '합계_건물연면적', '대형마트_개소',\n",
    "       '대형마트_매장면적', '대형마트_건물연면적', '백화점_개소', '백화점_매장면적', '백화점_건물연면적', '전문점_개소',\n",
    "       '전문점_매장면적', '전문점_건물연면적', '쇼핑센터_개소', '쇼핑센터_매장면적', '쇼핑센터_건물연면적',\n",
    "       '복합쇼핑몰_개소', '복합쇼핑몰_매장면적', '복합쇼핑몰_건물연면적', '그밖의 대규모점포_개소',\n",
    "       '그밖의 대규모점포_매장면적', '그밖의 대규모점포_건물연면적']"
   ]
  },
  {
   "cell_type": "code",
   "execution_count": 71,
   "metadata": {
    "scrolled": true
   },
   "outputs": [
    {
     "name": "stdout",
     "output_type": "stream",
     "text": [
      "<class 'pandas.core.frame.DataFrame'>\n",
      "RangeIndex: 266 entries, 0 to 265\n",
      "Data columns (total 24 columns):\n",
      "기간                 266 non-null int64\n",
      "자치구                266 non-null object\n",
      "동                  266 non-null object\n",
      "store_총_개소         266 non-null int64\n",
      "합계_매장면적            266 non-null object\n",
      "합계_건물연면적           266 non-null object\n",
      "대형마트_개소            266 non-null object\n",
      "대형마트_매장면적          266 non-null object\n",
      "대형마트_건물연면적         266 non-null object\n",
      "백화점_개소             266 non-null object\n",
      "백화점_매장면적           266 non-null object\n",
      "백화점_건물연면적          266 non-null object\n",
      "전문점_개소             266 non-null object\n",
      "전문점_매장면적           266 non-null object\n",
      "전문점_건물연면적          266 non-null object\n",
      "쇼핑센터_개소            266 non-null object\n",
      "쇼핑센터_매장면적          266 non-null object\n",
      "쇼핑센터_건물연면적         266 non-null object\n",
      "복합쇼핑몰_개소           266 non-null object\n",
      "복합쇼핑몰_매장면적         266 non-null object\n",
      "복합쇼핑몰_건물연면적        266 non-null object\n",
      "그밖의 대규모점포_개소       266 non-null object\n",
      "그밖의 대규모점포_매장면적     266 non-null object\n",
      "그밖의 대규모점포_건물연면적    266 non-null object\n",
      "dtypes: int64(2), object(22)\n",
      "memory usage: 50.0+ KB\n"
     ]
    }
   ],
   "source": [
    "store.info()"
   ]
  },
  {
   "cell_type": "code",
   "execution_count": 72,
   "metadata": {},
   "outputs": [],
   "source": [
    "cols = ['기간', '자치구', '동', 'store_총_개소', '합계_매장면적', '합계_건물연면적', '대형마트_개소',\n",
    "       '대형마트_매장면적', '대형마트_건물연면적', '백화점_개소', '백화점_매장면적', '백화점_건물연면적', '전문점_개소',\n",
    "       '전문점_매장면적', '전문점_건물연면적', '쇼핑센터_개소', '쇼핑센터_매장면적', '쇼핑센터_건물연면적',\n",
    "       '복합쇼핑몰_개소', '복합쇼핑몰_매장면적', '복합쇼핑몰_건물연면적', '그밖의 대규모점포_개소',\n",
    "       '그밖의 대규모점포_매장면적', '그밖의 대규모점포_건물연면적']\n",
    "\n",
    "# pass them to df.replace(), specifying each char and it's replacement:\n",
    "store[cols] = store[cols].replace({',': '', '-':'0'}, regex=True)"
   ]
  },
  {
   "cell_type": "code",
   "execution_count": 73,
   "metadata": {
    "scrolled": true
   },
   "outputs": [],
   "source": [
    "store.기간 = store.기간.astype('int')\n",
    "store.iloc[:,1:3] = store.iloc[:,1:3].astype('str')\n",
    "store.iloc[:,3:] = store.iloc[:,3:].astype('int')"
   ]
  },
  {
   "cell_type": "code",
   "execution_count": 74,
   "metadata": {
    "scrolled": true
   },
   "outputs": [
    {
     "name": "stdout",
     "output_type": "stream",
     "text": [
      "기간 결측치 수 : 0\n",
      "자치구 결측치 수 : 0\n",
      "동 결측치 수 : 0\n",
      "store_총_개소 결측치 수 : 0\n",
      "합계_매장면적 결측치 수 : 0\n",
      "합계_건물연면적 결측치 수 : 0\n",
      "대형마트_개소 결측치 수 : 0\n",
      "대형마트_매장면적 결측치 수 : 0\n",
      "대형마트_건물연면적 결측치 수 : 0\n",
      "백화점_개소 결측치 수 : 0\n",
      "백화점_매장면적 결측치 수 : 0\n",
      "백화점_건물연면적 결측치 수 : 0\n",
      "전문점_개소 결측치 수 : 0\n",
      "전문점_매장면적 결측치 수 : 0\n",
      "전문점_건물연면적 결측치 수 : 0\n",
      "쇼핑센터_개소 결측치 수 : 0\n",
      "쇼핑센터_매장면적 결측치 수 : 0\n",
      "쇼핑센터_건물연면적 결측치 수 : 0\n",
      "복합쇼핑몰_개소 결측치 수 : 0\n",
      "복합쇼핑몰_매장면적 결측치 수 : 0\n",
      "복합쇼핑몰_건물연면적 결측치 수 : 0\n",
      "그밖의 대규모점포_개소 결측치 수 : 0\n",
      "그밖의 대규모점포_매장면적 결측치 수 : 0\n",
      "그밖의 대규모점포_건물연면적 결측치 수 : 0\n"
     ]
    }
   ],
   "source": [
    "for i in range(len(store.columns)) :\n",
    "    print(list(store.columns)[i],\"결측치 수 :\",sum(store[list(store.columns)[i]].isnull()))"
   ]
  },
  {
   "cell_type": "code",
   "execution_count": 167,
   "metadata": {},
   "outputs": [],
   "source": [
    "a = store.corr()"
   ]
  },
  {
   "cell_type": "code",
   "execution_count": 76,
   "metadata": {
    "scrolled": true
   },
   "outputs": [
    {
     "data": {
      "text/plain": [
       "전문점_개소             1.000000\n",
       "전문점_매장면적           0.964913\n",
       "store_총_개소         0.934375\n",
       "합계_매장면적            0.934317\n",
       "그밖의 대규모점포_개소       0.925761\n",
       "합계_건물연면적           0.924672\n",
       "대형마트_개소            0.919911\n",
       "대형마트_건물연면적         0.915841\n",
       "그밖의 대규모점포_매장면적     0.909186\n",
       "대형마트_매장면적          0.905171\n",
       "백화점_매장면적           0.902825\n",
       "백화점_개소             0.900650\n",
       "백화점_건물연면적          0.897490\n",
       "그밖의 대규모점포_건물연면적    0.894284\n",
       "쇼핑센터_매장면적          0.889667\n",
       "쇼핑센터_개소            0.889028\n",
       "전문점_건물연면적          0.876715\n",
       "쇼핑센터_건물연면적         0.866781\n",
       "복합쇼핑몰_개소           0.814200\n",
       "복합쇼핑몰_매장면적         0.789700\n",
       "복합쇼핑몰_건물연면적        0.735451\n",
       "기간                      NaN\n",
       "Name: 전문점_개소, dtype: float64"
      ]
     },
     "execution_count": 76,
     "metadata": {},
     "output_type": "execute_result"
    }
   ],
   "source": [
    "a.전문점_개소.sort_values(ascending=False)"
   ]
  },
  {
   "cell_type": "code",
   "execution_count": 77,
   "metadata": {
    "scrolled": true
   },
   "outputs": [],
   "source": [
    "num_store = store[['자치구', '동', 'store_총_개소','백화점_개소','백화점_건물연면적','복합쇼핑몰_개소','복합쇼핑몰_건물연면적','전문점_개소', '전문점_건물연면적']]"
   ]
  },
  {
   "cell_type": "code",
   "execution_count": 78,
   "metadata": {
    "scrolled": true
   },
   "outputs": [
    {
     "data": {
      "text/html": [
       "<div>\n",
       "<style scoped>\n",
       "    .dataframe tbody tr th:only-of-type {\n",
       "        vertical-align: middle;\n",
       "    }\n",
       "\n",
       "    .dataframe tbody tr th {\n",
       "        vertical-align: top;\n",
       "    }\n",
       "\n",
       "    .dataframe thead th {\n",
       "        text-align: right;\n",
       "    }\n",
       "</style>\n",
       "<table border=\"1\" class=\"dataframe\">\n",
       "  <thead>\n",
       "    <tr style=\"text-align: right;\">\n",
       "      <th></th>\n",
       "      <th>자치구</th>\n",
       "      <th>동</th>\n",
       "      <th>store_총_개소</th>\n",
       "      <th>백화점_개소</th>\n",
       "      <th>백화점_건물연면적</th>\n",
       "      <th>복합쇼핑몰_개소</th>\n",
       "      <th>복합쇼핑몰_건물연면적</th>\n",
       "      <th>전문점_개소</th>\n",
       "      <th>전문점_건물연면적</th>\n",
       "    </tr>\n",
       "  </thead>\n",
       "  <tbody>\n",
       "    <tr>\n",
       "      <th>0</th>\n",
       "      <td>합계</td>\n",
       "      <td>합계</td>\n",
       "      <td>467</td>\n",
       "      <td>31</td>\n",
       "      <td>4043627</td>\n",
       "      <td>10</td>\n",
       "      <td>1534046</td>\n",
       "      <td>22</td>\n",
       "      <td>2829420</td>\n",
       "    </tr>\n",
       "    <tr>\n",
       "      <th>1</th>\n",
       "      <td>종로구</td>\n",
       "      <td>소계</td>\n",
       "      <td>12</td>\n",
       "      <td>0</td>\n",
       "      <td>0</td>\n",
       "      <td>0</td>\n",
       "      <td>0</td>\n",
       "      <td>2</td>\n",
       "      <td>168311</td>\n",
       "    </tr>\n",
       "    <tr>\n",
       "      <th>2</th>\n",
       "      <td>종로구</td>\n",
       "      <td>종로1.2.3.4가동</td>\n",
       "      <td>6</td>\n",
       "      <td>0</td>\n",
       "      <td>0</td>\n",
       "      <td>0</td>\n",
       "      <td>0</td>\n",
       "      <td>2</td>\n",
       "      <td>168311</td>\n",
       "    </tr>\n",
       "    <tr>\n",
       "      <th>3</th>\n",
       "      <td>종로구</td>\n",
       "      <td>종로5·6가동</td>\n",
       "      <td>3</td>\n",
       "      <td>0</td>\n",
       "      <td>0</td>\n",
       "      <td>0</td>\n",
       "      <td>0</td>\n",
       "      <td>0</td>\n",
       "      <td>0</td>\n",
       "    </tr>\n",
       "    <tr>\n",
       "      <th>4</th>\n",
       "      <td>종로구</td>\n",
       "      <td>창신1동</td>\n",
       "      <td>1</td>\n",
       "      <td>0</td>\n",
       "      <td>0</td>\n",
       "      <td>0</td>\n",
       "      <td>0</td>\n",
       "      <td>0</td>\n",
       "      <td>0</td>\n",
       "    </tr>\n",
       "    <tr>\n",
       "      <th>5</th>\n",
       "      <td>종로구</td>\n",
       "      <td>창신3동</td>\n",
       "      <td>1</td>\n",
       "      <td>0</td>\n",
       "      <td>0</td>\n",
       "      <td>0</td>\n",
       "      <td>0</td>\n",
       "      <td>0</td>\n",
       "      <td>0</td>\n",
       "    </tr>\n",
       "    <tr>\n",
       "      <th>6</th>\n",
       "      <td>종로구</td>\n",
       "      <td>숭인2동</td>\n",
       "      <td>1</td>\n",
       "      <td>0</td>\n",
       "      <td>0</td>\n",
       "      <td>0</td>\n",
       "      <td>0</td>\n",
       "      <td>0</td>\n",
       "      <td>0</td>\n",
       "    </tr>\n",
       "    <tr>\n",
       "      <th>7</th>\n",
       "      <td>중구</td>\n",
       "      <td>소계</td>\n",
       "      <td>53</td>\n",
       "      <td>3</td>\n",
       "      <td>257042</td>\n",
       "      <td>0</td>\n",
       "      <td>0</td>\n",
       "      <td>2</td>\n",
       "      <td>520932</td>\n",
       "    </tr>\n",
       "    <tr>\n",
       "      <th>8</th>\n",
       "      <td>중구</td>\n",
       "      <td>소공동</td>\n",
       "      <td>3</td>\n",
       "      <td>2</td>\n",
       "      <td>125379</td>\n",
       "      <td>0</td>\n",
       "      <td>0</td>\n",
       "      <td>0</td>\n",
       "      <td>0</td>\n",
       "    </tr>\n",
       "    <tr>\n",
       "      <th>9</th>\n",
       "      <td>중구</td>\n",
       "      <td>회현동</td>\n",
       "      <td>9</td>\n",
       "      <td>1</td>\n",
       "      <td>131663</td>\n",
       "      <td>0</td>\n",
       "      <td>0</td>\n",
       "      <td>0</td>\n",
       "      <td>0</td>\n",
       "    </tr>\n",
       "    <tr>\n",
       "      <th>10</th>\n",
       "      <td>중구</td>\n",
       "      <td>명동</td>\n",
       "      <td>6</td>\n",
       "      <td>0</td>\n",
       "      <td>0</td>\n",
       "      <td>0</td>\n",
       "      <td>0</td>\n",
       "      <td>0</td>\n",
       "      <td>0</td>\n",
       "    </tr>\n",
       "    <tr>\n",
       "      <th>11</th>\n",
       "      <td>중구</td>\n",
       "      <td>광희동</td>\n",
       "      <td>12</td>\n",
       "      <td>0</td>\n",
       "      <td>0</td>\n",
       "      <td>0</td>\n",
       "      <td>0</td>\n",
       "      <td>0</td>\n",
       "      <td>0</td>\n",
       "    </tr>\n",
       "    <tr>\n",
       "      <th>12</th>\n",
       "      <td>중구</td>\n",
       "      <td>을지로동</td>\n",
       "      <td>2</td>\n",
       "      <td>0</td>\n",
       "      <td>0</td>\n",
       "      <td>0</td>\n",
       "      <td>0</td>\n",
       "      <td>0</td>\n",
       "      <td>0</td>\n",
       "    </tr>\n",
       "    <tr>\n",
       "      <th>13</th>\n",
       "      <td>중구</td>\n",
       "      <td>황학동</td>\n",
       "      <td>3</td>\n",
       "      <td>0</td>\n",
       "      <td>0</td>\n",
       "      <td>0</td>\n",
       "      <td>0</td>\n",
       "      <td>0</td>\n",
       "      <td>0</td>\n",
       "    </tr>\n",
       "    <tr>\n",
       "      <th>14</th>\n",
       "      <td>중구</td>\n",
       "      <td>신당동</td>\n",
       "      <td>16</td>\n",
       "      <td>0</td>\n",
       "      <td>0</td>\n",
       "      <td>0</td>\n",
       "      <td>0</td>\n",
       "      <td>2</td>\n",
       "      <td>520932</td>\n",
       "    </tr>\n",
       "    <tr>\n",
       "      <th>15</th>\n",
       "      <td>중구</td>\n",
       "      <td>약수동</td>\n",
       "      <td>2</td>\n",
       "      <td>0</td>\n",
       "      <td>0</td>\n",
       "      <td>0</td>\n",
       "      <td>0</td>\n",
       "      <td>0</td>\n",
       "      <td>0</td>\n",
       "    </tr>\n",
       "    <tr>\n",
       "      <th>16</th>\n",
       "      <td>용산구</td>\n",
       "      <td>소계</td>\n",
       "      <td>15</td>\n",
       "      <td>1</td>\n",
       "      <td>276688</td>\n",
       "      <td>0</td>\n",
       "      <td>0</td>\n",
       "      <td>5</td>\n",
       "      <td>230512</td>\n",
       "    </tr>\n",
       "    <tr>\n",
       "      <th>17</th>\n",
       "      <td>용산구</td>\n",
       "      <td>원효로2동</td>\n",
       "      <td>1</td>\n",
       "      <td>0</td>\n",
       "      <td>0</td>\n",
       "      <td>0</td>\n",
       "      <td>0</td>\n",
       "      <td>1</td>\n",
       "      <td>16442</td>\n",
       "    </tr>\n",
       "    <tr>\n",
       "      <th>18</th>\n",
       "      <td>용산구</td>\n",
       "      <td>이태원1동</td>\n",
       "      <td>2</td>\n",
       "      <td>0</td>\n",
       "      <td>0</td>\n",
       "      <td>0</td>\n",
       "      <td>0</td>\n",
       "      <td>0</td>\n",
       "      <td>0</td>\n",
       "    </tr>\n",
       "    <tr>\n",
       "      <th>19</th>\n",
       "      <td>용산구</td>\n",
       "      <td>서빙고동</td>\n",
       "      <td>1</td>\n",
       "      <td>0</td>\n",
       "      <td>0</td>\n",
       "      <td>0</td>\n",
       "      <td>0</td>\n",
       "      <td>0</td>\n",
       "      <td>0</td>\n",
       "    </tr>\n",
       "    <tr>\n",
       "      <th>20</th>\n",
       "      <td>용산구</td>\n",
       "      <td>보광동</td>\n",
       "      <td>1</td>\n",
       "      <td>0</td>\n",
       "      <td>0</td>\n",
       "      <td>0</td>\n",
       "      <td>0</td>\n",
       "      <td>0</td>\n",
       "      <td>0</td>\n",
       "    </tr>\n",
       "    <tr>\n",
       "      <th>21</th>\n",
       "      <td>용산구</td>\n",
       "      <td>청파동</td>\n",
       "      <td>1</td>\n",
       "      <td>0</td>\n",
       "      <td>0</td>\n",
       "      <td>0</td>\n",
       "      <td>0</td>\n",
       "      <td>0</td>\n",
       "      <td>0</td>\n",
       "    </tr>\n",
       "    <tr>\n",
       "      <th>22</th>\n",
       "      <td>용산구</td>\n",
       "      <td>한강로동</td>\n",
       "      <td>9</td>\n",
       "      <td>1</td>\n",
       "      <td>276688</td>\n",
       "      <td>0</td>\n",
       "      <td>0</td>\n",
       "      <td>4</td>\n",
       "      <td>214070</td>\n",
       "    </tr>\n",
       "    <tr>\n",
       "      <th>23</th>\n",
       "      <td>성동구</td>\n",
       "      <td>소계</td>\n",
       "      <td>13</td>\n",
       "      <td>0</td>\n",
       "      <td>0</td>\n",
       "      <td>1</td>\n",
       "      <td>142038</td>\n",
       "      <td>1</td>\n",
       "      <td>31845</td>\n",
       "    </tr>\n",
       "    <tr>\n",
       "      <th>24</th>\n",
       "      <td>성동구</td>\n",
       "      <td>마장동</td>\n",
       "      <td>1</td>\n",
       "      <td>0</td>\n",
       "      <td>0</td>\n",
       "      <td>0</td>\n",
       "      <td>0</td>\n",
       "      <td>0</td>\n",
       "      <td>0</td>\n",
       "    </tr>\n",
       "    <tr>\n",
       "      <th>25</th>\n",
       "      <td>성동구</td>\n",
       "      <td>행당1동</td>\n",
       "      <td>3</td>\n",
       "      <td>0</td>\n",
       "      <td>0</td>\n",
       "      <td>1</td>\n",
       "      <td>142038</td>\n",
       "      <td>0</td>\n",
       "      <td>0</td>\n",
       "    </tr>\n",
       "    <tr>\n",
       "      <th>26</th>\n",
       "      <td>성동구</td>\n",
       "      <td>행당2동</td>\n",
       "      <td>2</td>\n",
       "      <td>0</td>\n",
       "      <td>0</td>\n",
       "      <td>0</td>\n",
       "      <td>0</td>\n",
       "      <td>0</td>\n",
       "      <td>0</td>\n",
       "    </tr>\n",
       "    <tr>\n",
       "      <th>27</th>\n",
       "      <td>성동구</td>\n",
       "      <td>성수2가1동</td>\n",
       "      <td>2</td>\n",
       "      <td>0</td>\n",
       "      <td>0</td>\n",
       "      <td>0</td>\n",
       "      <td>0</td>\n",
       "      <td>0</td>\n",
       "      <td>0</td>\n",
       "    </tr>\n",
       "    <tr>\n",
       "      <th>28</th>\n",
       "      <td>성동구</td>\n",
       "      <td>성수2가3동</td>\n",
       "      <td>1</td>\n",
       "      <td>0</td>\n",
       "      <td>0</td>\n",
       "      <td>0</td>\n",
       "      <td>0</td>\n",
       "      <td>0</td>\n",
       "      <td>0</td>\n",
       "    </tr>\n",
       "    <tr>\n",
       "      <th>29</th>\n",
       "      <td>성동구</td>\n",
       "      <td>용답동</td>\n",
       "      <td>1</td>\n",
       "      <td>0</td>\n",
       "      <td>0</td>\n",
       "      <td>0</td>\n",
       "      <td>0</td>\n",
       "      <td>1</td>\n",
       "      <td>31845</td>\n",
       "    </tr>\n",
       "    <tr>\n",
       "      <th>...</th>\n",
       "      <td>...</td>\n",
       "      <td>...</td>\n",
       "      <td>...</td>\n",
       "      <td>...</td>\n",
       "      <td>...</td>\n",
       "      <td>...</td>\n",
       "      <td>...</td>\n",
       "      <td>...</td>\n",
       "      <td>...</td>\n",
       "    </tr>\n",
       "    <tr>\n",
       "      <th>236</th>\n",
       "      <td>강남구</td>\n",
       "      <td>역삼1동</td>\n",
       "      <td>2</td>\n",
       "      <td>0</td>\n",
       "      <td>0</td>\n",
       "      <td>0</td>\n",
       "      <td>0</td>\n",
       "      <td>0</td>\n",
       "      <td>0</td>\n",
       "    </tr>\n",
       "    <tr>\n",
       "      <th>237</th>\n",
       "      <td>강남구</td>\n",
       "      <td>역삼2동</td>\n",
       "      <td>2</td>\n",
       "      <td>0</td>\n",
       "      <td>0</td>\n",
       "      <td>0</td>\n",
       "      <td>0</td>\n",
       "      <td>0</td>\n",
       "      <td>0</td>\n",
       "    </tr>\n",
       "    <tr>\n",
       "      <th>238</th>\n",
       "      <td>강남구</td>\n",
       "      <td>도곡2동</td>\n",
       "      <td>1</td>\n",
       "      <td>0</td>\n",
       "      <td>0</td>\n",
       "      <td>0</td>\n",
       "      <td>0</td>\n",
       "      <td>0</td>\n",
       "      <td>0</td>\n",
       "    </tr>\n",
       "    <tr>\n",
       "      <th>239</th>\n",
       "      <td>강남구</td>\n",
       "      <td>일원1동</td>\n",
       "      <td>1</td>\n",
       "      <td>0</td>\n",
       "      <td>0</td>\n",
       "      <td>0</td>\n",
       "      <td>0</td>\n",
       "      <td>0</td>\n",
       "      <td>0</td>\n",
       "    </tr>\n",
       "    <tr>\n",
       "      <th>240</th>\n",
       "      <td>강남구</td>\n",
       "      <td>일원2동</td>\n",
       "      <td>2</td>\n",
       "      <td>0</td>\n",
       "      <td>0</td>\n",
       "      <td>0</td>\n",
       "      <td>0</td>\n",
       "      <td>0</td>\n",
       "      <td>0</td>\n",
       "    </tr>\n",
       "    <tr>\n",
       "      <th>241</th>\n",
       "      <td>강남구</td>\n",
       "      <td>수서동</td>\n",
       "      <td>1</td>\n",
       "      <td>0</td>\n",
       "      <td>0</td>\n",
       "      <td>0</td>\n",
       "      <td>0</td>\n",
       "      <td>0</td>\n",
       "      <td>0</td>\n",
       "    </tr>\n",
       "    <tr>\n",
       "      <th>242</th>\n",
       "      <td>강남구</td>\n",
       "      <td>압구정동</td>\n",
       "      <td>4</td>\n",
       "      <td>2</td>\n",
       "      <td>42496</td>\n",
       "      <td>0</td>\n",
       "      <td>0</td>\n",
       "      <td>0</td>\n",
       "      <td>0</td>\n",
       "    </tr>\n",
       "    <tr>\n",
       "      <th>243</th>\n",
       "      <td>강남구</td>\n",
       "      <td>청담동</td>\n",
       "      <td>3</td>\n",
       "      <td>1</td>\n",
       "      <td>54466</td>\n",
       "      <td>0</td>\n",
       "      <td>0</td>\n",
       "      <td>0</td>\n",
       "      <td>0</td>\n",
       "    </tr>\n",
       "    <tr>\n",
       "      <th>244</th>\n",
       "      <td>강남구</td>\n",
       "      <td>대치2동</td>\n",
       "      <td>2</td>\n",
       "      <td>0</td>\n",
       "      <td>0</td>\n",
       "      <td>0</td>\n",
       "      <td>0</td>\n",
       "      <td>0</td>\n",
       "      <td>0</td>\n",
       "    </tr>\n",
       "    <tr>\n",
       "      <th>245</th>\n",
       "      <td>송파구</td>\n",
       "      <td>소계</td>\n",
       "      <td>23</td>\n",
       "      <td>2</td>\n",
       "      <td>1371829</td>\n",
       "      <td>0</td>\n",
       "      <td>0</td>\n",
       "      <td>2</td>\n",
       "      <td>1391153</td>\n",
       "    </tr>\n",
       "    <tr>\n",
       "      <th>246</th>\n",
       "      <td>송파구</td>\n",
       "      <td>마천1동</td>\n",
       "      <td>1</td>\n",
       "      <td>0</td>\n",
       "      <td>0</td>\n",
       "      <td>0</td>\n",
       "      <td>0</td>\n",
       "      <td>0</td>\n",
       "      <td>0</td>\n",
       "    </tr>\n",
       "    <tr>\n",
       "      <th>247</th>\n",
       "      <td>송파구</td>\n",
       "      <td>마천2동</td>\n",
       "      <td>1</td>\n",
       "      <td>0</td>\n",
       "      <td>0</td>\n",
       "      <td>0</td>\n",
       "      <td>0</td>\n",
       "      <td>0</td>\n",
       "      <td>0</td>\n",
       "    </tr>\n",
       "    <tr>\n",
       "      <th>248</th>\n",
       "      <td>송파구</td>\n",
       "      <td>오륜동</td>\n",
       "      <td>1</td>\n",
       "      <td>0</td>\n",
       "      <td>0</td>\n",
       "      <td>0</td>\n",
       "      <td>0</td>\n",
       "      <td>0</td>\n",
       "      <td>0</td>\n",
       "    </tr>\n",
       "    <tr>\n",
       "      <th>249</th>\n",
       "      <td>송파구</td>\n",
       "      <td>오금동</td>\n",
       "      <td>1</td>\n",
       "      <td>0</td>\n",
       "      <td>0</td>\n",
       "      <td>0</td>\n",
       "      <td>0</td>\n",
       "      <td>0</td>\n",
       "      <td>0</td>\n",
       "    </tr>\n",
       "    <tr>\n",
       "      <th>250</th>\n",
       "      <td>송파구</td>\n",
       "      <td>송파1동</td>\n",
       "      <td>1</td>\n",
       "      <td>0</td>\n",
       "      <td>0</td>\n",
       "      <td>0</td>\n",
       "      <td>0</td>\n",
       "      <td>0</td>\n",
       "      <td>0</td>\n",
       "    </tr>\n",
       "    <tr>\n",
       "      <th>251</th>\n",
       "      <td>송파구</td>\n",
       "      <td>석촌동</td>\n",
       "      <td>1</td>\n",
       "      <td>0</td>\n",
       "      <td>0</td>\n",
       "      <td>0</td>\n",
       "      <td>0</td>\n",
       "      <td>0</td>\n",
       "      <td>0</td>\n",
       "    </tr>\n",
       "    <tr>\n",
       "      <th>252</th>\n",
       "      <td>송파구</td>\n",
       "      <td>가락2동</td>\n",
       "      <td>1</td>\n",
       "      <td>0</td>\n",
       "      <td>0</td>\n",
       "      <td>0</td>\n",
       "      <td>0</td>\n",
       "      <td>0</td>\n",
       "      <td>0</td>\n",
       "    </tr>\n",
       "    <tr>\n",
       "      <th>253</th>\n",
       "      <td>송파구</td>\n",
       "      <td>문정2동</td>\n",
       "      <td>4</td>\n",
       "      <td>0</td>\n",
       "      <td>0</td>\n",
       "      <td>0</td>\n",
       "      <td>0</td>\n",
       "      <td>0</td>\n",
       "      <td>0</td>\n",
       "    </tr>\n",
       "    <tr>\n",
       "      <th>254</th>\n",
       "      <td>송파구</td>\n",
       "      <td>잠실6동</td>\n",
       "      <td>6</td>\n",
       "      <td>1</td>\n",
       "      <td>807686</td>\n",
       "      <td>0</td>\n",
       "      <td>0</td>\n",
       "      <td>1</td>\n",
       "      <td>807686</td>\n",
       "    </tr>\n",
       "    <tr>\n",
       "      <th>255</th>\n",
       "      <td>송파구</td>\n",
       "      <td>잠실7동</td>\n",
       "      <td>1</td>\n",
       "      <td>0</td>\n",
       "      <td>0</td>\n",
       "      <td>0</td>\n",
       "      <td>0</td>\n",
       "      <td>0</td>\n",
       "      <td>0</td>\n",
       "    </tr>\n",
       "    <tr>\n",
       "      <th>256</th>\n",
       "      <td>송파구</td>\n",
       "      <td>잠실3동</td>\n",
       "      <td>5</td>\n",
       "      <td>1</td>\n",
       "      <td>564143</td>\n",
       "      <td>0</td>\n",
       "      <td>0</td>\n",
       "      <td>1</td>\n",
       "      <td>583467</td>\n",
       "    </tr>\n",
       "    <tr>\n",
       "      <th>257</th>\n",
       "      <td>강동구</td>\n",
       "      <td>소계</td>\n",
       "      <td>16</td>\n",
       "      <td>1</td>\n",
       "      <td>74203</td>\n",
       "      <td>0</td>\n",
       "      <td>0</td>\n",
       "      <td>0</td>\n",
       "      <td>0</td>\n",
       "    </tr>\n",
       "    <tr>\n",
       "      <th>258</th>\n",
       "      <td>강동구</td>\n",
       "      <td>명일2동</td>\n",
       "      <td>2</td>\n",
       "      <td>0</td>\n",
       "      <td>0</td>\n",
       "      <td>0</td>\n",
       "      <td>0</td>\n",
       "      <td>0</td>\n",
       "      <td>0</td>\n",
       "    </tr>\n",
       "    <tr>\n",
       "      <th>259</th>\n",
       "      <td>강동구</td>\n",
       "      <td>천호1동</td>\n",
       "      <td>1</td>\n",
       "      <td>0</td>\n",
       "      <td>0</td>\n",
       "      <td>0</td>\n",
       "      <td>0</td>\n",
       "      <td>0</td>\n",
       "      <td>0</td>\n",
       "    </tr>\n",
       "    <tr>\n",
       "      <th>260</th>\n",
       "      <td>강동구</td>\n",
       "      <td>천호3동</td>\n",
       "      <td>2</td>\n",
       "      <td>0</td>\n",
       "      <td>0</td>\n",
       "      <td>0</td>\n",
       "      <td>0</td>\n",
       "      <td>0</td>\n",
       "      <td>0</td>\n",
       "    </tr>\n",
       "    <tr>\n",
       "      <th>261</th>\n",
       "      <td>강동구</td>\n",
       "      <td>성내2동</td>\n",
       "      <td>1</td>\n",
       "      <td>0</td>\n",
       "      <td>0</td>\n",
       "      <td>0</td>\n",
       "      <td>0</td>\n",
       "      <td>0</td>\n",
       "      <td>0</td>\n",
       "    </tr>\n",
       "    <tr>\n",
       "      <th>262</th>\n",
       "      <td>강동구</td>\n",
       "      <td>성내3동</td>\n",
       "      <td>1</td>\n",
       "      <td>0</td>\n",
       "      <td>0</td>\n",
       "      <td>0</td>\n",
       "      <td>0</td>\n",
       "      <td>0</td>\n",
       "      <td>0</td>\n",
       "    </tr>\n",
       "    <tr>\n",
       "      <th>263</th>\n",
       "      <td>강동구</td>\n",
       "      <td>둔촌1동</td>\n",
       "      <td>1</td>\n",
       "      <td>0</td>\n",
       "      <td>0</td>\n",
       "      <td>0</td>\n",
       "      <td>0</td>\n",
       "      <td>0</td>\n",
       "      <td>0</td>\n",
       "    </tr>\n",
       "    <tr>\n",
       "      <th>264</th>\n",
       "      <td>강동구</td>\n",
       "      <td>천호2동</td>\n",
       "      <td>6</td>\n",
       "      <td>1</td>\n",
       "      <td>74203</td>\n",
       "      <td>0</td>\n",
       "      <td>0</td>\n",
       "      <td>0</td>\n",
       "      <td>0</td>\n",
       "    </tr>\n",
       "    <tr>\n",
       "      <th>265</th>\n",
       "      <td>강동구</td>\n",
       "      <td>길동</td>\n",
       "      <td>2</td>\n",
       "      <td>0</td>\n",
       "      <td>0</td>\n",
       "      <td>0</td>\n",
       "      <td>0</td>\n",
       "      <td>0</td>\n",
       "      <td>0</td>\n",
       "    </tr>\n",
       "  </tbody>\n",
       "</table>\n",
       "<p>266 rows × 9 columns</p>\n",
       "</div>"
      ],
      "text/plain": [
       "     자치구            동  store_총_개소  백화점_개소  백화점_건물연면적  복합쇼핑몰_개소  복합쇼핑몰_건물연면적  \\\n",
       "0     합계           합계         467      31    4043627        10      1534046   \n",
       "1    종로구           소계          12       0          0         0            0   \n",
       "2    종로구  종로1.2.3.4가동           6       0          0         0            0   \n",
       "3    종로구      종로5·6가동           3       0          0         0            0   \n",
       "4    종로구         창신1동           1       0          0         0            0   \n",
       "5    종로구         창신3동           1       0          0         0            0   \n",
       "6    종로구         숭인2동           1       0          0         0            0   \n",
       "7     중구           소계          53       3     257042         0            0   \n",
       "8     중구          소공동           3       2     125379         0            0   \n",
       "9     중구          회현동           9       1     131663         0            0   \n",
       "10    중구           명동           6       0          0         0            0   \n",
       "11    중구          광희동          12       0          0         0            0   \n",
       "12    중구         을지로동           2       0          0         0            0   \n",
       "13    중구          황학동           3       0          0         0            0   \n",
       "14    중구          신당동          16       0          0         0            0   \n",
       "15    중구          약수동           2       0          0         0            0   \n",
       "16   용산구           소계          15       1     276688         0            0   \n",
       "17   용산구        원효로2동           1       0          0         0            0   \n",
       "18   용산구        이태원1동           2       0          0         0            0   \n",
       "19   용산구         서빙고동           1       0          0         0            0   \n",
       "20   용산구          보광동           1       0          0         0            0   \n",
       "21   용산구          청파동           1       0          0         0            0   \n",
       "22   용산구         한강로동           9       1     276688         0            0   \n",
       "23   성동구           소계          13       0          0         1       142038   \n",
       "24   성동구          마장동           1       0          0         0            0   \n",
       "25   성동구         행당1동           3       0          0         1       142038   \n",
       "26   성동구         행당2동           2       0          0         0            0   \n",
       "27   성동구       성수2가1동           2       0          0         0            0   \n",
       "28   성동구       성수2가3동           1       0          0         0            0   \n",
       "29   성동구          용답동           1       0          0         0            0   \n",
       "..   ...          ...         ...     ...        ...       ...          ...   \n",
       "236  강남구         역삼1동           2       0          0         0            0   \n",
       "237  강남구         역삼2동           2       0          0         0            0   \n",
       "238  강남구         도곡2동           1       0          0         0            0   \n",
       "239  강남구         일원1동           1       0          0         0            0   \n",
       "240  강남구         일원2동           2       0          0         0            0   \n",
       "241  강남구          수서동           1       0          0         0            0   \n",
       "242  강남구         압구정동           4       2      42496         0            0   \n",
       "243  강남구          청담동           3       1      54466         0            0   \n",
       "244  강남구         대치2동           2       0          0         0            0   \n",
       "245  송파구           소계          23       2    1371829         0            0   \n",
       "246  송파구         마천1동           1       0          0         0            0   \n",
       "247  송파구         마천2동           1       0          0         0            0   \n",
       "248  송파구          오륜동           1       0          0         0            0   \n",
       "249  송파구          오금동           1       0          0         0            0   \n",
       "250  송파구         송파1동           1       0          0         0            0   \n",
       "251  송파구          석촌동           1       0          0         0            0   \n",
       "252  송파구         가락2동           1       0          0         0            0   \n",
       "253  송파구         문정2동           4       0          0         0            0   \n",
       "254  송파구         잠실6동           6       1     807686         0            0   \n",
       "255  송파구         잠실7동           1       0          0         0            0   \n",
       "256  송파구         잠실3동           5       1     564143         0            0   \n",
       "257  강동구           소계          16       1      74203         0            0   \n",
       "258  강동구         명일2동           2       0          0         0            0   \n",
       "259  강동구         천호1동           1       0          0         0            0   \n",
       "260  강동구         천호3동           2       0          0         0            0   \n",
       "261  강동구         성내2동           1       0          0         0            0   \n",
       "262  강동구         성내3동           1       0          0         0            0   \n",
       "263  강동구         둔촌1동           1       0          0         0            0   \n",
       "264  강동구         천호2동           6       1      74203         0            0   \n",
       "265  강동구           길동           2       0          0         0            0   \n",
       "\n",
       "     전문점_개소  전문점_건물연면적  \n",
       "0        22    2829420  \n",
       "1         2     168311  \n",
       "2         2     168311  \n",
       "3         0          0  \n",
       "4         0          0  \n",
       "5         0          0  \n",
       "6         0          0  \n",
       "7         2     520932  \n",
       "8         0          0  \n",
       "9         0          0  \n",
       "10        0          0  \n",
       "11        0          0  \n",
       "12        0          0  \n",
       "13        0          0  \n",
       "14        2     520932  \n",
       "15        0          0  \n",
       "16        5     230512  \n",
       "17        1      16442  \n",
       "18        0          0  \n",
       "19        0          0  \n",
       "20        0          0  \n",
       "21        0          0  \n",
       "22        4     214070  \n",
       "23        1      31845  \n",
       "24        0          0  \n",
       "25        0          0  \n",
       "26        0          0  \n",
       "27        0          0  \n",
       "28        0          0  \n",
       "29        1      31845  \n",
       "..      ...        ...  \n",
       "236       0          0  \n",
       "237       0          0  \n",
       "238       0          0  \n",
       "239       0          0  \n",
       "240       0          0  \n",
       "241       0          0  \n",
       "242       0          0  \n",
       "243       0          0  \n",
       "244       0          0  \n",
       "245       2    1391153  \n",
       "246       0          0  \n",
       "247       0          0  \n",
       "248       0          0  \n",
       "249       0          0  \n",
       "250       0          0  \n",
       "251       0          0  \n",
       "252       0          0  \n",
       "253       0          0  \n",
       "254       1     807686  \n",
       "255       0          0  \n",
       "256       1     583467  \n",
       "257       0          0  \n",
       "258       0          0  \n",
       "259       0          0  \n",
       "260       0          0  \n",
       "261       0          0  \n",
       "262       0          0  \n",
       "263       0          0  \n",
       "264       0          0  \n",
       "265       0          0  \n",
       "\n",
       "[266 rows x 9 columns]"
      ]
     },
     "execution_count": 78,
     "metadata": {},
     "output_type": "execute_result"
    }
   ],
   "source": [
    "num_store"
   ]
  },
  {
   "cell_type": "code",
   "execution_count": 79,
   "metadata": {
    "scrolled": true
   },
   "outputs": [],
   "source": [
    "num_store=num_store[num_store.동 != '합계']\n",
    "num_store=num_store[num_store.동 != '본청']\n",
    "num_store=num_store[num_store.동 != '소계']\n",
    "num_store=num_store[num_store.동 != '기타']"
   ]
  },
  {
   "cell_type": "code",
   "execution_count": 80,
   "metadata": {
    "scrolled": false
   },
   "outputs": [
    {
     "data": {
      "text/plain": [
       "240"
      ]
     },
     "execution_count": 80,
     "metadata": {},
     "output_type": "execute_result"
    }
   ],
   "source": [
    "len(num_store)"
   ]
  },
  {
   "cell_type": "code",
   "execution_count": 81,
   "metadata": {
    "scrolled": true
   },
   "outputs": [
    {
     "data": {
      "text/plain": [
       "set()"
      ]
     },
     "execution_count": 81,
     "metadata": {},
     "output_type": "execute_result"
    }
   ],
   "source": [
    "set(num_store.동)-set(num_company.동)"
   ]
  },
  {
   "cell_type": "markdown",
   "metadata": {},
   "source": [
    "# 아파트 m^2 당 편균 매매가"
   ]
  },
  {
   "cell_type": "code",
   "execution_count": 82,
   "metadata": {},
   "outputs": [],
   "source": [
    "apt = pd.read_excel('시세통계_면적당평균가_201907기준(2003버전).xls', skiprows=range(0,4), usecols=[0,1,2,3,4,41])"
   ]
  },
  {
   "cell_type": "code",
   "execution_count": 83,
   "metadata": {},
   "outputs": [],
   "source": [
    "apt = apt[(apt['시도']=='서울특별시')]"
   ]
  },
  {
   "cell_type": "code",
   "execution_count": 84,
   "metadata": {},
   "outputs": [
    {
     "data": {
      "text/plain": [
       "Index(['시도', '구시군', '구', '동읍면', '값', 201907], dtype='object')"
      ]
     },
     "execution_count": 84,
     "metadata": {},
     "output_type": "execute_result"
    }
   ],
   "source": [
    "apt.columns"
   ]
  },
  {
   "cell_type": "code",
   "execution_count": 85,
   "metadata": {
    "scrolled": true
   },
   "outputs": [],
   "source": [
    "apt = apt[['구시군', '동읍면', '값', 201907]]"
   ]
  },
  {
   "cell_type": "code",
   "execution_count": 86,
   "metadata": {},
   "outputs": [],
   "source": [
    "apt.columns = ['자치구', '동', '값', '가격']"
   ]
  },
  {
   "cell_type": "code",
   "execution_count": 87,
   "metadata": {
    "scrolled": true
   },
   "outputs": [
    {
     "name": "stdout",
     "output_type": "stream",
     "text": [
      "자치구 결측치 수 : 2\n",
      "동 결측치 수 : 52\n",
      "값 결측치 수 : 0\n",
      "가격 결측치 수 : 0\n"
     ]
    }
   ],
   "source": [
    "for i in range(len(apt.columns)) :\n",
    "    print(list(apt.columns)[i],\"결측치 수 :\",sum(apt[list(apt.columns)[i]].isnull()))"
   ]
  },
  {
   "cell_type": "code",
   "execution_count": 88,
   "metadata": {},
   "outputs": [],
   "source": [
    "apt_mae = apt[(apt['값']=='㎡당 매매평균가 ')]\n",
    "apt_jun = apt[(apt['값']=='㎡당 전세평균가 ')]"
   ]
  },
  {
   "cell_type": "code",
   "execution_count": 89,
   "metadata": {
    "scrolled": true
   },
   "outputs": [
    {
     "name": "stderr",
     "output_type": "stream",
     "text": [
      "C:\\Users\\Cho Gyung Ah\\Anaconda3\\lib\\site-packages\\pandas\\core\\indexing.py:543: SettingWithCopyWarning: \n",
      "A value is trying to be set on a copy of a slice from a DataFrame.\n",
      "Try using .loc[row_indexer,col_indexer] = value instead\n",
      "\n",
      "See the caveats in the documentation: http://pandas.pydata.org/pandas-docs/stable/indexing.html#indexing-view-versus-copy\n",
      "  self.obj[item] = s\n",
      "C:\\Users\\Cho Gyung Ah\\Anaconda3\\lib\\site-packages\\pandas\\core\\frame.py:4034: SettingWithCopyWarning: \n",
      "A value is trying to be set on a copy of a slice from a DataFrame\n",
      "\n",
      "See the caveats in the documentation: http://pandas.pydata.org/pandas-docs/stable/indexing.html#indexing-view-versus-copy\n",
      "  downcast=downcast, **kwargs)\n"
     ]
    }
   ],
   "source": [
    "apt_mae.iloc[0,0] = '합계'\n",
    "apt_mae.iloc[0,1] = '합계'\n",
    "apt_mae.fillna('소계', inplace= True)\n",
    "apt_jun.iloc[0,0] = '합계'\n",
    "apt_jun.iloc[0,1] = '합계'\n",
    "apt_jun.fillna('소계', inplace= True)"
   ]
  },
  {
   "cell_type": "code",
   "execution_count": 90,
   "metadata": {},
   "outputs": [],
   "source": [
    "apt_mae = apt_mae[['자치구', '동', '가격']]\n",
    "apt_mae.columns = ['자치구', '동', '㎡당 매매평균가']"
   ]
  },
  {
   "cell_type": "code",
   "execution_count": 91,
   "metadata": {},
   "outputs": [],
   "source": [
    "apt_jun = apt_jun[['자치구', '동', '가격']]\n",
    "apt_jun.columns = ['자치구', '동', '㎡당 전세평균가']"
   ]
  },
  {
   "cell_type": "code",
   "execution_count": 92,
   "metadata": {},
   "outputs": [
    {
     "data": {
      "text/html": [
       "<div>\n",
       "<style scoped>\n",
       "    .dataframe tbody tr th:only-of-type {\n",
       "        vertical-align: middle;\n",
       "    }\n",
       "\n",
       "    .dataframe tbody tr th {\n",
       "        vertical-align: top;\n",
       "    }\n",
       "\n",
       "    .dataframe thead th {\n",
       "        text-align: right;\n",
       "    }\n",
       "</style>\n",
       "<table border=\"1\" class=\"dataframe\">\n",
       "  <thead>\n",
       "    <tr style=\"text-align: right;\">\n",
       "      <th></th>\n",
       "      <th>자치구</th>\n",
       "      <th>동</th>\n",
       "      <th>㎡당 매매평균가</th>\n",
       "    </tr>\n",
       "  </thead>\n",
       "  <tbody>\n",
       "    <tr>\n",
       "      <th>2</th>\n",
       "      <td>합계</td>\n",
       "      <td>합계</td>\n",
       "      <td>820.0</td>\n",
       "    </tr>\n",
       "    <tr>\n",
       "      <th>4</th>\n",
       "      <td>강남구</td>\n",
       "      <td>소계</td>\n",
       "      <td>1649.0</td>\n",
       "    </tr>\n",
       "    <tr>\n",
       "      <th>6</th>\n",
       "      <td>강남구</td>\n",
       "      <td>개포동</td>\n",
       "      <td>2538.0</td>\n",
       "    </tr>\n",
       "    <tr>\n",
       "      <th>8</th>\n",
       "      <td>강남구</td>\n",
       "      <td>논현동</td>\n",
       "      <td>1079.0</td>\n",
       "    </tr>\n",
       "    <tr>\n",
       "      <th>10</th>\n",
       "      <td>강남구</td>\n",
       "      <td>대치동</td>\n",
       "      <td>1672.0</td>\n",
       "    </tr>\n",
       "  </tbody>\n",
       "</table>\n",
       "</div>"
      ],
      "text/plain": [
       "    자치구    동  ㎡당 매매평균가\n",
       "2    합계   합계     820.0\n",
       "4   강남구   소계    1649.0\n",
       "6   강남구  개포동    2538.0\n",
       "8   강남구  논현동    1079.0\n",
       "10  강남구  대치동    1672.0"
      ]
     },
     "execution_count": 92,
     "metadata": {},
     "output_type": "execute_result"
    }
   ],
   "source": [
    "apt_mae.head()"
   ]
  },
  {
   "cell_type": "code",
   "execution_count": 93,
   "metadata": {},
   "outputs": [
    {
     "data": {
      "text/html": [
       "<div>\n",
       "<style scoped>\n",
       "    .dataframe tbody tr th:only-of-type {\n",
       "        vertical-align: middle;\n",
       "    }\n",
       "\n",
       "    .dataframe tbody tr th {\n",
       "        vertical-align: top;\n",
       "    }\n",
       "\n",
       "    .dataframe thead th {\n",
       "        text-align: right;\n",
       "    }\n",
       "</style>\n",
       "<table border=\"1\" class=\"dataframe\">\n",
       "  <thead>\n",
       "    <tr style=\"text-align: right;\">\n",
       "      <th></th>\n",
       "      <th>자치구</th>\n",
       "      <th>동</th>\n",
       "      <th>㎡당 전세평균가</th>\n",
       "    </tr>\n",
       "  </thead>\n",
       "  <tbody>\n",
       "    <tr>\n",
       "      <th>3</th>\n",
       "      <td>합계</td>\n",
       "      <td>합계</td>\n",
       "      <td>425.0</td>\n",
       "    </tr>\n",
       "    <tr>\n",
       "      <th>5</th>\n",
       "      <td>강남구</td>\n",
       "      <td>소계</td>\n",
       "      <td>639.0</td>\n",
       "    </tr>\n",
       "    <tr>\n",
       "      <th>7</th>\n",
       "      <td>강남구</td>\n",
       "      <td>개포동</td>\n",
       "      <td>563.0</td>\n",
       "    </tr>\n",
       "    <tr>\n",
       "      <th>9</th>\n",
       "      <td>강남구</td>\n",
       "      <td>논현동</td>\n",
       "      <td>577.0</td>\n",
       "    </tr>\n",
       "    <tr>\n",
       "      <th>11</th>\n",
       "      <td>강남구</td>\n",
       "      <td>대치동</td>\n",
       "      <td>710.0</td>\n",
       "    </tr>\n",
       "  </tbody>\n",
       "</table>\n",
       "</div>"
      ],
      "text/plain": [
       "    자치구    동  ㎡당 전세평균가\n",
       "3    합계   합계     425.0\n",
       "5   강남구   소계     639.0\n",
       "7   강남구  개포동     563.0\n",
       "9   강남구  논현동     577.0\n",
       "11  강남구  대치동     710.0"
      ]
     },
     "execution_count": 93,
     "metadata": {},
     "output_type": "execute_result"
    }
   ],
   "source": [
    "apt_jun.head()"
   ]
  },
  {
   "cell_type": "code",
   "execution_count": 94,
   "metadata": {},
   "outputs": [],
   "source": [
    "apt = pd.merge(apt_mae, apt_jun, on=['자치구','동'])"
   ]
  },
  {
   "cell_type": "code",
   "execution_count": 95,
   "metadata": {
    "scrolled": true
   },
   "outputs": [],
   "source": [
    "apt=apt[apt.동 != '합계']\n",
    "apt=apt[apt.동 != '본청']\n",
    "apt=apt[apt.동 != '소계']\n",
    "apt=apt[apt.동 != '기타']"
   ]
  },
  {
   "cell_type": "markdown",
   "metadata": {},
   "source": [
    "apt.동.replace(\"가\", \"동\", regex=True, inplace= True)"
   ]
  },
  {
   "cell_type": "markdown",
   "metadata": {},
   "source": [
    "apt.동.replace(\"동\", \"\", regex=True, inplace= True)"
   ]
  },
  {
   "cell_type": "markdown",
   "metadata": {},
   "source": [
    "a = re.sub('[동]','', str(a))"
   ]
  },
  {
   "cell_type": "markdown",
   "metadata": {},
   "source": [
    "### 아파트 동명 비교하기"
   ]
  },
  {
   "cell_type": "code",
   "execution_count": 96,
   "metadata": {
    "scrolled": true
   },
   "outputs": [],
   "source": [
    "a= apt.동.sort_values()\n",
    "b= index1.동.sort_values()"
   ]
  },
  {
   "cell_type": "code",
   "execution_count": 97,
   "metadata": {},
   "outputs": [],
   "source": [
    "inin = index1"
   ]
  },
  {
   "cell_type": "code",
   "execution_count": 98,
   "metadata": {
    "scrolled": true
   },
   "outputs": [],
   "source": [
    "apt['two'] = a.str[:2]\n",
    "inin['two'] = b.str[:2]\n",
    "apt['one'] = a.str[:1]\n",
    "inin['one'] = b.str[:1]"
   ]
  },
  {
   "cell_type": "code",
   "execution_count": 99,
   "metadata": {},
   "outputs": [],
   "source": [
    "apt = apt.merge(inin, how = 'left', on =['자치구','one'])"
   ]
  },
  {
   "cell_type": "markdown",
   "metadata": {},
   "source": [
    "c = set(index1.동)-set(apt_edit.동_x)\n",
    "index1[(index1['동'].isin(c))].sort_values('자치구')"
   ]
  },
  {
   "cell_type": "code",
   "execution_count": 101,
   "metadata": {},
   "outputs": [],
   "source": [
    "apt.to_excel('aptapt1.xlsx')"
   ]
  },
  {
   "cell_type": "code",
   "execution_count": 134,
   "metadata": {},
   "outputs": [],
   "source": [
    "apt_edit = pd.read_csv('piddam.csv',engine='python', encoding='cp949')"
   ]
  },
  {
   "cell_type": "code",
   "execution_count": 135,
   "metadata": {
    "scrolled": true
   },
   "outputs": [
    {
     "data": {
      "text/plain": [
       "425"
      ]
     },
     "execution_count": 135,
     "metadata": {},
     "output_type": "execute_result"
    }
   ],
   "source": [
    "len(apt_edit)"
   ]
  },
  {
   "cell_type": "code",
   "execution_count": 136,
   "metadata": {
    "scrolled": true
   },
   "outputs": [],
   "source": [
    "apt_edit = apt_edit[['자치구', '동_x', '㎡당 매매평균가', '㎡당 전세평균가']]"
   ]
  },
  {
   "cell_type": "code",
   "execution_count": 137,
   "metadata": {},
   "outputs": [],
   "source": [
    "apt_edit.columns=  ['자치구', '동', '㎡당 매매평균가', '㎡당 전세평균가']"
   ]
  },
  {
   "cell_type": "code",
   "execution_count": null,
   "metadata": {},
   "outputs": [],
   "source": []
  },
  {
   "cell_type": "markdown",
   "metadata": {},
   "source": [
    "# 동별 합치기"
   ]
  },
  {
   "cell_type": "code",
   "execution_count": 138,
   "metadata": {
    "scrolled": true
   },
   "outputs": [
    {
     "data": {
      "text/plain": [
       "set()"
      ]
     },
     "execution_count": 138,
     "metadata": {},
     "output_type": "execute_result"
    }
   ],
   "source": [
    "((set(num_store.동)-set(num_company.동))) | ((set(underGDP.동)-set(num_company.동)))"
   ]
  },
  {
   "cell_type": "code",
   "execution_count": 139,
   "metadata": {
    "scrolled": false
   },
   "outputs": [
    {
     "data": {
      "text/plain": [
       "(424, 3)"
      ]
     },
     "execution_count": 139,
     "metadata": {},
     "output_type": "execute_result"
    }
   ],
   "source": [
    "num_company.shape"
   ]
  },
  {
   "cell_type": "code",
   "execution_count": 140,
   "metadata": {},
   "outputs": [
    {
     "data": {
      "text/plain": [
       "(240, 9)"
      ]
     },
     "execution_count": 140,
     "metadata": {},
     "output_type": "execute_result"
    }
   ],
   "source": [
    "num_store.shape"
   ]
  },
  {
   "cell_type": "code",
   "execution_count": 141,
   "metadata": {},
   "outputs": [
    {
     "data": {
      "text/plain": [
       "(423, 3)"
      ]
     },
     "execution_count": 141,
     "metadata": {},
     "output_type": "execute_result"
    }
   ],
   "source": [
    "underGDP.shape"
   ]
  },
  {
   "cell_type": "code",
   "execution_count": 142,
   "metadata": {
    "scrolled": true
   },
   "outputs": [
    {
     "data": {
      "text/plain": [
       "(425, 4)"
      ]
     },
     "execution_count": 142,
     "metadata": {},
     "output_type": "execute_result"
    }
   ],
   "source": [
    "apt_edit.shape"
   ]
  },
  {
   "cell_type": "code",
   "execution_count": 143,
   "metadata": {},
   "outputs": [
    {
     "data": {
      "text/plain": [
       "238"
      ]
     },
     "execution_count": 143,
     "metadata": {},
     "output_type": "execute_result"
    }
   ],
   "source": [
    "len(set(num_company.동) & set(num_store.동) & set(underGDP.동))"
   ]
  },
  {
   "cell_type": "code",
   "execution_count": 144,
   "metadata": {
    "scrolled": true
   },
   "outputs": [
    {
     "data": {
      "text/plain": [
       "set()"
      ]
     },
     "execution_count": 144,
     "metadata": {},
     "output_type": "execute_result"
    }
   ],
   "source": [
    "set(num_store.동) - set(num_company.동)"
   ]
  },
  {
   "cell_type": "code",
   "execution_count": 145,
   "metadata": {
    "scrolled": true
   },
   "outputs": [
    {
     "ename": "KeyError",
     "evalue": "\"['면적'] not in index\"",
     "output_type": "error",
     "traceback": [
      "\u001b[1;31m---------------------------------------------------------------------------\u001b[0m",
      "\u001b[1;31mKeyError\u001b[0m                                  Traceback (most recent call last)",
      "\u001b[1;32m<ipython-input-145-3797717471d8>\u001b[0m in \u001b[0;36m<module>\u001b[1;34m\u001b[0m\n\u001b[1;32m----> 1\u001b[1;33m \u001b[0mindex1\u001b[0m \u001b[1;33m=\u001b[0m \u001b[0mindex1\u001b[0m\u001b[1;33m[\u001b[0m\u001b[1;33m[\u001b[0m\u001b[1;34m'자치구'\u001b[0m\u001b[1;33m,\u001b[0m \u001b[1;34m'동'\u001b[0m\u001b[1;33m,\u001b[0m \u001b[1;34m'면적'\u001b[0m\u001b[1;33m]\u001b[0m\u001b[1;33m]\u001b[0m\u001b[1;33m\u001b[0m\u001b[1;33m\u001b[0m\u001b[0m\n\u001b[0m",
      "\u001b[1;32m~\\Anaconda3\\lib\\site-packages\\pandas\\core\\frame.py\u001b[0m in \u001b[0;36m__getitem__\u001b[1;34m(self, key)\u001b[0m\n\u001b[0;32m   2932\u001b[0m                 \u001b[0mkey\u001b[0m \u001b[1;33m=\u001b[0m \u001b[0mlist\u001b[0m\u001b[1;33m(\u001b[0m\u001b[0mkey\u001b[0m\u001b[1;33m)\u001b[0m\u001b[1;33m\u001b[0m\u001b[1;33m\u001b[0m\u001b[0m\n\u001b[0;32m   2933\u001b[0m             indexer = self.loc._convert_to_indexer(key, axis=1,\n\u001b[1;32m-> 2934\u001b[1;33m                                                    raise_missing=True)\n\u001b[0m\u001b[0;32m   2935\u001b[0m \u001b[1;33m\u001b[0m\u001b[0m\n\u001b[0;32m   2936\u001b[0m         \u001b[1;31m# take() does not accept boolean indexers\u001b[0m\u001b[1;33m\u001b[0m\u001b[1;33m\u001b[0m\u001b[1;33m\u001b[0m\u001b[0m\n",
      "\u001b[1;32m~\\Anaconda3\\lib\\site-packages\\pandas\\core\\indexing.py\u001b[0m in \u001b[0;36m_convert_to_indexer\u001b[1;34m(self, obj, axis, is_setter, raise_missing)\u001b[0m\n\u001b[0;32m   1352\u001b[0m                 kwargs = {'raise_missing': True if is_setter else\n\u001b[0;32m   1353\u001b[0m                           raise_missing}\n\u001b[1;32m-> 1354\u001b[1;33m                 \u001b[1;32mreturn\u001b[0m \u001b[0mself\u001b[0m\u001b[1;33m.\u001b[0m\u001b[0m_get_listlike_indexer\u001b[0m\u001b[1;33m(\u001b[0m\u001b[0mobj\u001b[0m\u001b[1;33m,\u001b[0m \u001b[0maxis\u001b[0m\u001b[1;33m,\u001b[0m \u001b[1;33m**\u001b[0m\u001b[0mkwargs\u001b[0m\u001b[1;33m)\u001b[0m\u001b[1;33m[\u001b[0m\u001b[1;36m1\u001b[0m\u001b[1;33m]\u001b[0m\u001b[1;33m\u001b[0m\u001b[1;33m\u001b[0m\u001b[0m\n\u001b[0m\u001b[0;32m   1355\u001b[0m         \u001b[1;32melse\u001b[0m\u001b[1;33m:\u001b[0m\u001b[1;33m\u001b[0m\u001b[1;33m\u001b[0m\u001b[0m\n\u001b[0;32m   1356\u001b[0m             \u001b[1;32mtry\u001b[0m\u001b[1;33m:\u001b[0m\u001b[1;33m\u001b[0m\u001b[1;33m\u001b[0m\u001b[0m\n",
      "\u001b[1;32m~\\Anaconda3\\lib\\site-packages\\pandas\\core\\indexing.py\u001b[0m in \u001b[0;36m_get_listlike_indexer\u001b[1;34m(self, key, axis, raise_missing)\u001b[0m\n\u001b[0;32m   1159\u001b[0m         self._validate_read_indexer(keyarr, indexer,\n\u001b[0;32m   1160\u001b[0m                                     \u001b[0mo\u001b[0m\u001b[1;33m.\u001b[0m\u001b[0m_get_axis_number\u001b[0m\u001b[1;33m(\u001b[0m\u001b[0maxis\u001b[0m\u001b[1;33m)\u001b[0m\u001b[1;33m,\u001b[0m\u001b[1;33m\u001b[0m\u001b[1;33m\u001b[0m\u001b[0m\n\u001b[1;32m-> 1161\u001b[1;33m                                     raise_missing=raise_missing)\n\u001b[0m\u001b[0;32m   1162\u001b[0m         \u001b[1;32mreturn\u001b[0m \u001b[0mkeyarr\u001b[0m\u001b[1;33m,\u001b[0m \u001b[0mindexer\u001b[0m\u001b[1;33m\u001b[0m\u001b[1;33m\u001b[0m\u001b[0m\n\u001b[0;32m   1163\u001b[0m \u001b[1;33m\u001b[0m\u001b[0m\n",
      "\u001b[1;32m~\\Anaconda3\\lib\\site-packages\\pandas\\core\\indexing.py\u001b[0m in \u001b[0;36m_validate_read_indexer\u001b[1;34m(self, key, indexer, axis, raise_missing)\u001b[0m\n\u001b[0;32m   1250\u001b[0m             \u001b[1;32mif\u001b[0m \u001b[1;32mnot\u001b[0m\u001b[1;33m(\u001b[0m\u001b[0mself\u001b[0m\u001b[1;33m.\u001b[0m\u001b[0mname\u001b[0m \u001b[1;33m==\u001b[0m \u001b[1;34m'loc'\u001b[0m \u001b[1;32mand\u001b[0m \u001b[1;32mnot\u001b[0m \u001b[0mraise_missing\u001b[0m\u001b[1;33m)\u001b[0m\u001b[1;33m:\u001b[0m\u001b[1;33m\u001b[0m\u001b[1;33m\u001b[0m\u001b[0m\n\u001b[0;32m   1251\u001b[0m                 \u001b[0mnot_found\u001b[0m \u001b[1;33m=\u001b[0m \u001b[0mlist\u001b[0m\u001b[1;33m(\u001b[0m\u001b[0mset\u001b[0m\u001b[1;33m(\u001b[0m\u001b[0mkey\u001b[0m\u001b[1;33m)\u001b[0m \u001b[1;33m-\u001b[0m \u001b[0mset\u001b[0m\u001b[1;33m(\u001b[0m\u001b[0max\u001b[0m\u001b[1;33m)\u001b[0m\u001b[1;33m)\u001b[0m\u001b[1;33m\u001b[0m\u001b[1;33m\u001b[0m\u001b[0m\n\u001b[1;32m-> 1252\u001b[1;33m                 \u001b[1;32mraise\u001b[0m \u001b[0mKeyError\u001b[0m\u001b[1;33m(\u001b[0m\u001b[1;34m\"{} not in index\"\u001b[0m\u001b[1;33m.\u001b[0m\u001b[0mformat\u001b[0m\u001b[1;33m(\u001b[0m\u001b[0mnot_found\u001b[0m\u001b[1;33m)\u001b[0m\u001b[1;33m)\u001b[0m\u001b[1;33m\u001b[0m\u001b[1;33m\u001b[0m\u001b[0m\n\u001b[0m\u001b[0;32m   1253\u001b[0m \u001b[1;33m\u001b[0m\u001b[0m\n\u001b[0;32m   1254\u001b[0m             \u001b[1;31m# we skip the warning on Categorical/Interval\u001b[0m\u001b[1;33m\u001b[0m\u001b[1;33m\u001b[0m\u001b[1;33m\u001b[0m\u001b[0m\n",
      "\u001b[1;31mKeyError\u001b[0m: \"['면적'] not in index\""
     ]
    }
   ],
   "source": [
    "index1 = index1[['자치구', '동', '면적']]"
   ]
  },
  {
   "cell_type": "code",
   "execution_count": 146,
   "metadata": {
    "scrolled": true
   },
   "outputs": [],
   "source": [
    "index1.columns = ['자치구', '동', '면적_동']"
   ]
  },
  {
   "cell_type": "code",
   "execution_count": null,
   "metadata": {},
   "outputs": [],
   "source": []
  },
  {
   "cell_type": "code",
   "execution_count": null,
   "metadata": {},
   "outputs": [],
   "source": []
  },
  {
   "cell_type": "markdown",
   "metadata": {},
   "source": [
    "# 합치기"
   ]
  },
  {
   "cell_type": "code",
   "execution_count": 147,
   "metadata": {},
   "outputs": [],
   "source": [
    "result = pd.merge(index1, num_store,how='outer', on=['자치구','동'])"
   ]
  },
  {
   "cell_type": "code",
   "execution_count": 148,
   "metadata": {},
   "outputs": [],
   "source": [
    "result = pd.merge(result, num_company,how='outer', on=['자치구','동'])"
   ]
  },
  {
   "cell_type": "code",
   "execution_count": 149,
   "metadata": {},
   "outputs": [],
   "source": [
    "result = pd.merge(result, underGDP, on=['자치구','동'], how='outer')"
   ]
  },
  {
   "cell_type": "code",
   "execution_count": 150,
   "metadata": {},
   "outputs": [],
   "source": [
    "dong_2 = pd.merge(result, apt_edit, on=['자치구','동'], how='left')"
   ]
  },
  {
   "cell_type": "code",
   "execution_count": 151,
   "metadata": {},
   "outputs": [],
   "source": [
    "dong_2 = pd.merge(dong_2, imp_car, on=['자치구'], how='left')"
   ]
  },
  {
   "cell_type": "code",
   "execution_count": 152,
   "metadata": {
    "scrolled": true
   },
   "outputs": [
    {
     "name": "stdout",
     "output_type": "stream",
     "text": [
      "<class 'pandas.core.frame.DataFrame'>\n",
      "Int64Index: 424 entries, 0 to 423\n",
      "Data columns (total 17 columns):\n",
      "자치구            424 non-null object\n",
      "동              424 non-null object\n",
      "면적_동           424 non-null object\n",
      "store_총_개소     240 non-null float64\n",
      "백화점_개소         240 non-null float64\n",
      "백화점_건물연면적      240 non-null float64\n",
      "복합쇼핑몰_개소       240 non-null float64\n",
      "복합쇼핑몰_건물연면적    240 non-null float64\n",
      "전문점_개소         240 non-null float64\n",
      "전문점_건물연면적      240 non-null float64\n",
      "합계_사업체수        424 non-null int32\n",
      "총_수급자_가구       423 non-null float64\n",
      "㎡당 매매평균가       424 non-null float64\n",
      "㎡당 전세평균가       424 non-null float64\n",
      "수입차합계          424 non-null float64\n",
      "수입화물차          424 non-null float64\n",
      "수입특수차          424 non-null float64\n",
      "dtypes: float64(13), int32(1), object(3)\n",
      "memory usage: 58.0+ KB\n"
     ]
    }
   ],
   "source": [
    "dong_2.info()"
   ]
  },
  {
   "cell_type": "code",
   "execution_count": 153,
   "metadata": {},
   "outputs": [],
   "source": [
    "dong_1 = pd.read_csv('dong_1.csv',usecols = [1,2,3,4,5,6,7,8,9,10])"
   ]
  },
  {
   "cell_type": "code",
   "execution_count": 154,
   "metadata": {
    "scrolled": true
   },
   "outputs": [
    {
     "data": {
      "text/plain": [
       "3392"
      ]
     },
     "execution_count": 154,
     "metadata": {},
     "output_type": "execute_result"
    }
   ],
   "source": [
    "len(dong_1)"
   ]
  },
  {
   "cell_type": "code",
   "execution_count": 155,
   "metadata": {},
   "outputs": [],
   "source": [
    "dong = pd.merge(dong_2, dong_1, on=['자치구','동'], how='inner')"
   ]
  },
  {
   "cell_type": "code",
   "execution_count": 161,
   "metadata": {},
   "outputs": [],
   "source": [
    "dong.fillna(0, inplace=True)"
   ]
  },
  {
   "cell_type": "code",
   "execution_count": 162,
   "metadata": {},
   "outputs": [
    {
     "name": "stdout",
     "output_type": "stream",
     "text": [
      "<class 'pandas.core.frame.DataFrame'>\n",
      "Int64Index: 3392 entries, 0 to 3391\n",
      "Data columns (total 25 columns):\n",
      "자치구            3392 non-null object\n",
      "동              3392 non-null object\n",
      "면적_동           3392 non-null object\n",
      "store_총_개소     3392 non-null float64\n",
      "백화점_개소         3392 non-null float64\n",
      "백화점_건물연면적      3392 non-null float64\n",
      "복합쇼핑몰_개소       3392 non-null float64\n",
      "복합쇼핑몰_건물연면적    3392 non-null float64\n",
      "전문점_개소         3392 non-null float64\n",
      "전문점_건물연면적      3392 non-null float64\n",
      "합계_사업체수        3392 non-null int32\n",
      "총_수급자_가구       3392 non-null float64\n",
      "㎡당 매매평균가       3392 non-null float64\n",
      "㎡당 전세평균가       3392 non-null float64\n",
      "수입차합계          3392 non-null float64\n",
      "수입화물차          3392 non-null float64\n",
      "수입특수차          3392 non-null float64\n",
      "주택건설현황         3392 non-null int64\n",
      "남자수            3392 non-null int64\n",
      "여자수            3392 non-null int64\n",
      "인구             3392 non-null int64\n",
      "면적             3392 non-null float64\n",
      "인구밀도           3392 non-null int64\n",
      "사용년수           3392 non-null object\n",
      "세대수            3392 non-null int64\n",
      "dtypes: float64(14), int32(1), int64(6), object(4)\n",
      "memory usage: 675.8+ KB\n"
     ]
    }
   ],
   "source": [
    "dong.info()"
   ]
  },
  {
   "cell_type": "code",
   "execution_count": 165,
   "metadata": {
    "scrolled": true
   },
   "outputs": [
    {
     "ename": "NameError",
     "evalue": "name 'dong_final' is not defined",
     "output_type": "error",
     "traceback": [
      "\u001b[1;31m---------------------------------------------------------------------------\u001b[0m",
      "\u001b[1;31mNameError\u001b[0m                                 Traceback (most recent call last)",
      "\u001b[1;32m<ipython-input-165-fa50f001548c>\u001b[0m in \u001b[0;36m<module>\u001b[1;34m\u001b[0m\n\u001b[1;32m----> 1\u001b[1;33m \u001b[0mdong_final\u001b[0m\u001b[1;33m.\u001b[0m\u001b[0mto_csv\u001b[0m\u001b[1;33m(\u001b[0m\u001b[1;34m'dong.csv'\u001b[0m\u001b[1;33m)\u001b[0m\u001b[1;33m\u001b[0m\u001b[1;33m\u001b[0m\u001b[0m\n\u001b[0m",
      "\u001b[1;31mNameError\u001b[0m: name 'dong_final' is not defined"
     ]
    }
   ],
   "source": [
    "dong.to_csv('dong.csv')"
   ]
  },
  {
   "cell_type": "code",
   "execution_count": 157,
   "metadata": {},
   "outputs": [],
   "source": [
    "pd.set_option('display.max_columns', None)\n",
    "pd.set_option('display.max_rows', None)"
   ]
  },
  {
   "cell_type": "code",
   "execution_count": 166,
   "metadata": {
    "scrolled": false
   },
   "outputs": [
    {
     "data": {
      "text/html": [
       "<div>\n",
       "<style scoped>\n",
       "    .dataframe tbody tr th:only-of-type {\n",
       "        vertical-align: middle;\n",
       "    }\n",
       "\n",
       "    .dataframe tbody tr th {\n",
       "        vertical-align: top;\n",
       "    }\n",
       "\n",
       "    .dataframe thead th {\n",
       "        text-align: right;\n",
       "    }\n",
       "</style>\n",
       "<table border=\"1\" class=\"dataframe\">\n",
       "  <thead>\n",
       "    <tr style=\"text-align: right;\">\n",
       "      <th></th>\n",
       "      <th>자치구</th>\n",
       "      <th>동</th>\n",
       "      <th>면적_동</th>\n",
       "      <th>store_총_개소</th>\n",
       "      <th>백화점_개소</th>\n",
       "      <th>백화점_건물연면적</th>\n",
       "      <th>복합쇼핑몰_개소</th>\n",
       "      <th>복합쇼핑몰_건물연면적</th>\n",
       "      <th>전문점_개소</th>\n",
       "      <th>전문점_건물연면적</th>\n",
       "      <th>합계_사업체수</th>\n",
       "      <th>총_수급자_가구</th>\n",
       "      <th>㎡당 매매평균가</th>\n",
       "      <th>㎡당 전세평균가</th>\n",
       "      <th>수입차합계</th>\n",
       "      <th>수입화물차</th>\n",
       "      <th>수입특수차</th>\n",
       "      <th>주택건설현황</th>\n",
       "      <th>남자수</th>\n",
       "      <th>여자수</th>\n",
       "      <th>인구</th>\n",
       "      <th>면적</th>\n",
       "      <th>인구밀도</th>\n",
       "      <th>사용년수</th>\n",
       "      <th>세대수</th>\n",
       "    </tr>\n",
       "  </thead>\n",
       "  <tbody>\n",
       "  </tbody>\n",
       "</table>\n",
       "</div>"
      ],
      "text/plain": [
       "Empty DataFrame\n",
       "Columns: [자치구, 동, 면적_동, store_총_개소, 백화점_개소, 백화점_건물연면적, 복합쇼핑몰_개소, 복합쇼핑몰_건물연면적, 전문점_개소, 전문점_건물연면적, 합계_사업체수, 총_수급자_가구, ㎡당 매매평균가, ㎡당 전세평균가, 수입차합계, 수입화물차, 수입특수차, 주택건설현황, 남자수, 여자수, 인구, 면적, 인구밀도, 사용년수, 세대수]\n",
       "Index: []"
      ]
     },
     "execution_count": 166,
     "metadata": {},
     "output_type": "execute_result"
    }
   ],
   "source": [
    "dong[dong.isnull().any(axis=1)]"
   ]
  },
  {
   "cell_type": "code",
   "execution_count": null,
   "metadata": {
    "scrolled": true
   },
   "outputs": [],
   "source": [
    "dong.corr()"
   ]
  },
  {
   "cell_type": "markdown",
   "metadata": {},
   "source": [
    "# EDA"
   ]
  },
  {
   "cell_type": "code",
   "execution_count": 185,
   "metadata": {
    "scrolled": true
   },
   "outputs": [],
   "source": [
    "dong.사용년수=dong.사용년수.astype('category')"
   ]
  },
  {
   "cell_type": "code",
   "execution_count": 188,
   "metadata": {},
   "outputs": [
    {
     "data": {
      "text/plain": [
       "Index(['자치구', '동', '면적_동', 'store_총_개소', '백화점_개소', '백화점_건물연면적', '복합쇼핑몰_개소',\n",
       "       '복합쇼핑몰_건물연면적', '전문점_개소', '전문점_건물연면적', '합계_사업체수', '총_수급자_가구', '㎡당 매매평균가',\n",
       "       '㎡당 전세평균가', '수입차합계', '수입화물차', '수입특수차', '주택건설현황', '남자수', '여자수', '인구',\n",
       "       '면적', '인구밀도', '사용년수', '세대수'],\n",
       "      dtype='object')"
      ]
     },
     "execution_count": 188,
     "metadata": {},
     "output_type": "execute_result"
    }
   ],
   "source": [
    "dong.columns"
   ]
  },
  {
   "cell_type": "code",
   "execution_count": 190,
   "metadata": {},
   "outputs": [],
   "source": [
    "dong=dong[['자치구', '동', '면적_동', 'store_총_개소', '백화점_개소', '백화점_건물연면적', '복합쇼핑몰_개소',\n",
    "       '복합쇼핑몰_건물연면적', '전문점_개소', '전문점_건물연면적', '합계_사업체수', '총_수급자_가구', '㎡당 매매평균가',\n",
    "       '㎡당 전세평균가', '수입차합계', '수입화물차', '수입특수차', '주택건설현황', '인구',\n",
    "       '면적', '인구밀도', '사용년수', '세대수']]"
   ]
  },
  {
   "cell_type": "code",
   "execution_count": 191,
   "metadata": {
    "scrolled": true
   },
   "outputs": [
    {
     "data": {
      "text/html": [
       "<div>\n",
       "<style scoped>\n",
       "    .dataframe tbody tr th:only-of-type {\n",
       "        vertical-align: middle;\n",
       "    }\n",
       "\n",
       "    .dataframe tbody tr th {\n",
       "        vertical-align: top;\n",
       "    }\n",
       "\n",
       "    .dataframe thead th {\n",
       "        text-align: right;\n",
       "    }\n",
       "</style>\n",
       "<table border=\"1\" class=\"dataframe\">\n",
       "  <thead>\n",
       "    <tr style=\"text-align: right;\">\n",
       "      <th></th>\n",
       "      <th>store_총_개소</th>\n",
       "      <th>백화점_개소</th>\n",
       "      <th>백화점_건물연면적</th>\n",
       "      <th>복합쇼핑몰_개소</th>\n",
       "      <th>복합쇼핑몰_건물연면적</th>\n",
       "      <th>전문점_개소</th>\n",
       "      <th>전문점_건물연면적</th>\n",
       "      <th>합계_사업체수</th>\n",
       "      <th>총_수급자_가구</th>\n",
       "      <th>㎡당 매매평균가</th>\n",
       "      <th>㎡당 전세평균가</th>\n",
       "      <th>수입차합계</th>\n",
       "      <th>수입화물차</th>\n",
       "      <th>수입특수차</th>\n",
       "      <th>주택건설현황</th>\n",
       "      <th>인구</th>\n",
       "      <th>면적</th>\n",
       "      <th>인구밀도</th>\n",
       "      <th>세대수</th>\n",
       "    </tr>\n",
       "  </thead>\n",
       "  <tbody>\n",
       "    <tr>\n",
       "      <th>store_총_개소</th>\n",
       "      <td>1.000000</td>\n",
       "      <td>0.415153</td>\n",
       "      <td>0.354839</td>\n",
       "      <td>0.121255</td>\n",
       "      <td>0.138595</td>\n",
       "      <td>0.478232</td>\n",
       "      <td>0.441321</td>\n",
       "      <td>0.608982</td>\n",
       "      <td>0.039321</td>\n",
       "      <td>0.055059</td>\n",
       "      <td>0.112061</td>\n",
       "      <td>0.039250</td>\n",
       "      <td>0.098041</td>\n",
       "      <td>0.046539</td>\n",
       "      <td>0.031883</td>\n",
       "      <td>0.015890</td>\n",
       "      <td>0.009631</td>\n",
       "      <td>-0.125104</td>\n",
       "      <td>-0.030487</td>\n",
       "    </tr>\n",
       "    <tr>\n",
       "      <th>백화점_개소</th>\n",
       "      <td>0.415153</td>\n",
       "      <td>1.000000</td>\n",
       "      <td>0.612082</td>\n",
       "      <td>0.014600</td>\n",
       "      <td>0.128386</td>\n",
       "      <td>0.169663</td>\n",
       "      <td>0.213547</td>\n",
       "      <td>0.176916</td>\n",
       "      <td>0.018010</td>\n",
       "      <td>0.215370</td>\n",
       "      <td>0.218053</td>\n",
       "      <td>0.147351</td>\n",
       "      <td>0.113588</td>\n",
       "      <td>0.093434</td>\n",
       "      <td>0.047348</td>\n",
       "      <td>0.027065</td>\n",
       "      <td>0.015215</td>\n",
       "      <td>-0.108343</td>\n",
       "      <td>0.036117</td>\n",
       "    </tr>\n",
       "    <tr>\n",
       "      <th>백화점_건물연면적</th>\n",
       "      <td>0.354839</td>\n",
       "      <td>0.612082</td>\n",
       "      <td>1.000000</td>\n",
       "      <td>0.001277</td>\n",
       "      <td>0.061855</td>\n",
       "      <td>0.325645</td>\n",
       "      <td>0.758293</td>\n",
       "      <td>0.098149</td>\n",
       "      <td>-0.048966</td>\n",
       "      <td>0.208554</td>\n",
       "      <td>0.214625</td>\n",
       "      <td>0.112325</td>\n",
       "      <td>0.131604</td>\n",
       "      <td>0.019961</td>\n",
       "      <td>0.089019</td>\n",
       "      <td>0.015945</td>\n",
       "      <td>0.033160</td>\n",
       "      <td>-0.092117</td>\n",
       "      <td>0.044746</td>\n",
       "    </tr>\n",
       "    <tr>\n",
       "      <th>복합쇼핑몰_개소</th>\n",
       "      <td>0.121255</td>\n",
       "      <td>0.014600</td>\n",
       "      <td>0.001277</td>\n",
       "      <td>1.000000</td>\n",
       "      <td>0.615034</td>\n",
       "      <td>-0.025978</td>\n",
       "      <td>-0.018314</td>\n",
       "      <td>0.149241</td>\n",
       "      <td>-0.041957</td>\n",
       "      <td>-0.002959</td>\n",
       "      <td>0.000761</td>\n",
       "      <td>-0.014858</td>\n",
       "      <td>-0.030087</td>\n",
       "      <td>-0.016103</td>\n",
       "      <td>-0.031047</td>\n",
       "      <td>0.046727</td>\n",
       "      <td>0.142153</td>\n",
       "      <td>-0.031298</td>\n",
       "      <td>-0.017865</td>\n",
       "    </tr>\n",
       "    <tr>\n",
       "      <th>복합쇼핑몰_건물연면적</th>\n",
       "      <td>0.138595</td>\n",
       "      <td>0.128386</td>\n",
       "      <td>0.061855</td>\n",
       "      <td>0.615034</td>\n",
       "      <td>1.000000</td>\n",
       "      <td>-0.015977</td>\n",
       "      <td>-0.011264</td>\n",
       "      <td>0.097583</td>\n",
       "      <td>-0.042833</td>\n",
       "      <td>0.084755</td>\n",
       "      <td>0.107225</td>\n",
       "      <td>0.114896</td>\n",
       "      <td>0.043065</td>\n",
       "      <td>0.015452</td>\n",
       "      <td>0.009426</td>\n",
       "      <td>-0.002161</td>\n",
       "      <td>0.091913</td>\n",
       "      <td>-0.072537</td>\n",
       "      <td>0.016559</td>\n",
       "    </tr>\n",
       "    <tr>\n",
       "      <th>전문점_개소</th>\n",
       "      <td>0.478232</td>\n",
       "      <td>0.169663</td>\n",
       "      <td>0.325645</td>\n",
       "      <td>-0.025978</td>\n",
       "      <td>-0.015977</td>\n",
       "      <td>1.000000</td>\n",
       "      <td>0.558784</td>\n",
       "      <td>0.343039</td>\n",
       "      <td>0.013434</td>\n",
       "      <td>0.070701</td>\n",
       "      <td>0.100292</td>\n",
       "      <td>0.038039</td>\n",
       "      <td>0.078520</td>\n",
       "      <td>0.004463</td>\n",
       "      <td>0.040942</td>\n",
       "      <td>-0.031560</td>\n",
       "      <td>0.030065</td>\n",
       "      <td>-0.103598</td>\n",
       "      <td>-0.018898</td>\n",
       "    </tr>\n",
       "    <tr>\n",
       "      <th>전문점_건물연면적</th>\n",
       "      <td>0.441321</td>\n",
       "      <td>0.213547</td>\n",
       "      <td>0.758293</td>\n",
       "      <td>-0.018314</td>\n",
       "      <td>-0.011264</td>\n",
       "      <td>0.558784</td>\n",
       "      <td>1.000000</td>\n",
       "      <td>0.212704</td>\n",
       "      <td>-0.078983</td>\n",
       "      <td>0.137090</td>\n",
       "      <td>0.157549</td>\n",
       "      <td>0.075699</td>\n",
       "      <td>0.114215</td>\n",
       "      <td>-0.011012</td>\n",
       "      <td>0.074919</td>\n",
       "      <td>-0.029304</td>\n",
       "      <td>0.028821</td>\n",
       "      <td>-0.086492</td>\n",
       "      <td>0.023009</td>\n",
       "    </tr>\n",
       "    <tr>\n",
       "      <th>합계_사업체수</th>\n",
       "      <td>0.608982</td>\n",
       "      <td>0.176916</td>\n",
       "      <td>0.098149</td>\n",
       "      <td>0.149241</td>\n",
       "      <td>0.097583</td>\n",
       "      <td>0.343039</td>\n",
       "      <td>0.212704</td>\n",
       "      <td>1.000000</td>\n",
       "      <td>-0.021296</td>\n",
       "      <td>0.059242</td>\n",
       "      <td>0.153923</td>\n",
       "      <td>0.145579</td>\n",
       "      <td>0.161346</td>\n",
       "      <td>0.082171</td>\n",
       "      <td>0.076882</td>\n",
       "      <td>0.092323</td>\n",
       "      <td>0.105931</td>\n",
       "      <td>-0.195819</td>\n",
       "      <td>-0.008598</td>\n",
       "    </tr>\n",
       "    <tr>\n",
       "      <th>총_수급자_가구</th>\n",
       "      <td>0.039321</td>\n",
       "      <td>0.018010</td>\n",
       "      <td>-0.048966</td>\n",
       "      <td>-0.041957</td>\n",
       "      <td>-0.042833</td>\n",
       "      <td>0.013434</td>\n",
       "      <td>-0.078983</td>\n",
       "      <td>-0.021296</td>\n",
       "      <td>1.000000</td>\n",
       "      <td>-0.344184</td>\n",
       "      <td>-0.386888</td>\n",
       "      <td>-0.225096</td>\n",
       "      <td>-0.193573</td>\n",
       "      <td>-0.115355</td>\n",
       "      <td>-0.176584</td>\n",
       "      <td>0.352821</td>\n",
       "      <td>0.131684</td>\n",
       "      <td>0.082567</td>\n",
       "      <td>0.025731</td>\n",
       "    </tr>\n",
       "    <tr>\n",
       "      <th>㎡당 매매평균가</th>\n",
       "      <td>0.055059</td>\n",
       "      <td>0.215370</td>\n",
       "      <td>0.208554</td>\n",
       "      <td>-0.002959</td>\n",
       "      <td>0.084755</td>\n",
       "      <td>0.070701</td>\n",
       "      <td>0.137090</td>\n",
       "      <td>0.059242</td>\n",
       "      <td>-0.344184</td>\n",
       "      <td>1.000000</td>\n",
       "      <td>0.855438</td>\n",
       "      <td>0.772871</td>\n",
       "      <td>0.557137</td>\n",
       "      <td>0.167318</td>\n",
       "      <td>0.499399</td>\n",
       "      <td>-0.056396</td>\n",
       "      <td>0.035640</td>\n",
       "      <td>-0.179751</td>\n",
       "      <td>0.134801</td>\n",
       "    </tr>\n",
       "    <tr>\n",
       "      <th>㎡당 전세평균가</th>\n",
       "      <td>0.112061</td>\n",
       "      <td>0.218053</td>\n",
       "      <td>0.214625</td>\n",
       "      <td>0.000761</td>\n",
       "      <td>0.107225</td>\n",
       "      <td>0.100292</td>\n",
       "      <td>0.157549</td>\n",
       "      <td>0.153923</td>\n",
       "      <td>-0.386888</td>\n",
       "      <td>0.855438</td>\n",
       "      <td>1.000000</td>\n",
       "      <td>0.698162</td>\n",
       "      <td>0.504537</td>\n",
       "      <td>0.137206</td>\n",
       "      <td>0.478524</td>\n",
       "      <td>-0.042003</td>\n",
       "      <td>-0.000839</td>\n",
       "      <td>-0.125929</td>\n",
       "      <td>0.082708</td>\n",
       "    </tr>\n",
       "    <tr>\n",
       "      <th>수입차합계</th>\n",
       "      <td>0.039250</td>\n",
       "      <td>0.147351</td>\n",
       "      <td>0.112325</td>\n",
       "      <td>-0.014858</td>\n",
       "      <td>0.114896</td>\n",
       "      <td>0.038039</td>\n",
       "      <td>0.075699</td>\n",
       "      <td>0.145579</td>\n",
       "      <td>-0.225096</td>\n",
       "      <td>0.772871</td>\n",
       "      <td>0.698162</td>\n",
       "      <td>1.000000</td>\n",
       "      <td>0.763814</td>\n",
       "      <td>0.227367</td>\n",
       "      <td>0.601016</td>\n",
       "      <td>0.044102</td>\n",
       "      <td>0.107935</td>\n",
       "      <td>-0.159037</td>\n",
       "      <td>0.237859</td>\n",
       "    </tr>\n",
       "    <tr>\n",
       "      <th>수입화물차</th>\n",
       "      <td>0.098041</td>\n",
       "      <td>0.113588</td>\n",
       "      <td>0.131604</td>\n",
       "      <td>-0.030087</td>\n",
       "      <td>0.043065</td>\n",
       "      <td>0.078520</td>\n",
       "      <td>0.114215</td>\n",
       "      <td>0.161346</td>\n",
       "      <td>-0.193573</td>\n",
       "      <td>0.557137</td>\n",
       "      <td>0.504537</td>\n",
       "      <td>0.763814</td>\n",
       "      <td>1.000000</td>\n",
       "      <td>0.392422</td>\n",
       "      <td>0.639742</td>\n",
       "      <td>0.075114</td>\n",
       "      <td>0.099607</td>\n",
       "      <td>-0.093162</td>\n",
       "      <td>0.220350</td>\n",
       "    </tr>\n",
       "    <tr>\n",
       "      <th>수입특수차</th>\n",
       "      <td>0.046539</td>\n",
       "      <td>0.093434</td>\n",
       "      <td>0.019961</td>\n",
       "      <td>-0.016103</td>\n",
       "      <td>0.015452</td>\n",
       "      <td>0.004463</td>\n",
       "      <td>-0.011012</td>\n",
       "      <td>0.082171</td>\n",
       "      <td>-0.115355</td>\n",
       "      <td>0.167318</td>\n",
       "      <td>0.137206</td>\n",
       "      <td>0.227367</td>\n",
       "      <td>0.392422</td>\n",
       "      <td>1.000000</td>\n",
       "      <td>-0.041041</td>\n",
       "      <td>-0.012969</td>\n",
       "      <td>-0.016804</td>\n",
       "      <td>0.021115</td>\n",
       "      <td>0.052068</td>\n",
       "    </tr>\n",
       "    <tr>\n",
       "      <th>주택건설현황</th>\n",
       "      <td>0.031883</td>\n",
       "      <td>0.047348</td>\n",
       "      <td>0.089019</td>\n",
       "      <td>-0.031047</td>\n",
       "      <td>0.009426</td>\n",
       "      <td>0.040942</td>\n",
       "      <td>0.074919</td>\n",
       "      <td>0.076882</td>\n",
       "      <td>-0.176584</td>\n",
       "      <td>0.499399</td>\n",
       "      <td>0.478524</td>\n",
       "      <td>0.601016</td>\n",
       "      <td>0.639742</td>\n",
       "      <td>-0.041041</td>\n",
       "      <td>1.000000</td>\n",
       "      <td>0.140600</td>\n",
       "      <td>0.133409</td>\n",
       "      <td>-0.088177</td>\n",
       "      <td>0.133669</td>\n",
       "    </tr>\n",
       "    <tr>\n",
       "      <th>인구</th>\n",
       "      <td>0.015890</td>\n",
       "      <td>0.027065</td>\n",
       "      <td>0.015945</td>\n",
       "      <td>0.046727</td>\n",
       "      <td>-0.002161</td>\n",
       "      <td>-0.031560</td>\n",
       "      <td>-0.029304</td>\n",
       "      <td>0.092323</td>\n",
       "      <td>0.352821</td>\n",
       "      <td>-0.056396</td>\n",
       "      <td>-0.042003</td>\n",
       "      <td>0.044102</td>\n",
       "      <td>0.075114</td>\n",
       "      <td>-0.012969</td>\n",
       "      <td>0.140600</td>\n",
       "      <td>1.000000</td>\n",
       "      <td>0.247657</td>\n",
       "      <td>0.253351</td>\n",
       "      <td>0.115652</td>\n",
       "    </tr>\n",
       "    <tr>\n",
       "      <th>면적</th>\n",
       "      <td>0.009631</td>\n",
       "      <td>0.015215</td>\n",
       "      <td>0.033160</td>\n",
       "      <td>0.142153</td>\n",
       "      <td>0.091913</td>\n",
       "      <td>0.030065</td>\n",
       "      <td>0.028821</td>\n",
       "      <td>0.105931</td>\n",
       "      <td>0.131684</td>\n",
       "      <td>0.035640</td>\n",
       "      <td>-0.000839</td>\n",
       "      <td>0.107935</td>\n",
       "      <td>0.099607</td>\n",
       "      <td>-0.016804</td>\n",
       "      <td>0.133409</td>\n",
       "      <td>0.247657</td>\n",
       "      <td>1.000000</td>\n",
       "      <td>-0.546973</td>\n",
       "      <td>0.037232</td>\n",
       "    </tr>\n",
       "    <tr>\n",
       "      <th>인구밀도</th>\n",
       "      <td>-0.125104</td>\n",
       "      <td>-0.108343</td>\n",
       "      <td>-0.092117</td>\n",
       "      <td>-0.031298</td>\n",
       "      <td>-0.072537</td>\n",
       "      <td>-0.103598</td>\n",
       "      <td>-0.086492</td>\n",
       "      <td>-0.195819</td>\n",
       "      <td>0.082567</td>\n",
       "      <td>-0.179751</td>\n",
       "      <td>-0.125929</td>\n",
       "      <td>-0.159037</td>\n",
       "      <td>-0.093162</td>\n",
       "      <td>0.021115</td>\n",
       "      <td>-0.088177</td>\n",
       "      <td>0.253351</td>\n",
       "      <td>-0.546973</td>\n",
       "      <td>1.000000</td>\n",
       "      <td>0.009692</td>\n",
       "    </tr>\n",
       "    <tr>\n",
       "      <th>세대수</th>\n",
       "      <td>-0.030487</td>\n",
       "      <td>0.036117</td>\n",
       "      <td>0.044746</td>\n",
       "      <td>-0.017865</td>\n",
       "      <td>0.016559</td>\n",
       "      <td>-0.018898</td>\n",
       "      <td>0.023009</td>\n",
       "      <td>-0.008598</td>\n",
       "      <td>0.025731</td>\n",
       "      <td>0.134801</td>\n",
       "      <td>0.082708</td>\n",
       "      <td>0.237859</td>\n",
       "      <td>0.220350</td>\n",
       "      <td>0.052068</td>\n",
       "      <td>0.133669</td>\n",
       "      <td>0.115652</td>\n",
       "      <td>0.037232</td>\n",
       "      <td>0.009692</td>\n",
       "      <td>1.000000</td>\n",
       "    </tr>\n",
       "  </tbody>\n",
       "</table>\n",
       "</div>"
      ],
      "text/plain": [
       "             store_총_개소    백화점_개소  백화점_건물연면적  복합쇼핑몰_개소  복합쇼핑몰_건물연면적    전문점_개소  \\\n",
       "store_총_개소     1.000000  0.415153   0.354839  0.121255     0.138595  0.478232   \n",
       "백화점_개소         0.415153  1.000000   0.612082  0.014600     0.128386  0.169663   \n",
       "백화점_건물연면적      0.354839  0.612082   1.000000  0.001277     0.061855  0.325645   \n",
       "복합쇼핑몰_개소       0.121255  0.014600   0.001277  1.000000     0.615034 -0.025978   \n",
       "복합쇼핑몰_건물연면적    0.138595  0.128386   0.061855  0.615034     1.000000 -0.015977   \n",
       "전문점_개소         0.478232  0.169663   0.325645 -0.025978    -0.015977  1.000000   \n",
       "전문점_건물연면적      0.441321  0.213547   0.758293 -0.018314    -0.011264  0.558784   \n",
       "합계_사업체수        0.608982  0.176916   0.098149  0.149241     0.097583  0.343039   \n",
       "총_수급자_가구       0.039321  0.018010  -0.048966 -0.041957    -0.042833  0.013434   \n",
       "㎡당 매매평균가       0.055059  0.215370   0.208554 -0.002959     0.084755  0.070701   \n",
       "㎡당 전세평균가       0.112061  0.218053   0.214625  0.000761     0.107225  0.100292   \n",
       "수입차합계          0.039250  0.147351   0.112325 -0.014858     0.114896  0.038039   \n",
       "수입화물차          0.098041  0.113588   0.131604 -0.030087     0.043065  0.078520   \n",
       "수입특수차          0.046539  0.093434   0.019961 -0.016103     0.015452  0.004463   \n",
       "주택건설현황         0.031883  0.047348   0.089019 -0.031047     0.009426  0.040942   \n",
       "인구             0.015890  0.027065   0.015945  0.046727    -0.002161 -0.031560   \n",
       "면적             0.009631  0.015215   0.033160  0.142153     0.091913  0.030065   \n",
       "인구밀도          -0.125104 -0.108343  -0.092117 -0.031298    -0.072537 -0.103598   \n",
       "세대수           -0.030487  0.036117   0.044746 -0.017865     0.016559 -0.018898   \n",
       "\n",
       "             전문점_건물연면적   합계_사업체수  총_수급자_가구  ㎡당 매매평균가  ㎡당 전세평균가     수입차합계  \\\n",
       "store_총_개소    0.441321  0.608982  0.039321  0.055059  0.112061  0.039250   \n",
       "백화점_개소        0.213547  0.176916  0.018010  0.215370  0.218053  0.147351   \n",
       "백화점_건물연면적     0.758293  0.098149 -0.048966  0.208554  0.214625  0.112325   \n",
       "복합쇼핑몰_개소     -0.018314  0.149241 -0.041957 -0.002959  0.000761 -0.014858   \n",
       "복합쇼핑몰_건물연면적  -0.011264  0.097583 -0.042833  0.084755  0.107225  0.114896   \n",
       "전문점_개소        0.558784  0.343039  0.013434  0.070701  0.100292  0.038039   \n",
       "전문점_건물연면적     1.000000  0.212704 -0.078983  0.137090  0.157549  0.075699   \n",
       "합계_사업체수       0.212704  1.000000 -0.021296  0.059242  0.153923  0.145579   \n",
       "총_수급자_가구     -0.078983 -0.021296  1.000000 -0.344184 -0.386888 -0.225096   \n",
       "㎡당 매매평균가      0.137090  0.059242 -0.344184  1.000000  0.855438  0.772871   \n",
       "㎡당 전세평균가      0.157549  0.153923 -0.386888  0.855438  1.000000  0.698162   \n",
       "수입차합계         0.075699  0.145579 -0.225096  0.772871  0.698162  1.000000   \n",
       "수입화물차         0.114215  0.161346 -0.193573  0.557137  0.504537  0.763814   \n",
       "수입특수차        -0.011012  0.082171 -0.115355  0.167318  0.137206  0.227367   \n",
       "주택건설현황        0.074919  0.076882 -0.176584  0.499399  0.478524  0.601016   \n",
       "인구           -0.029304  0.092323  0.352821 -0.056396 -0.042003  0.044102   \n",
       "면적            0.028821  0.105931  0.131684  0.035640 -0.000839  0.107935   \n",
       "인구밀도         -0.086492 -0.195819  0.082567 -0.179751 -0.125929 -0.159037   \n",
       "세대수           0.023009 -0.008598  0.025731  0.134801  0.082708  0.237859   \n",
       "\n",
       "                수입화물차     수입특수차    주택건설현황        인구        면적      인구밀도  \\\n",
       "store_총_개소   0.098041  0.046539  0.031883  0.015890  0.009631 -0.125104   \n",
       "백화점_개소       0.113588  0.093434  0.047348  0.027065  0.015215 -0.108343   \n",
       "백화점_건물연면적    0.131604  0.019961  0.089019  0.015945  0.033160 -0.092117   \n",
       "복합쇼핑몰_개소    -0.030087 -0.016103 -0.031047  0.046727  0.142153 -0.031298   \n",
       "복합쇼핑몰_건물연면적  0.043065  0.015452  0.009426 -0.002161  0.091913 -0.072537   \n",
       "전문점_개소       0.078520  0.004463  0.040942 -0.031560  0.030065 -0.103598   \n",
       "전문점_건물연면적    0.114215 -0.011012  0.074919 -0.029304  0.028821 -0.086492   \n",
       "합계_사업체수      0.161346  0.082171  0.076882  0.092323  0.105931 -0.195819   \n",
       "총_수급자_가구    -0.193573 -0.115355 -0.176584  0.352821  0.131684  0.082567   \n",
       "㎡당 매매평균가     0.557137  0.167318  0.499399 -0.056396  0.035640 -0.179751   \n",
       "㎡당 전세평균가     0.504537  0.137206  0.478524 -0.042003 -0.000839 -0.125929   \n",
       "수입차합계        0.763814  0.227367  0.601016  0.044102  0.107935 -0.159037   \n",
       "수입화물차        1.000000  0.392422  0.639742  0.075114  0.099607 -0.093162   \n",
       "수입특수차        0.392422  1.000000 -0.041041 -0.012969 -0.016804  0.021115   \n",
       "주택건설현황       0.639742 -0.041041  1.000000  0.140600  0.133409 -0.088177   \n",
       "인구           0.075114 -0.012969  0.140600  1.000000  0.247657  0.253351   \n",
       "면적           0.099607 -0.016804  0.133409  0.247657  1.000000 -0.546973   \n",
       "인구밀도        -0.093162  0.021115 -0.088177  0.253351 -0.546973  1.000000   \n",
       "세대수          0.220350  0.052068  0.133669  0.115652  0.037232  0.009692   \n",
       "\n",
       "                  세대수  \n",
       "store_총_개소  -0.030487  \n",
       "백화점_개소       0.036117  \n",
       "백화점_건물연면적    0.044746  \n",
       "복합쇼핑몰_개소    -0.017865  \n",
       "복합쇼핑몰_건물연면적  0.016559  \n",
       "전문점_개소      -0.018898  \n",
       "전문점_건물연면적    0.023009  \n",
       "합계_사업체수     -0.008598  \n",
       "총_수급자_가구     0.025731  \n",
       "㎡당 매매평균가     0.134801  \n",
       "㎡당 전세평균가     0.082708  \n",
       "수입차합계        0.237859  \n",
       "수입화물차        0.220350  \n",
       "수입특수차        0.052068  \n",
       "주택건설현황       0.133669  \n",
       "인구           0.115652  \n",
       "면적           0.037232  \n",
       "인구밀도         0.009692  \n",
       "세대수          1.000000  "
      ]
     },
     "execution_count": 191,
     "metadata": {},
     "output_type": "execute_result"
    }
   ],
   "source": [
    "dong.corr()"
   ]
  },
  {
   "cell_type": "code",
   "execution_count": 181,
   "metadata": {},
   "outputs": [
    {
     "data": {
      "image/png": "[encoded data removed]",
      "text/plain": [
       "<Figure size 1152x1440 with 1 Axes>"
      ]
     },
     "metadata": {
      "needs_background": "light"
     },
     "output_type": "display_data"
    }
   ],
   "source": [
    "plt.figure(figsize=(16, 20))\n",
    "ax = sns.boxplot(x=\"store_총_개소\", y=\"자치구\", data=dong ) # ,showfliers=False"
   ]
  },
  {
   "cell_type": "markdown",
   "metadata": {},
   "source": [
    "# 행정구역으로 이름 맞추기"
   ]
  },
  {
   "cell_type": "code",
   "execution_count": 170,
   "metadata": {},
   "outputs": [],
   "source": [
    "a = pd.read_csv('행정동분류.csv')"
   ]
  },
  {
   "cell_type": "code",
   "execution_count": 269,
   "metadata": {
    "scrolled": true
   },
   "outputs": [],
   "source": [
    "c = (set(dong.동) - set(a['행정구역명']))"
   ]
  },
  {
   "cell_type": "code",
   "execution_count": 262,
   "metadata": {
    "scrolled": true
   },
   "outputs": [
    {
     "name": "stderr",
     "output_type": "stream",
     "text": [
      "C:\\Users\\Cho Gyung Ah\\Anaconda3\\lib\\site-packages\\pandas\\core\\generic.py:6586: SettingWithCopyWarning: \n",
      "A value is trying to be set on a copy of a slice from a DataFrame\n",
      "\n",
      "See the caveats in the documentation: http://pandas.pydata.org/pandas-docs/stable/indexing.html#indexing-view-versus-copy\n",
      "  self._update_inplace(new_data)\n"
     ]
    }
   ],
   "source": [
    "dong.동.replace({'금호2.3가동': '금호2·3가동', '면목3.8동': '면목3·8동',\n",
    "              '상계3.4동':'상계3·4동', '상계6.7동': '상계6·7동', \n",
    "              '종로1.2.3.4가동': '종로1·2·3·4가동','중계2.3동':'중계2·3동' }, inplace=True)"
   ]
  },
  {
   "cell_type": "code",
   "execution_count": 268,
   "metadata": {},
   "outputs": [],
   "source": [
    "dong.to_csv('mid_final.csv')"
   ]
  },
  {
   "cell_type": "markdown",
   "metadata": {},
   "source": [
    "c = set(index1.동)-set(apt_edit.동_x)\n",
    "index1[(index1['동'].isin(c))].sort_values('자치구')"
   ]
  },
  {
   "cell_type": "code",
   "execution_count": 267,
   "metadata": {
    "scrolled": false
   },
   "outputs": [
    {
     "data": {
      "text/html": [
       "<div>\n",
       "<style scoped>\n",
       "    .dataframe tbody tr th:only-of-type {\n",
       "        vertical-align: middle;\n",
       "    }\n",
       "\n",
       "    .dataframe tbody tr th {\n",
       "        vertical-align: top;\n",
       "    }\n",
       "\n",
       "    .dataframe thead th {\n",
       "        text-align: right;\n",
       "    }\n",
       "</style>\n",
       "<table border=\"1\" class=\"dataframe\">\n",
       "  <thead>\n",
       "    <tr style=\"text-align: right;\">\n",
       "      <th></th>\n",
       "      <th>자치구</th>\n",
       "      <th>동</th>\n",
       "      <th>면적_동</th>\n",
       "      <th>store_총_개소</th>\n",
       "      <th>백화점_개소</th>\n",
       "      <th>백화점_건물연면적</th>\n",
       "      <th>복합쇼핑몰_개소</th>\n",
       "      <th>복합쇼핑몰_건물연면적</th>\n",
       "      <th>전문점_개소</th>\n",
       "      <th>전문점_건물연면적</th>\n",
       "      <th>합계_사업체수</th>\n",
       "      <th>총_수급자_가구</th>\n",
       "      <th>㎡당 매매평균가</th>\n",
       "      <th>㎡당 전세평균가</th>\n",
       "      <th>수입차합계</th>\n",
       "      <th>수입화물차</th>\n",
       "      <th>수입특수차</th>\n",
       "      <th>주택건설현황</th>\n",
       "      <th>인구</th>\n",
       "      <th>면적</th>\n",
       "      <th>인구밀도</th>\n",
       "      <th>사용년수</th>\n",
       "      <th>세대수</th>\n",
       "    </tr>\n",
       "  </thead>\n",
       "  <tbody>\n",
       "  </tbody>\n",
       "</table>\n",
       "</div>"
      ],
      "text/plain": [
       "Empty DataFrame\n",
       "Columns: [자치구, 동, 면적_동, store_총_개소, 백화점_개소, 백화점_건물연면적, 복합쇼핑몰_개소, 복합쇼핑몰_건물연면적, 전문점_개소, 전문점_건물연면적, 합계_사업체수, 총_수급자_가구, ㎡당 매매평균가, ㎡당 전세평균가, 수입차합계, 수입화물차, 수입특수차, 주택건설현황, 인구, 면적, 인구밀도, 사용년수, 세대수]\n",
       "Index: []"
      ]
     },
     "execution_count": 267,
     "metadata": {},
     "output_type": "execute_result"
    }
   ],
   "source": [
    "dong[(dong['동'].str.contains(r'강남'))]"
   ]
  },
  {
   "cell_type": "code",
   "execution_count": null,
   "metadata": {},
   "outputs": [],
   "source": [
    "[num_company['동'].str.contains(r'{}'.format(i))])"
   ]
  },
  {
   "cell_type": "markdown",
   "metadata": {},
   "source": [
    "# 구별 데이터 합치기"
   ]
  },
  {
   "cell_type": "code",
   "execution_count": 272,
   "metadata": {},
   "outputs": [],
   "source": [
    "hihi = pd.read_csv(\"서울시 구별 연료별 자동차 등록대수.csv\", engine='python', encoding='utf-8')"
   ]
  },
  {
   "cell_type": "code",
   "execution_count": 278,
   "metadata": {},
   "outputs": [],
   "source": [
    "hihi.columns=['자치구', '연료별', '용도별', '승용', '승합', '화물', '특수', '계']"
   ]
  },
  {
   "cell_type": "code",
   "execution_count": 284,
   "metadata": {},
   "outputs": [],
   "source": [
    "hihi =hihi[['자치구', '연료별', '용도별', '승용', '승합', '화물', '계']]"
   ]
  },
  {
   "cell_type": "code",
   "execution_count": 285,
   "metadata": {
    "scrolled": true
   },
   "outputs": [],
   "source": [
    "dong_ff = pd.merge(dong, hihi, on=['자치구'], how='inner')"
   ]
  },
  {
   "cell_type": "code",
   "execution_count": 291,
   "metadata": {
    "scrolled": true
   },
   "outputs": [
    {
     "data": {
      "text/html": [
       "<div>\n",
       "<style scoped>\n",
       "    .dataframe tbody tr th:only-of-type {\n",
       "        vertical-align: middle;\n",
       "    }\n",
       "\n",
       "    .dataframe tbody tr th {\n",
       "        vertical-align: top;\n",
       "    }\n",
       "\n",
       "    .dataframe thead th {\n",
       "        text-align: right;\n",
       "    }\n",
       "</style>\n",
       "<table border=\"1\" class=\"dataframe\">\n",
       "  <thead>\n",
       "    <tr style=\"text-align: right;\">\n",
       "      <th></th>\n",
       "      <th>자치구</th>\n",
       "      <th>동</th>\n",
       "      <th>면적_동</th>\n",
       "      <th>store_총_개소</th>\n",
       "      <th>백화점_개소</th>\n",
       "      <th>백화점_건물연면적</th>\n",
       "      <th>복합쇼핑몰_개소</th>\n",
       "      <th>복합쇼핑몰_건물연면적</th>\n",
       "      <th>전문점_개소</th>\n",
       "      <th>전문점_건물연면적</th>\n",
       "      <th>합계_사업체수</th>\n",
       "      <th>총_수급자_가구</th>\n",
       "      <th>㎡당 매매평균가</th>\n",
       "      <th>㎡당 전세평균가</th>\n",
       "      <th>수입차합계</th>\n",
       "      <th>수입화물차</th>\n",
       "      <th>수입특수차</th>\n",
       "      <th>주택건설현황</th>\n",
       "      <th>인구</th>\n",
       "      <th>면적</th>\n",
       "      <th>인구밀도</th>\n",
       "      <th>사용년수</th>\n",
       "      <th>세대수</th>\n",
       "      <th>연료별</th>\n",
       "      <th>용도별</th>\n",
       "      <th>승용</th>\n",
       "      <th>승합</th>\n",
       "      <th>화물</th>\n",
       "      <th>계</th>\n",
       "    </tr>\n",
       "  </thead>\n",
       "  <tbody>\n",
       "    <tr>\n",
       "      <th>3</th>\n",
       "      <td>중구</td>\n",
       "      <td>소공동</td>\n",
       "      <td>0.95</td>\n",
       "      <td>3.0</td>\n",
       "      <td>2.0</td>\n",
       "      <td>125379.0</td>\n",
       "      <td>0.0</td>\n",
       "      <td>0.0</td>\n",
       "      <td>0.0</td>\n",
       "      <td>0.0</td>\n",
       "      <td>3918</td>\n",
       "      <td>24.0</td>\n",
       "      <td>921.0</td>\n",
       "      <td>607.0</td>\n",
       "      <td>11403.0</td>\n",
       "      <td>144.0</td>\n",
       "      <td>50.0</td>\n",
       "      <td>2156</td>\n",
       "      <td>2936</td>\n",
       "      <td>0.95</td>\n",
       "      <td>3091</td>\n",
       "      <td>0-5</td>\n",
       "      <td>2351</td>\n",
       "      <td>경유</td>\n",
       "      <td>비사업용</td>\n",
       "      <td>11804.0</td>\n",
       "      <td>2590.0</td>\n",
       "      <td>4809.0</td>\n",
       "      <td>19285.0</td>\n",
       "    </tr>\n",
       "    <tr>\n",
       "      <th>4</th>\n",
       "      <td>중구</td>\n",
       "      <td>소공동</td>\n",
       "      <td>0.95</td>\n",
       "      <td>3.0</td>\n",
       "      <td>2.0</td>\n",
       "      <td>125379.0</td>\n",
       "      <td>0.0</td>\n",
       "      <td>0.0</td>\n",
       "      <td>0.0</td>\n",
       "      <td>0.0</td>\n",
       "      <td>3918</td>\n",
       "      <td>24.0</td>\n",
       "      <td>921.0</td>\n",
       "      <td>607.0</td>\n",
       "      <td>11403.0</td>\n",
       "      <td>144.0</td>\n",
       "      <td>50.0</td>\n",
       "      <td>2156</td>\n",
       "      <td>2936</td>\n",
       "      <td>0.95</td>\n",
       "      <td>3091</td>\n",
       "      <td>0-5</td>\n",
       "      <td>2351</td>\n",
       "      <td>경유</td>\n",
       "      <td>사업용</td>\n",
       "      <td>668.0</td>\n",
       "      <td>350.0</td>\n",
       "      <td>1582.0</td>\n",
       "      <td>2724.0</td>\n",
       "    </tr>\n",
       "    <tr>\n",
       "      <th>25</th>\n",
       "      <td>중구</td>\n",
       "      <td>소공동</td>\n",
       "      <td>0.95</td>\n",
       "      <td>3.0</td>\n",
       "      <td>2.0</td>\n",
       "      <td>125379.0</td>\n",
       "      <td>0.0</td>\n",
       "      <td>0.0</td>\n",
       "      <td>0.0</td>\n",
       "      <td>0.0</td>\n",
       "      <td>3918</td>\n",
       "      <td>24.0</td>\n",
       "      <td>921.0</td>\n",
       "      <td>607.0</td>\n",
       "      <td>11403.0</td>\n",
       "      <td>144.0</td>\n",
       "      <td>50.0</td>\n",
       "      <td>2156</td>\n",
       "      <td>2936</td>\n",
       "      <td>0.95</td>\n",
       "      <td>3091</td>\n",
       "      <td>5-10</td>\n",
       "      <td>4875</td>\n",
       "      <td>경유</td>\n",
       "      <td>비사업용</td>\n",
       "      <td>11804.0</td>\n",
       "      <td>2590.0</td>\n",
       "      <td>4809.0</td>\n",
       "      <td>19285.0</td>\n",
       "    </tr>\n",
       "    <tr>\n",
       "      <th>26</th>\n",
       "      <td>중구</td>\n",
       "      <td>소공동</td>\n",
       "      <td>0.95</td>\n",
       "      <td>3.0</td>\n",
       "      <td>2.0</td>\n",
       "      <td>125379.0</td>\n",
       "      <td>0.0</td>\n",
       "      <td>0.0</td>\n",
       "      <td>0.0</td>\n",
       "      <td>0.0</td>\n",
       "      <td>3918</td>\n",
       "      <td>24.0</td>\n",
       "      <td>921.0</td>\n",
       "      <td>607.0</td>\n",
       "      <td>11403.0</td>\n",
       "      <td>144.0</td>\n",
       "      <td>50.0</td>\n",
       "      <td>2156</td>\n",
       "      <td>2936</td>\n",
       "      <td>0.95</td>\n",
       "      <td>3091</td>\n",
       "      <td>5-10</td>\n",
       "      <td>4875</td>\n",
       "      <td>경유</td>\n",
       "      <td>사업용</td>\n",
       "      <td>668.0</td>\n",
       "      <td>350.0</td>\n",
       "      <td>1582.0</td>\n",
       "      <td>2724.0</td>\n",
       "    </tr>\n",
       "    <tr>\n",
       "      <th>47</th>\n",
       "      <td>중구</td>\n",
       "      <td>소공동</td>\n",
       "      <td>0.95</td>\n",
       "      <td>3.0</td>\n",
       "      <td>2.0</td>\n",
       "      <td>125379.0</td>\n",
       "      <td>0.0</td>\n",
       "      <td>0.0</td>\n",
       "      <td>0.0</td>\n",
       "      <td>0.0</td>\n",
       "      <td>3918</td>\n",
       "      <td>24.0</td>\n",
       "      <td>921.0</td>\n",
       "      <td>607.0</td>\n",
       "      <td>11403.0</td>\n",
       "      <td>144.0</td>\n",
       "      <td>50.0</td>\n",
       "      <td>2156</td>\n",
       "      <td>2936</td>\n",
       "      <td>0.95</td>\n",
       "      <td>3091</td>\n",
       "      <td>10-15</td>\n",
       "      <td>1000</td>\n",
       "      <td>경유</td>\n",
       "      <td>비사업용</td>\n",
       "      <td>11804.0</td>\n",
       "      <td>2590.0</td>\n",
       "      <td>4809.0</td>\n",
       "      <td>19285.0</td>\n",
       "    </tr>\n",
       "  </tbody>\n",
       "</table>\n",
       "</div>"
      ],
      "text/plain": [
       "   자치구    동  면적_동  store_총_개소  백화점_개소  백화점_건물연면적  복합쇼핑몰_개소  복합쇼핑몰_건물연면적  \\\n",
       "3   중구  소공동  0.95         3.0     2.0   125379.0       0.0          0.0   \n",
       "4   중구  소공동  0.95         3.0     2.0   125379.0       0.0          0.0   \n",
       "25  중구  소공동  0.95         3.0     2.0   125379.0       0.0          0.0   \n",
       "26  중구  소공동  0.95         3.0     2.0   125379.0       0.0          0.0   \n",
       "47  중구  소공동  0.95         3.0     2.0   125379.0       0.0          0.0   \n",
       "\n",
       "    전문점_개소  전문점_건물연면적  합계_사업체수  총_수급자_가구  ㎡당 매매평균가  ㎡당 전세평균가    수입차합계  수입화물차  \\\n",
       "3      0.0        0.0     3918      24.0     921.0     607.0  11403.0  144.0   \n",
       "4      0.0        0.0     3918      24.0     921.0     607.0  11403.0  144.0   \n",
       "25     0.0        0.0     3918      24.0     921.0     607.0  11403.0  144.0   \n",
       "26     0.0        0.0     3918      24.0     921.0     607.0  11403.0  144.0   \n",
       "47     0.0        0.0     3918      24.0     921.0     607.0  11403.0  144.0   \n",
       "\n",
       "    수입특수차  주택건설현황    인구    면적  인구밀도   사용년수   세대수 연료별   용도별       승용      승합  \\\n",
       "3    50.0    2156  2936  0.95  3091    0-5  2351  경유  비사업용  11804.0  2590.0   \n",
       "4    50.0    2156  2936  0.95  3091    0-5  2351  경유   사업용    668.0   350.0   \n",
       "25   50.0    2156  2936  0.95  3091   5-10  4875  경유  비사업용  11804.0  2590.0   \n",
       "26   50.0    2156  2936  0.95  3091   5-10  4875  경유   사업용    668.0   350.0   \n",
       "47   50.0    2156  2936  0.95  3091  10-15  1000  경유  비사업용  11804.0  2590.0   \n",
       "\n",
       "        화물        계  \n",
       "3   4809.0  19285.0  \n",
       "4   1582.0   2724.0  \n",
       "25  4809.0  19285.0  \n",
       "26  1582.0   2724.0  \n",
       "47  4809.0  19285.0  "
      ]
     },
     "execution_count": 291,
     "metadata": {},
     "output_type": "execute_result"
    }
   ],
   "source": [
    "dong_ff[dong_ff['연료별']=='경유'].head()"
   ]
  },
  {
   "cell_type": "code",
   "execution_count": 292,
   "metadata": {
    "scrolled": false
   },
   "outputs": [
    {
     "data": {
      "text/html": [
       "<div>\n",
       "<style scoped>\n",
       "    .dataframe tbody tr th:only-of-type {\n",
       "        vertical-align: middle;\n",
       "    }\n",
       "\n",
       "    .dataframe tbody tr th {\n",
       "        vertical-align: top;\n",
       "    }\n",
       "\n",
       "    .dataframe thead th {\n",
       "        text-align: right;\n",
       "    }\n",
       "</style>\n",
       "<table border=\"1\" class=\"dataframe\">\n",
       "  <thead>\n",
       "    <tr style=\"text-align: right;\">\n",
       "      <th></th>\n",
       "      <th>자치구</th>\n",
       "      <th>동</th>\n",
       "      <th>면적_동</th>\n",
       "      <th>store_총_개소</th>\n",
       "      <th>백화점_개소</th>\n",
       "      <th>백화점_건물연면적</th>\n",
       "      <th>복합쇼핑몰_개소</th>\n",
       "      <th>복합쇼핑몰_건물연면적</th>\n",
       "      <th>전문점_개소</th>\n",
       "      <th>전문점_건물연면적</th>\n",
       "      <th>합계_사업체수</th>\n",
       "      <th>총_수급자_가구</th>\n",
       "      <th>㎡당 매매평균가</th>\n",
       "      <th>㎡당 전세평균가</th>\n",
       "      <th>수입차합계</th>\n",
       "      <th>수입화물차</th>\n",
       "      <th>수입특수차</th>\n",
       "      <th>주택건설현황</th>\n",
       "      <th>인구</th>\n",
       "      <th>면적</th>\n",
       "      <th>인구밀도</th>\n",
       "      <th>사용년수</th>\n",
       "      <th>세대수</th>\n",
       "      <th>연료별</th>\n",
       "      <th>용도별</th>\n",
       "      <th>승용</th>\n",
       "      <th>승합</th>\n",
       "      <th>화물</th>\n",
       "      <th>계</th>\n",
       "    </tr>\n",
       "  </thead>\n",
       "  <tbody>\n",
       "  </tbody>\n",
       "</table>\n",
       "</div>"
      ],
      "text/plain": [
       "Empty DataFrame\n",
       "Columns: [자치구, 동, 면적_동, store_총_개소, 백화점_개소, 백화점_건물연면적, 복합쇼핑몰_개소, 복합쇼핑몰_건물연면적, 전문점_개소, 전문점_건물연면적, 합계_사업체수, 총_수급자_가구, ㎡당 매매평균가, ㎡당 전세평균가, 수입차합계, 수입화물차, 수입특수차, 주택건설현황, 인구, 면적, 인구밀도, 사용년수, 세대수, 연료별, 용도별, 승용, 승합, 화물, 계]\n",
       "Index: []"
      ]
     },
     "execution_count": 292,
     "metadata": {},
     "output_type": "execute_result"
    }
   ],
   "source": [
    "dong_ff[dong_ff.isnull().any(axis=1)]"
   ]
  },
  {
   "cell_type": "code",
   "execution_count": 294,
   "metadata": {},
   "outputs": [],
   "source": [
    "dong_ff.to_csv('fifi.csv')"
   ]
  },
  {
   "cell_type": "code",
   "execution_count": 297,
   "metadata": {
    "scrolled": true
   },
   "outputs": [
    {
     "data": {
      "text/html": [
       "<div>\n",
       "<style scoped>\n",
       "    .dataframe tbody tr th:only-of-type {\n",
       "        vertical-align: middle;\n",
       "    }\n",
       "\n",
       "    .dataframe tbody tr th {\n",
       "        vertical-align: top;\n",
       "    }\n",
       "\n",
       "    .dataframe thead th {\n",
       "        text-align: right;\n",
       "    }\n",
       "</style>\n",
       "<table border=\"1\" class=\"dataframe\">\n",
       "  <thead>\n",
       "    <tr style=\"text-align: right;\">\n",
       "      <th></th>\n",
       "      <th>store_총_개소</th>\n",
       "      <th>백화점_개소</th>\n",
       "      <th>백화점_건물연면적</th>\n",
       "      <th>복합쇼핑몰_개소</th>\n",
       "      <th>복합쇼핑몰_건물연면적</th>\n",
       "      <th>전문점_개소</th>\n",
       "      <th>전문점_건물연면적</th>\n",
       "      <th>합계_사업체수</th>\n",
       "      <th>총_수급자_가구</th>\n",
       "      <th>㎡당 매매평균가</th>\n",
       "      <th>㎡당 전세평균가</th>\n",
       "      <th>수입차합계</th>\n",
       "      <th>수입화물차</th>\n",
       "      <th>수입특수차</th>\n",
       "      <th>주택건설현황</th>\n",
       "      <th>인구</th>\n",
       "      <th>면적</th>\n",
       "      <th>인구밀도</th>\n",
       "      <th>세대수</th>\n",
       "      <th>승용</th>\n",
       "      <th>승합</th>\n",
       "      <th>화물</th>\n",
       "      <th>계</th>\n",
       "    </tr>\n",
       "  </thead>\n",
       "  <tbody>\n",
       "    <tr>\n",
       "      <th>store_총_개소</th>\n",
       "      <td>1.000000</td>\n",
       "      <td>0.398390</td>\n",
       "      <td>0.328359</td>\n",
       "      <td>0.125276</td>\n",
       "      <td>0.144953</td>\n",
       "      <td>0.476015</td>\n",
       "      <td>0.450625</td>\n",
       "      <td>0.617665</td>\n",
       "      <td>0.007723</td>\n",
       "      <td>0.078221</td>\n",
       "      <td>0.158240</td>\n",
       "      <td>0.034191</td>\n",
       "      <td>0.097380</td>\n",
       "      <td>0.048249</td>\n",
       "      <td>0.017233</td>\n",
       "      <td>-0.050055</td>\n",
       "      <td>-0.012370</td>\n",
       "      <td>-0.146122</td>\n",
       "      <td>-0.053196</td>\n",
       "      <td>-0.016606</td>\n",
       "      <td>-0.003954</td>\n",
       "      <td>-0.006708</td>\n",
       "      <td>-0.015654</td>\n",
       "    </tr>\n",
       "    <tr>\n",
       "      <th>백화점_개소</th>\n",
       "      <td>0.398390</td>\n",
       "      <td>1.000000</td>\n",
       "      <td>0.574814</td>\n",
       "      <td>0.063580</td>\n",
       "      <td>0.151895</td>\n",
       "      <td>0.116042</td>\n",
       "      <td>0.214802</td>\n",
       "      <td>0.182830</td>\n",
       "      <td>0.024550</td>\n",
       "      <td>0.236370</td>\n",
       "      <td>0.237191</td>\n",
       "      <td>0.145189</td>\n",
       "      <td>0.092653</td>\n",
       "      <td>0.083734</td>\n",
       "      <td>0.035895</td>\n",
       "      <td>-0.010762</td>\n",
       "      <td>0.010558</td>\n",
       "      <td>-0.149676</td>\n",
       "      <td>0.021410</td>\n",
       "      <td>0.006725</td>\n",
       "      <td>-0.000871</td>\n",
       "      <td>-0.002893</td>\n",
       "      <td>0.005430</td>\n",
       "    </tr>\n",
       "    <tr>\n",
       "      <th>백화점_건물연면적</th>\n",
       "      <td>0.328359</td>\n",
       "      <td>0.574814</td>\n",
       "      <td>1.000000</td>\n",
       "      <td>0.024473</td>\n",
       "      <td>0.067658</td>\n",
       "      <td>0.279805</td>\n",
       "      <td>0.781923</td>\n",
       "      <td>0.079449</td>\n",
       "      <td>-0.054855</td>\n",
       "      <td>0.214922</td>\n",
       "      <td>0.222830</td>\n",
       "      <td>0.100992</td>\n",
       "      <td>0.120120</td>\n",
       "      <td>0.003518</td>\n",
       "      <td>0.096207</td>\n",
       "      <td>-0.000268</td>\n",
       "      <td>0.029074</td>\n",
       "      <td>-0.111302</td>\n",
       "      <td>0.038836</td>\n",
       "      <td>0.008976</td>\n",
       "      <td>0.000707</td>\n",
       "      <td>0.006775</td>\n",
       "      <td>0.008854</td>\n",
       "    </tr>\n",
       "    <tr>\n",
       "      <th>복합쇼핑몰_개소</th>\n",
       "      <td>0.125276</td>\n",
       "      <td>0.063580</td>\n",
       "      <td>0.024473</td>\n",
       "      <td>1.000000</td>\n",
       "      <td>0.762269</td>\n",
       "      <td>-0.024059</td>\n",
       "      <td>-0.015718</td>\n",
       "      <td>0.116964</td>\n",
       "      <td>-0.052815</td>\n",
       "      <td>0.071674</td>\n",
       "      <td>0.070813</td>\n",
       "      <td>0.042567</td>\n",
       "      <td>0.033100</td>\n",
       "      <td>0.034969</td>\n",
       "      <td>-0.030648</td>\n",
       "      <td>-0.016030</td>\n",
       "      <td>0.119308</td>\n",
       "      <td>-0.075629</td>\n",
       "      <td>-0.005088</td>\n",
       "      <td>-0.006843</td>\n",
       "      <td>-0.005524</td>\n",
       "      <td>-0.005023</td>\n",
       "      <td>-0.006939</td>\n",
       "    </tr>\n",
       "    <tr>\n",
       "      <th>복합쇼핑몰_건물연면적</th>\n",
       "      <td>0.144953</td>\n",
       "      <td>0.151895</td>\n",
       "      <td>0.067658</td>\n",
       "      <td>0.762269</td>\n",
       "      <td>1.000000</td>\n",
       "      <td>-0.018340</td>\n",
       "      <td>-0.011981</td>\n",
       "      <td>0.075709</td>\n",
       "      <td>-0.052382</td>\n",
       "      <td>0.098927</td>\n",
       "      <td>0.127072</td>\n",
       "      <td>0.124449</td>\n",
       "      <td>0.046047</td>\n",
       "      <td>0.015816</td>\n",
       "      <td>0.006015</td>\n",
       "      <td>-0.055625</td>\n",
       "      <td>0.034690</td>\n",
       "      <td>-0.079366</td>\n",
       "      <td>0.015625</td>\n",
       "      <td>0.004287</td>\n",
       "      <td>-0.002722</td>\n",
       "      <td>-0.003766</td>\n",
       "      <td>0.003065</td>\n",
       "    </tr>\n",
       "    <tr>\n",
       "      <th>전문점_개소</th>\n",
       "      <td>0.476015</td>\n",
       "      <td>0.116042</td>\n",
       "      <td>0.279805</td>\n",
       "      <td>-0.024059</td>\n",
       "      <td>-0.018340</td>\n",
       "      <td>1.000000</td>\n",
       "      <td>0.589510</td>\n",
       "      <td>0.327591</td>\n",
       "      <td>0.026092</td>\n",
       "      <td>0.055914</td>\n",
       "      <td>0.098715</td>\n",
       "      <td>0.025911</td>\n",
       "      <td>0.112130</td>\n",
       "      <td>0.007102</td>\n",
       "      <td>0.109115</td>\n",
       "      <td>0.012972</td>\n",
       "      <td>-0.007978</td>\n",
       "      <td>-0.068856</td>\n",
       "      <td>-0.013069</td>\n",
       "      <td>-0.008074</td>\n",
       "      <td>-0.005132</td>\n",
       "      <td>-0.000619</td>\n",
       "      <td>-0.007381</td>\n",
       "    </tr>\n",
       "    <tr>\n",
       "      <th>전문점_건물연면적</th>\n",
       "      <td>0.450625</td>\n",
       "      <td>0.214802</td>\n",
       "      <td>0.781923</td>\n",
       "      <td>-0.015718</td>\n",
       "      <td>-0.011981</td>\n",
       "      <td>0.589510</td>\n",
       "      <td>1.000000</td>\n",
       "      <td>0.183337</td>\n",
       "      <td>-0.094696</td>\n",
       "      <td>0.136811</td>\n",
       "      <td>0.161569</td>\n",
       "      <td>0.060849</td>\n",
       "      <td>0.111875</td>\n",
       "      <td>-0.029871</td>\n",
       "      <td>0.091506</td>\n",
       "      <td>-0.025777</td>\n",
       "      <td>0.020318</td>\n",
       "      <td>-0.088708</td>\n",
       "      <td>0.021344</td>\n",
       "      <td>0.003745</td>\n",
       "      <td>0.001268</td>\n",
       "      <td>0.006586</td>\n",
       "      <td>0.004282</td>\n",
       "    </tr>\n",
       "    <tr>\n",
       "      <th>합계_사업체수</th>\n",
       "      <td>0.617665</td>\n",
       "      <td>0.182830</td>\n",
       "      <td>0.079449</td>\n",
       "      <td>0.116964</td>\n",
       "      <td>0.075709</td>\n",
       "      <td>0.327591</td>\n",
       "      <td>0.183337</td>\n",
       "      <td>1.000000</td>\n",
       "      <td>-0.086412</td>\n",
       "      <td>0.105625</td>\n",
       "      <td>0.231110</td>\n",
       "      <td>0.181869</td>\n",
       "      <td>0.191874</td>\n",
       "      <td>0.063904</td>\n",
       "      <td>0.085943</td>\n",
       "      <td>0.056597</td>\n",
       "      <td>0.119854</td>\n",
       "      <td>-0.257680</td>\n",
       "      <td>-0.023284</td>\n",
       "      <td>-0.004400</td>\n",
       "      <td>-0.003922</td>\n",
       "      <td>-0.006115</td>\n",
       "      <td>-0.004907</td>\n",
       "    </tr>\n",
       "    <tr>\n",
       "      <th>총_수급자_가구</th>\n",
       "      <td>0.007723</td>\n",
       "      <td>0.024550</td>\n",
       "      <td>-0.054855</td>\n",
       "      <td>-0.052815</td>\n",
       "      <td>-0.052382</td>\n",
       "      <td>0.026092</td>\n",
       "      <td>-0.094696</td>\n",
       "      <td>-0.086412</td>\n",
       "      <td>1.000000</td>\n",
       "      <td>-0.361125</td>\n",
       "      <td>-0.415961</td>\n",
       "      <td>-0.275420</td>\n",
       "      <td>-0.266459</td>\n",
       "      <td>-0.125464</td>\n",
       "      <td>-0.259247</td>\n",
       "      <td>0.264796</td>\n",
       "      <td>0.143850</td>\n",
       "      <td>0.034066</td>\n",
       "      <td>0.013953</td>\n",
       "      <td>0.011707</td>\n",
       "      <td>0.021826</td>\n",
       "      <td>0.009310</td>\n",
       "      <td>0.012597</td>\n",
       "    </tr>\n",
       "    <tr>\n",
       "      <th>㎡당 매매평균가</th>\n",
       "      <td>0.078221</td>\n",
       "      <td>0.236370</td>\n",
       "      <td>0.214922</td>\n",
       "      <td>0.071674</td>\n",
       "      <td>0.098927</td>\n",
       "      <td>0.055914</td>\n",
       "      <td>0.136811</td>\n",
       "      <td>0.105625</td>\n",
       "      <td>-0.361125</td>\n",
       "      <td>1.000000</td>\n",
       "      <td>0.858813</td>\n",
       "      <td>0.785479</td>\n",
       "      <td>0.559345</td>\n",
       "      <td>0.126440</td>\n",
       "      <td>0.583378</td>\n",
       "      <td>-0.011321</td>\n",
       "      <td>0.055565</td>\n",
       "      <td>-0.204609</td>\n",
       "      <td>0.123464</td>\n",
       "      <td>0.039885</td>\n",
       "      <td>-0.015363</td>\n",
       "      <td>-0.003526</td>\n",
       "      <td>0.033554</td>\n",
       "    </tr>\n",
       "    <tr>\n",
       "      <th>㎡당 전세평균가</th>\n",
       "      <td>0.158240</td>\n",
       "      <td>0.237191</td>\n",
       "      <td>0.222830</td>\n",
       "      <td>0.070813</td>\n",
       "      <td>0.127072</td>\n",
       "      <td>0.098715</td>\n",
       "      <td>0.161569</td>\n",
       "      <td>0.231110</td>\n",
       "      <td>-0.415961</td>\n",
       "      <td>0.858813</td>\n",
       "      <td>1.000000</td>\n",
       "      <td>0.723022</td>\n",
       "      <td>0.532869</td>\n",
       "      <td>0.090144</td>\n",
       "      <td>0.597351</td>\n",
       "      <td>0.011496</td>\n",
       "      <td>0.012551</td>\n",
       "      <td>-0.149710</td>\n",
       "      <td>0.070117</td>\n",
       "      <td>0.022533</td>\n",
       "      <td>-0.022359</td>\n",
       "      <td>-0.010382</td>\n",
       "      <td>0.017042</td>\n",
       "    </tr>\n",
       "    <tr>\n",
       "      <th>수입차합계</th>\n",
       "      <td>0.034191</td>\n",
       "      <td>0.145189</td>\n",
       "      <td>0.100992</td>\n",
       "      <td>0.042567</td>\n",
       "      <td>0.124449</td>\n",
       "      <td>0.025911</td>\n",
       "      <td>0.060849</td>\n",
       "      <td>0.181869</td>\n",
       "      <td>-0.275420</td>\n",
       "      <td>0.785479</td>\n",
       "      <td>0.723022</td>\n",
       "      <td>1.000000</td>\n",
       "      <td>0.745116</td>\n",
       "      <td>0.153754</td>\n",
       "      <td>0.660047</td>\n",
       "      <td>0.033826</td>\n",
       "      <td>0.126578</td>\n",
       "      <td>-0.223241</td>\n",
       "      <td>0.203821</td>\n",
       "      <td>0.066838</td>\n",
       "      <td>-0.008188</td>\n",
       "      <td>0.007543</td>\n",
       "      <td>0.059071</td>\n",
       "    </tr>\n",
       "    <tr>\n",
       "      <th>수입화물차</th>\n",
       "      <td>0.097380</td>\n",
       "      <td>0.092653</td>\n",
       "      <td>0.120120</td>\n",
       "      <td>0.033100</td>\n",
       "      <td>0.046047</td>\n",
       "      <td>0.112130</td>\n",
       "      <td>0.111875</td>\n",
       "      <td>0.191874</td>\n",
       "      <td>-0.266459</td>\n",
       "      <td>0.559345</td>\n",
       "      <td>0.532869</td>\n",
       "      <td>0.745116</td>\n",
       "      <td>1.000000</td>\n",
       "      <td>0.346592</td>\n",
       "      <td>0.640695</td>\n",
       "      <td>-0.006454</td>\n",
       "      <td>0.114867</td>\n",
       "      <td>-0.166633</td>\n",
       "      <td>0.163252</td>\n",
       "      <td>0.048120</td>\n",
       "      <td>-0.004606</td>\n",
       "      <td>0.025940</td>\n",
       "      <td>0.045769</td>\n",
       "    </tr>\n",
       "    <tr>\n",
       "      <th>수입특수차</th>\n",
       "      <td>0.048249</td>\n",
       "      <td>0.083734</td>\n",
       "      <td>0.003518</td>\n",
       "      <td>0.034969</td>\n",
       "      <td>0.015816</td>\n",
       "      <td>0.007102</td>\n",
       "      <td>-0.029871</td>\n",
       "      <td>0.063904</td>\n",
       "      <td>-0.125464</td>\n",
       "      <td>0.126440</td>\n",
       "      <td>0.090144</td>\n",
       "      <td>0.153754</td>\n",
       "      <td>0.346592</td>\n",
       "      <td>1.000000</td>\n",
       "      <td>-0.087034</td>\n",
       "      <td>-0.031425</td>\n",
       "      <td>-0.028021</td>\n",
       "      <td>0.021733</td>\n",
       "      <td>0.004687</td>\n",
       "      <td>-0.017647</td>\n",
       "      <td>-0.023810</td>\n",
       "      <td>-0.011918</td>\n",
       "      <td>-0.017964</td>\n",
       "    </tr>\n",
       "    <tr>\n",
       "      <th>주택건설현황</th>\n",
       "      <td>0.017233</td>\n",
       "      <td>0.035895</td>\n",
       "      <td>0.096207</td>\n",
       "      <td>-0.030648</td>\n",
       "      <td>0.006015</td>\n",
       "      <td>0.109115</td>\n",
       "      <td>0.091506</td>\n",
       "      <td>0.085943</td>\n",
       "      <td>-0.259247</td>\n",
       "      <td>0.583378</td>\n",
       "      <td>0.597351</td>\n",
       "      <td>0.660047</td>\n",
       "      <td>0.640695</td>\n",
       "      <td>-0.087034</td>\n",
       "      <td>1.000000</td>\n",
       "      <td>0.042081</td>\n",
       "      <td>0.153626</td>\n",
       "      <td>-0.179812</td>\n",
       "      <td>0.098346</td>\n",
       "      <td>0.029354</td>\n",
       "      <td>-0.022260</td>\n",
       "      <td>0.004534</td>\n",
       "      <td>0.025145</td>\n",
       "    </tr>\n",
       "    <tr>\n",
       "      <th>인구</th>\n",
       "      <td>-0.050055</td>\n",
       "      <td>-0.010762</td>\n",
       "      <td>-0.000268</td>\n",
       "      <td>-0.016030</td>\n",
       "      <td>-0.055625</td>\n",
       "      <td>0.012972</td>\n",
       "      <td>-0.025777</td>\n",
       "      <td>0.056597</td>\n",
       "      <td>0.264796</td>\n",
       "      <td>-0.011321</td>\n",
       "      <td>0.011496</td>\n",
       "      <td>0.033826</td>\n",
       "      <td>-0.006454</td>\n",
       "      <td>-0.031425</td>\n",
       "      <td>0.042081</td>\n",
       "      <td>1.000000</td>\n",
       "      <td>0.211352</td>\n",
       "      <td>0.231244</td>\n",
       "      <td>0.094315</td>\n",
       "      <td>0.033741</td>\n",
       "      <td>0.007731</td>\n",
       "      <td>0.013445</td>\n",
       "      <td>0.031803</td>\n",
       "    </tr>\n",
       "    <tr>\n",
       "      <th>면적</th>\n",
       "      <td>-0.012370</td>\n",
       "      <td>0.010558</td>\n",
       "      <td>0.029074</td>\n",
       "      <td>0.119308</td>\n",
       "      <td>0.034690</td>\n",
       "      <td>-0.007978</td>\n",
       "      <td>0.020318</td>\n",
       "      <td>0.119854</td>\n",
       "      <td>0.143850</td>\n",
       "      <td>0.055565</td>\n",
       "      <td>0.012551</td>\n",
       "      <td>0.126578</td>\n",
       "      <td>0.114867</td>\n",
       "      <td>-0.028021</td>\n",
       "      <td>0.153626</td>\n",
       "      <td>0.211352</td>\n",
       "      <td>1.000000</td>\n",
       "      <td>-0.566146</td>\n",
       "      <td>0.045554</td>\n",
       "      <td>0.025225</td>\n",
       "      <td>0.010482</td>\n",
       "      <td>0.009290</td>\n",
       "      <td>0.023883</td>\n",
       "    </tr>\n",
       "    <tr>\n",
       "      <th>인구밀도</th>\n",
       "      <td>-0.146122</td>\n",
       "      <td>-0.149676</td>\n",
       "      <td>-0.111302</td>\n",
       "      <td>-0.075629</td>\n",
       "      <td>-0.079366</td>\n",
       "      <td>-0.068856</td>\n",
       "      <td>-0.088708</td>\n",
       "      <td>-0.257680</td>\n",
       "      <td>0.034066</td>\n",
       "      <td>-0.204609</td>\n",
       "      <td>-0.149710</td>\n",
       "      <td>-0.223241</td>\n",
       "      <td>-0.166633</td>\n",
       "      <td>0.021733</td>\n",
       "      <td>-0.179812</td>\n",
       "      <td>0.231244</td>\n",
       "      <td>-0.566146</td>\n",
       "      <td>1.000000</td>\n",
       "      <td>-0.020255</td>\n",
       "      <td>-0.011104</td>\n",
       "      <td>-0.000704</td>\n",
       "      <td>0.000928</td>\n",
       "      <td>-0.009580</td>\n",
       "    </tr>\n",
       "    <tr>\n",
       "      <th>세대수</th>\n",
       "      <td>-0.053196</td>\n",
       "      <td>0.021410</td>\n",
       "      <td>0.038836</td>\n",
       "      <td>-0.005088</td>\n",
       "      <td>0.015625</td>\n",
       "      <td>-0.013069</td>\n",
       "      <td>0.021344</td>\n",
       "      <td>-0.023284</td>\n",
       "      <td>0.013953</td>\n",
       "      <td>0.123464</td>\n",
       "      <td>0.070117</td>\n",
       "      <td>0.203821</td>\n",
       "      <td>0.163252</td>\n",
       "      <td>0.004687</td>\n",
       "      <td>0.098346</td>\n",
       "      <td>0.094315</td>\n",
       "      <td>0.045554</td>\n",
       "      <td>-0.020255</td>\n",
       "      <td>1.000000</td>\n",
       "      <td>0.046320</td>\n",
       "      <td>0.017265</td>\n",
       "      <td>0.018358</td>\n",
       "      <td>0.043970</td>\n",
       "    </tr>\n",
       "    <tr>\n",
       "      <th>승용</th>\n",
       "      <td>-0.016606</td>\n",
       "      <td>0.006725</td>\n",
       "      <td>0.008976</td>\n",
       "      <td>-0.006843</td>\n",
       "      <td>0.004287</td>\n",
       "      <td>-0.008074</td>\n",
       "      <td>0.003745</td>\n",
       "      <td>-0.004400</td>\n",
       "      <td>0.011707</td>\n",
       "      <td>0.039885</td>\n",
       "      <td>0.022533</td>\n",
       "      <td>0.066838</td>\n",
       "      <td>0.048120</td>\n",
       "      <td>-0.017647</td>\n",
       "      <td>0.029354</td>\n",
       "      <td>0.033741</td>\n",
       "      <td>0.025225</td>\n",
       "      <td>-0.011104</td>\n",
       "      <td>0.046320</td>\n",
       "      <td>1.000000</td>\n",
       "      <td>0.614756</td>\n",
       "      <td>0.579550</td>\n",
       "      <td>0.987827</td>\n",
       "    </tr>\n",
       "    <tr>\n",
       "      <th>승합</th>\n",
       "      <td>-0.003954</td>\n",
       "      <td>-0.000871</td>\n",
       "      <td>0.000707</td>\n",
       "      <td>-0.005524</td>\n",
       "      <td>-0.002722</td>\n",
       "      <td>-0.005132</td>\n",
       "      <td>0.001268</td>\n",
       "      <td>-0.003922</td>\n",
       "      <td>0.021826</td>\n",
       "      <td>-0.015363</td>\n",
       "      <td>-0.022359</td>\n",
       "      <td>-0.008188</td>\n",
       "      <td>-0.004606</td>\n",
       "      <td>-0.023810</td>\n",
       "      <td>-0.022260</td>\n",
       "      <td>0.007731</td>\n",
       "      <td>0.010482</td>\n",
       "      <td>-0.000704</td>\n",
       "      <td>0.017265</td>\n",
       "      <td>0.614756</td>\n",
       "      <td>1.000000</td>\n",
       "      <td>0.955608</td>\n",
       "      <td>0.724915</td>\n",
       "    </tr>\n",
       "    <tr>\n",
       "      <th>화물</th>\n",
       "      <td>-0.006708</td>\n",
       "      <td>-0.002893</td>\n",
       "      <td>0.006775</td>\n",
       "      <td>-0.005023</td>\n",
       "      <td>-0.003766</td>\n",
       "      <td>-0.000619</td>\n",
       "      <td>0.006586</td>\n",
       "      <td>-0.006115</td>\n",
       "      <td>0.009310</td>\n",
       "      <td>-0.003526</td>\n",
       "      <td>-0.010382</td>\n",
       "      <td>0.007543</td>\n",
       "      <td>0.025940</td>\n",
       "      <td>-0.011918</td>\n",
       "      <td>0.004534</td>\n",
       "      <td>0.013445</td>\n",
       "      <td>0.009290</td>\n",
       "      <td>0.000928</td>\n",
       "      <td>0.018358</td>\n",
       "      <td>0.579550</td>\n",
       "      <td>0.955608</td>\n",
       "      <td>1.000000</td>\n",
       "      <td>0.698812</td>\n",
       "    </tr>\n",
       "    <tr>\n",
       "      <th>계</th>\n",
       "      <td>-0.015654</td>\n",
       "      <td>0.005430</td>\n",
       "      <td>0.008854</td>\n",
       "      <td>-0.006939</td>\n",
       "      <td>0.003065</td>\n",
       "      <td>-0.007381</td>\n",
       "      <td>0.004282</td>\n",
       "      <td>-0.004907</td>\n",
       "      <td>0.012597</td>\n",
       "      <td>0.033554</td>\n",
       "      <td>0.017042</td>\n",
       "      <td>0.059071</td>\n",
       "      <td>0.045769</td>\n",
       "      <td>-0.017964</td>\n",
       "      <td>0.025145</td>\n",
       "      <td>0.031803</td>\n",
       "      <td>0.023883</td>\n",
       "      <td>-0.009580</td>\n",
       "      <td>0.043970</td>\n",
       "      <td>0.987827</td>\n",
       "      <td>0.724915</td>\n",
       "      <td>0.698812</td>\n",
       "      <td>1.000000</td>\n",
       "    </tr>\n",
       "  </tbody>\n",
       "</table>\n",
       "</div>"
      ],
      "text/plain": [
       "             store_총_개소    백화점_개소  백화점_건물연면적  복합쇼핑몰_개소  복합쇼핑몰_건물연면적    전문점_개소  \\\n",
       "store_총_개소     1.000000  0.398390   0.328359  0.125276     0.144953  0.476015   \n",
       "백화점_개소         0.398390  1.000000   0.574814  0.063580     0.151895  0.116042   \n",
       "백화점_건물연면적      0.328359  0.574814   1.000000  0.024473     0.067658  0.279805   \n",
       "복합쇼핑몰_개소       0.125276  0.063580   0.024473  1.000000     0.762269 -0.024059   \n",
       "복합쇼핑몰_건물연면적    0.144953  0.151895   0.067658  0.762269     1.000000 -0.018340   \n",
       "전문점_개소         0.476015  0.116042   0.279805 -0.024059    -0.018340  1.000000   \n",
       "전문점_건물연면적      0.450625  0.214802   0.781923 -0.015718    -0.011981  0.589510   \n",
       "합계_사업체수        0.617665  0.182830   0.079449  0.116964     0.075709  0.327591   \n",
       "총_수급자_가구       0.007723  0.024550  -0.054855 -0.052815    -0.052382  0.026092   \n",
       "㎡당 매매평균가       0.078221  0.236370   0.214922  0.071674     0.098927  0.055914   \n",
       "㎡당 전세평균가       0.158240  0.237191   0.222830  0.070813     0.127072  0.098715   \n",
       "수입차합계          0.034191  0.145189   0.100992  0.042567     0.124449  0.025911   \n",
       "수입화물차          0.097380  0.092653   0.120120  0.033100     0.046047  0.112130   \n",
       "수입특수차          0.048249  0.083734   0.003518  0.034969     0.015816  0.007102   \n",
       "주택건설현황         0.017233  0.035895   0.096207 -0.030648     0.006015  0.109115   \n",
       "인구            -0.050055 -0.010762  -0.000268 -0.016030    -0.055625  0.012972   \n",
       "면적            -0.012370  0.010558   0.029074  0.119308     0.034690 -0.007978   \n",
       "인구밀도          -0.146122 -0.149676  -0.111302 -0.075629    -0.079366 -0.068856   \n",
       "세대수           -0.053196  0.021410   0.038836 -0.005088     0.015625 -0.013069   \n",
       "승용            -0.016606  0.006725   0.008976 -0.006843     0.004287 -0.008074   \n",
       "승합            -0.003954 -0.000871   0.000707 -0.005524    -0.002722 -0.005132   \n",
       "화물            -0.006708 -0.002893   0.006775 -0.005023    -0.003766 -0.000619   \n",
       "계             -0.015654  0.005430   0.008854 -0.006939     0.003065 -0.007381   \n",
       "\n",
       "             전문점_건물연면적   합계_사업체수  총_수급자_가구  ㎡당 매매평균가  ㎡당 전세평균가     수입차합계  \\\n",
       "store_총_개소    0.450625  0.617665  0.007723  0.078221  0.158240  0.034191   \n",
       "백화점_개소        0.214802  0.182830  0.024550  0.236370  0.237191  0.145189   \n",
       "백화점_건물연면적     0.781923  0.079449 -0.054855  0.214922  0.222830  0.100992   \n",
       "복합쇼핑몰_개소     -0.015718  0.116964 -0.052815  0.071674  0.070813  0.042567   \n",
       "복합쇼핑몰_건물연면적  -0.011981  0.075709 -0.052382  0.098927  0.127072  0.124449   \n",
       "전문점_개소        0.589510  0.327591  0.026092  0.055914  0.098715  0.025911   \n",
       "전문점_건물연면적     1.000000  0.183337 -0.094696  0.136811  0.161569  0.060849   \n",
       "합계_사업체수       0.183337  1.000000 -0.086412  0.105625  0.231110  0.181869   \n",
       "총_수급자_가구     -0.094696 -0.086412  1.000000 -0.361125 -0.415961 -0.275420   \n",
       "㎡당 매매평균가      0.136811  0.105625 -0.361125  1.000000  0.858813  0.785479   \n",
       "㎡당 전세평균가      0.161569  0.231110 -0.415961  0.858813  1.000000  0.723022   \n",
       "수입차합계         0.060849  0.181869 -0.275420  0.785479  0.723022  1.000000   \n",
       "수입화물차         0.111875  0.191874 -0.266459  0.559345  0.532869  0.745116   \n",
       "수입특수차        -0.029871  0.063904 -0.125464  0.126440  0.090144  0.153754   \n",
       "주택건설현황        0.091506  0.085943 -0.259247  0.583378  0.597351  0.660047   \n",
       "인구           -0.025777  0.056597  0.264796 -0.011321  0.011496  0.033826   \n",
       "면적            0.020318  0.119854  0.143850  0.055565  0.012551  0.126578   \n",
       "인구밀도         -0.088708 -0.257680  0.034066 -0.204609 -0.149710 -0.223241   \n",
       "세대수           0.021344 -0.023284  0.013953  0.123464  0.070117  0.203821   \n",
       "승용            0.003745 -0.004400  0.011707  0.039885  0.022533  0.066838   \n",
       "승합            0.001268 -0.003922  0.021826 -0.015363 -0.022359 -0.008188   \n",
       "화물            0.006586 -0.006115  0.009310 -0.003526 -0.010382  0.007543   \n",
       "계             0.004282 -0.004907  0.012597  0.033554  0.017042  0.059071   \n",
       "\n",
       "                수입화물차     수입특수차    주택건설현황        인구        면적      인구밀도  \\\n",
       "store_총_개소   0.097380  0.048249  0.017233 -0.050055 -0.012370 -0.146122   \n",
       "백화점_개소       0.092653  0.083734  0.035895 -0.010762  0.010558 -0.149676   \n",
       "백화점_건물연면적    0.120120  0.003518  0.096207 -0.000268  0.029074 -0.111302   \n",
       "복합쇼핑몰_개소     0.033100  0.034969 -0.030648 -0.016030  0.119308 -0.075629   \n",
       "복합쇼핑몰_건물연면적  0.046047  0.015816  0.006015 -0.055625  0.034690 -0.079366   \n",
       "전문점_개소       0.112130  0.007102  0.109115  0.012972 -0.007978 -0.068856   \n",
       "전문점_건물연면적    0.111875 -0.029871  0.091506 -0.025777  0.020318 -0.088708   \n",
       "합계_사업체수      0.191874  0.063904  0.085943  0.056597  0.119854 -0.257680   \n",
       "총_수급자_가구    -0.266459 -0.125464 -0.259247  0.264796  0.143850  0.034066   \n",
       "㎡당 매매평균가     0.559345  0.126440  0.583378 -0.011321  0.055565 -0.204609   \n",
       "㎡당 전세평균가     0.532869  0.090144  0.597351  0.011496  0.012551 -0.149710   \n",
       "수입차합계        0.745116  0.153754  0.660047  0.033826  0.126578 -0.223241   \n",
       "수입화물차        1.000000  0.346592  0.640695 -0.006454  0.114867 -0.166633   \n",
       "수입특수차        0.346592  1.000000 -0.087034 -0.031425 -0.028021  0.021733   \n",
       "주택건설현황       0.640695 -0.087034  1.000000  0.042081  0.153626 -0.179812   \n",
       "인구          -0.006454 -0.031425  0.042081  1.000000  0.211352  0.231244   \n",
       "면적           0.114867 -0.028021  0.153626  0.211352  1.000000 -0.566146   \n",
       "인구밀도        -0.166633  0.021733 -0.179812  0.231244 -0.566146  1.000000   \n",
       "세대수          0.163252  0.004687  0.098346  0.094315  0.045554 -0.020255   \n",
       "승용           0.048120 -0.017647  0.029354  0.033741  0.025225 -0.011104   \n",
       "승합          -0.004606 -0.023810 -0.022260  0.007731  0.010482 -0.000704   \n",
       "화물           0.025940 -0.011918  0.004534  0.013445  0.009290  0.000928   \n",
       "계            0.045769 -0.017964  0.025145  0.031803  0.023883 -0.009580   \n",
       "\n",
       "                  세대수        승용        승합        화물         계  \n",
       "store_총_개소  -0.053196 -0.016606 -0.003954 -0.006708 -0.015654  \n",
       "백화점_개소       0.021410  0.006725 -0.000871 -0.002893  0.005430  \n",
       "백화점_건물연면적    0.038836  0.008976  0.000707  0.006775  0.008854  \n",
       "복합쇼핑몰_개소    -0.005088 -0.006843 -0.005524 -0.005023 -0.006939  \n",
       "복합쇼핑몰_건물연면적  0.015625  0.004287 -0.002722 -0.003766  0.003065  \n",
       "전문점_개소      -0.013069 -0.008074 -0.005132 -0.000619 -0.007381  \n",
       "전문점_건물연면적    0.021344  0.003745  0.001268  0.006586  0.004282  \n",
       "합계_사업체수     -0.023284 -0.004400 -0.003922 -0.006115 -0.004907  \n",
       "총_수급자_가구     0.013953  0.011707  0.021826  0.009310  0.012597  \n",
       "㎡당 매매평균가     0.123464  0.039885 -0.015363 -0.003526  0.033554  \n",
       "㎡당 전세평균가     0.070117  0.022533 -0.022359 -0.010382  0.017042  \n",
       "수입차합계        0.203821  0.066838 -0.008188  0.007543  0.059071  \n",
       "수입화물차        0.163252  0.048120 -0.004606  0.025940  0.045769  \n",
       "수입특수차        0.004687 -0.017647 -0.023810 -0.011918 -0.017964  \n",
       "주택건설현황       0.098346  0.029354 -0.022260  0.004534  0.025145  \n",
       "인구           0.094315  0.033741  0.007731  0.013445  0.031803  \n",
       "면적           0.045554  0.025225  0.010482  0.009290  0.023883  \n",
       "인구밀도        -0.020255 -0.011104 -0.000704  0.000928 -0.009580  \n",
       "세대수          1.000000  0.046320  0.017265  0.018358  0.043970  \n",
       "승용           0.046320  1.000000  0.614756  0.579550  0.987827  \n",
       "승합           0.017265  0.614756  1.000000  0.955608  0.724915  \n",
       "화물           0.018358  0.579550  0.955608  1.000000  0.698812  \n",
       "계            0.043970  0.987827  0.724915  0.698812  1.000000  "
      ]
     },
     "execution_count": 297,
     "metadata": {},
     "output_type": "execute_result"
    }
   ],
   "source": [
    "dong_ff.corr()"
   ]
  },
  {
   "cell_type": "code",
   "execution_count": null,
   "metadata": {},
   "outputs": [],
   "source": []
  },
  {
   "cell_type": "code",
   "execution_count": null,
   "metadata": {},
   "outputs": [],
   "source": []
  },
  {
   "cell_type": "markdown",
   "metadata": {},
   "source": [
    "apt.동_y = apt.동_y.fillna(apt.동_x)\n",
    "apt[apt['동_y'].isnull()]['동_y']"
   ]
  },
  {
   "cell_type": "markdown",
   "metadata": {
    "scrolled": true
   },
   "source": [
    "apt[apt.duplicated(subset=['동_y'], keep='first')].sort_values(by='동_y')"
   ]
  },
  {
   "cell_type": "markdown",
   "metadata": {
    "scrolled": true
   },
   "source": [
    "apt_dup = apt[apt['two'].isin(['금호','당산','문래','보문','삼선','성수','안암','양평','영등포','용산','원효','한강','회현'])]"
   ]
  },
  {
   "cell_type": "markdown",
   "metadata": {},
   "source": [
    "apt.동_y = apt.동_y.fillna(apt.동_x)\n",
    "apt[apt['동_y'].isnull()]['동_y']"
   ]
  },
  {
   "cell_type": "markdown",
   "metadata": {
    "scrolled": true
   },
   "source": [
    "two = apt[['자치구', '동_y', '㎡당 매매평균가', '㎡당 전세평균가', 'two']]\n",
    "two.columns= ['자치구', '동', '㎡당 매매평균가', '㎡당 전세평균가', 'two']"
   ]
  },
  {
   "cell_type": "markdown",
   "metadata": {},
   "source": [
    "two.head()"
   ]
  },
  {
   "cell_type": "markdown",
   "metadata": {},
   "source": [
    "c =(set(two.동)-set(num_company.동))\n",
    "e =(set(num_company.동) - set(two.동))"
   ]
  },
  {
   "cell_type": "markdown",
   "metadata": {
    "scrolled": false
   },
   "source": [
    "two2 = two[(two['동'].isin(c))]"
   ]
  },
  {
   "cell_type": "markdown",
   "metadata": {
    "scrolled": false
   },
   "source": [
    "num_company2 = num_company[(num_company['동'].isin(e))]"
   ]
  },
  {
   "cell_type": "markdown",
   "metadata": {
    "scrolled": false
   },
   "source": [
    "two2['one']=two2.동.str[:1]\n",
    "num_company2['one']=num_company.동.str[:1]"
   ]
  },
  {
   "cell_type": "markdown",
   "metadata": {},
   "source": [
    "apt1 =two2.merge(num_company2, how = 'left', on =['자치구','one'])"
   ]
  },
  {
   "cell_type": "markdown",
   "metadata": {},
   "source": [
    "apt1[apt1['two_x'].isin(['번동', '창동', '목동', '묵동'])]"
   ]
  },
  {
   "cell_type": "markdown",
   "metadata": {},
   "source": [
    "# 번동"
   ]
  },
  {
   "cell_type": "markdown",
   "metadata": {},
   "source": [
    "apt1['동_x'].iloc[2]='번1동'\n",
    "apt1['동_x'].iloc[3]='번2동'\n",
    "apt1['동_x'].iloc[4]='번3동'"
   ]
  },
  {
   "cell_type": "markdown",
   "metadata": {},
   "source": [
    "# 창동"
   ]
  },
  {
   "cell_type": "markdown",
   "metadata": {},
   "source": [
    "apt1['동_x'].iloc[12]='창1동'\n",
    "apt1['동_x'].iloc[13]='창2동'\n",
    "apt1['동_x'].iloc[14]='창3동'\n",
    "apt1['동_x'].iloc[15]='창4동'\n",
    "apt1['동_x'].iloc[16]='창5동'"
   ]
  },
  {
   "cell_type": "markdown",
   "metadata": {},
   "source": [
    "# 목동"
   ]
  },
  {
   "cell_type": "markdown",
   "metadata": {},
   "source": [
    "apt1['동_x'].iloc[50]='목1동'\n",
    "apt1['동_x'].iloc[51]='목2동'\n",
    "apt1['동_x'].iloc[52]='목3동'\n",
    "apt1['동_x'].iloc[53]='목4동'\n",
    "apt1['동_x'].iloc[54]='목5동'"
   ]
  },
  {
   "cell_type": "markdown",
   "metadata": {},
   "source": [
    "# 묵동 "
   ]
  },
  {
   "cell_type": "markdown",
   "metadata": {},
   "source": [
    "apt1['동_x'].iloc[82]='묵1동'\n",
    "apt1['동_x'].iloc[83]='묵2동'"
   ]
  },
  {
   "cell_type": "markdown",
   "metadata": {},
   "source": [
    "# 합치기 "
   ]
  },
  {
   "cell_type": "markdown",
   "metadata": {
    "scrolled": true
   },
   "source": [
    "apt1 = apt1[apt1['two_x'].isin(['번동', '창동', '목동', '묵동'])]\n",
    "\n",
    "apt1 = apt1[['자치구', '동_x', '㎡당 매매평균가', '㎡당 전세평균가', 'two_x']]\n",
    "\n",
    "apt1.columns = ['자치구', '동', '㎡당 매매평균가', '㎡당 전세평균가', 'two']\n",
    "\n",
    "apt1.reset_index(drop = True, inplace =True)"
   ]
  },
  {
   "cell_type": "markdown",
   "metadata": {
    "scrolled": true
   },
   "source": [
    "two = two[~two['two'].isin(['번동', '창동', '목동', '묵동'])]"
   ]
  },
  {
   "cell_type": "markdown",
   "metadata": {},
   "source": [
    "apt1.shape"
   ]
  },
  {
   "cell_type": "markdown",
   "metadata": {
    "scrolled": true
   },
   "source": [
    "two.shape"
   ]
  },
  {
   "cell_type": "markdown",
   "metadata": {},
   "source": [
    "two_final =two.append(apt1)"
   ]
  },
  {
   "cell_type": "markdown",
   "metadata": {
    "scrolled": true
   },
   "source": [
    "two_final.shape"
   ]
  },
  {
   "cell_type": "markdown",
   "metadata": {},
   "source": [
    "c =((set(two_final.동)-set(num_company.동)))|((set(two_final.동)-set(num_store.동)))"
   ]
  },
  {
   "cell_type": "markdown",
   "metadata": {
    "scrolled": false
   },
   "source": [
    "two_final.동[two_final['동'].str.contains(r'계동')]"
   ]
  },
  {
   "cell_type": "markdown",
   "metadata": {
    "scrolled": false
   },
   "source": [
    "num_company.동[num_company['동'].str.contains(r'오류')]"
   ]
  },
  {
   "cell_type": "markdown",
   "metadata": {},
   "source": [
    "num_company[num_company['동'].isin(['삼성동', '삼성1동'])]"
   ]
  },
  {
   "cell_type": "markdown",
   "metadata": {
    "scrolled": true
   },
   "source": [
    "appended_data = []\n",
    "for i in c:\n",
    "    appended_data.append(num_company.동[num_company['동'].str.contains(r'{}'.format(i))])"
   ]
  },
  {
   "cell_type": "markdown",
   "metadata": {},
   "source": [
    "### 아파트 동명 바꾸기"
   ]
  },
  {
   "cell_type": "markdown",
   "metadata": {},
   "source": [
    "seoul_dong = pd.read_csv(\"행정동.txt\", sep='\\t')"
   ]
  },
  {
   "cell_type": "markdown",
   "metadata": {},
   "source": [
    "seoul_dong=seoul_dong[seoul_dong.동 != '합계']\n",
    "seoul_dong=seoul_dong[seoul_dong.동 != '동']\n",
    "seoul_dong=seoul_dong[seoul_dong.동 != '본청']\n",
    "seoul_dong=seoul_dong[seoul_dong.동 != '소계']\n",
    "seoul_dong=seoul_dong[seoul_dong.동 != '기타']"
   ]
  },
  {
   "cell_type": "markdown",
   "metadata": {},
   "source": [
    "seoul_dong.shape"
   ]
  },
  {
   "cell_type": "markdown",
   "metadata": {
    "scrolled": true
   },
   "source": [
    "(set(two_final.동)-set(seoul_dong.동))"
   ]
  },
  {
   "cell_type": "markdown",
   "metadata": {
    "scrolled": true
   },
   "source": [
    "two_final.head()"
   ]
  },
  {
   "cell_type": "markdown",
   "metadata": {
    "scrolled": false
   },
   "source": [
    "seoul_dong.동[seoul_dong['동'].str.contains(r'동자')]"
   ]
  },
  {
   "cell_type": "markdown",
   "metadata": {
    "scrolled": true
   },
   "source": [
    "d = apt[apt['two'].isin(['금호','당산','문래','보문','삼선','성수','안암','양평','영등','용산','원효','한강','회현'])]"
   ]
  },
  {
   "cell_type": "markdown",
   "metadata": {},
   "source": [
    "# 금호"
   ]
  },
  {
   "cell_type": "markdown",
   "metadata": {
    "scrolled": true
   },
   "source": [
    "d.reset_index(drop=True, inplace=True)"
   ]
  },
  {
   "cell_type": "markdown",
   "metadata": {
    "scrolled": false
   },
   "source": [
    "d.drop([1,2,3,4,6,7,9,11], inplace=True)"
   ]
  },
  {
   "cell_type": "markdown",
   "metadata": {
    "scrolled": false
   },
   "source": [
    "(1056+774)/2"
   ]
  },
  {
   "cell_type": "markdown",
   "metadata": {
    "scrolled": true
   },
   "source": [
    "d.sort_values('동_x')[:]"
   ]
  },
  {
   "cell_type": "markdown",
   "metadata": {},
   "source": [
    "# 당산"
   ]
  },
  {
   "cell_type": "markdown",
   "metadata": {
    "scrolled": true
   },
   "source": [
    "d.reset_index(drop=True, inplace=True)"
   ]
  },
  {
   "cell_type": "markdown",
   "metadata": {
    "scrolled": false
   },
   "source": [
    "d.drop([30,32,34,36,38,40], inplace=True)"
   ]
  },
  {
   "cell_type": "markdown",
   "metadata": {
    "scrolled": true
   },
   "source": [
    "d['동_x'].iloc[239]='창4동'"
   ]
  },
  {
   "cell_type": "markdown",
   "metadata": {
    "scrolled": false
   },
   "source": [
    "(1056+774)/2"
   ]
  },
  {
   "cell_type": "markdown",
   "metadata": {},
   "source": [
    "#문래"
   ]
  },
  {
   "cell_type": "markdown",
   "metadata": {
    "scrolled": true
   },
   "source": [
    "d[[\"㎡당 매매평균가\", \"㎡당 전세평균가\"]].iloc[[41,42,43,44,45]].mean(axis=0)\n",
    "\n",
    "# ㎡당 매매평균가    636.4\n",
    "# ㎡당 전세평균가    364.8"
   ]
  },
  {
   "cell_type": "markdown",
   "metadata": {},
   "source": [
    "m2=[]"
   ]
  },
  {
   "cell_type": "markdown",
   "metadata": {
    "scrolled": false
   },
   "source": [
    "m2.append(d[[\"㎡당 매매평균가\"]].iloc[[41,42,43,44,45]].mean(axis=0))"
   ]
  },
  {
   "cell_type": "markdown",
   "metadata": {},
   "source": [
    "mean_matrix = pd.concat(m2, axis=1).T"
   ]
  },
  {
   "cell_type": "markdown",
   "metadata": {
    "scrolled": false
   },
   "source": [
    "mean_matrix"
   ]
  },
  {
   "cell_type": "markdown",
   "metadata": {
    "scrolled": true
   },
   "source": [
    "(501.0+731.0+556.0+545.0+571.0)/5"
   ]
  },
  {
   "cell_type": "markdown",
   "metadata": {},
   "source": []
  },
  {
   "cell_type": "markdown",
   "metadata": {},
   "source": [
    "num_company.동[num_company['동'].str.contains(r'문')]"
   ]
  },
  {
   "cell_type": "markdown",
   "metadata": {
    "scrolled": true
   },
   "source": [
    "d.sort_values('동_x')[9:]"
   ]
  },
  {
   "cell_type": "markdown",
   "metadata": {},
   "source": [
    "#문래"
   ]
  },
  {
   "cell_type": "markdown",
   "metadata": {
    "scrolled": false
   },
   "source": [
    "d.drop([30,32,34,36,38,40], inplace=True)"
   ]
  },
  {
   "cell_type": "markdown",
   "metadata": {},
   "source": [
    "#문래"
   ]
  },
  {
   "cell_type": "markdown",
   "metadata": {
    "scrolled": false
   },
   "source": [
    "d.drop([30,32,34,36,38,40], inplace=True)"
   ]
  },
  {
   "cell_type": "markdown",
   "metadata": {
    "scrolled": true
   },
   "source": [
    "d.sort_values('동_x')[9:]"
   ]
  },
  {
   "cell_type": "markdown",
   "metadata": {},
   "source": [
    "#문래"
   ]
  },
  {
   "cell_type": "markdown",
   "metadata": {
    "scrolled": false
   },
   "source": [
    "d.drop([30,32,34,36,38,40], inplace=True)"
   ]
  },
  {
   "cell_type": "markdown",
   "metadata": {
    "scrolled": true
   },
   "source": [
    "d.sort_values('동_x')[9:]"
   ]
  },
  {
   "cell_type": "markdown",
   "metadata": {},
   "source": [
    "#문래"
   ]
  },
  {
   "cell_type": "markdown",
   "metadata": {
    "scrolled": false
   },
   "source": [
    "d.drop([30,32,34,36,38,40], inplace=True)"
   ]
  },
  {
   "cell_type": "markdown",
   "metadata": {
    "scrolled": true
   },
   "source": [
    "d.sort_values('동_x')[9:]"
   ]
  },
  {
   "cell_type": "markdown",
   "metadata": {},
   "source": [
    "#문래"
   ]
  },
  {
   "cell_type": "markdown",
   "metadata": {
    "scrolled": false
   },
   "source": [
    "d.drop([30,32,34,36,38,40], inplace=True)"
   ]
  },
  {
   "cell_type": "markdown",
   "metadata": {
    "scrolled": true
   },
   "source": [
    "d.sort_values('동_x')[9:]"
   ]
  },
  {
   "cell_type": "markdown",
   "metadata": {},
   "source": []
  },
  {
   "cell_type": "markdown",
   "metadata": {
    "scrolled": true
   },
   "source": [
    "apt[apt['two'].isin(['금호','당산','문래','보문','삼선','성수','안암','양평','영등포','용산','원효','한강','회현'])]"
   ]
  },
  {
   "cell_type": "code",
   "execution_count": null,
   "metadata": {},
   "outputs": [],
   "source": []
  },
  {
   "cell_type": "code",
   "execution_count": null,
   "metadata": {},
   "outputs": [],
   "source": []
  },
  {
   "cell_type": "code",
   "execution_count": null,
   "metadata": {},
   "outputs": [],
   "source": []
  },
  {
   "cell_type": "code",
   "execution_count": null,
   "metadata": {},
   "outputs": [],
   "source": []
  },
  {
   "cell_type": "code",
   "execution_count": null,
   "metadata": {},
   "outputs": [],
   "source": []
  },
  {
   "cell_type": "code",
   "execution_count": null,
   "metadata": {},
   "outputs": [],
   "source": []
  },
  {
   "cell_type": "code",
   "execution_count": null,
   "metadata": {},
   "outputs": [],
   "source": []
  },
  {
   "cell_type": "code",
   "execution_count": null,
   "metadata": {},
   "outputs": [],
   "source": []
  },
  {
   "cell_type": "code",
   "execution_count": null,
   "metadata": {},
   "outputs": [],
   "source": []
  },
  {
   "cell_type": "code",
   "execution_count": null,
   "metadata": {},
   "outputs": [],
   "source": []
  },
  {
   "cell_type": "code",
   "execution_count": null,
   "metadata": {},
   "outputs": [],
   "source": []
  },
  {
   "cell_type": "code",
   "execution_count": null,
   "metadata": {},
   "outputs": [],
   "source": []
  },
  {
   "cell_type": "code",
   "execution_count": null,
   "metadata": {},
   "outputs": [],
   "source": []
  },
  {
   "cell_type": "code",
   "execution_count": null,
   "metadata": {},
   "outputs": [],
   "source": []
  },
  {
   "cell_type": "code",
   "execution_count": null,
   "metadata": {},
   "outputs": [],
   "source": []
  }
 ],
 "metadata": {
  "kernelspec": {
   "display_name": "Python 3",
   "language": "python",
   "name": "python3"
  },
  "language_info": {
   "codemirror_mode": {
    "name": "ipython",
    "version": 3
   },
   "file_extension": ".py",
   "mimetype": "text/x-python",
   "name": "python",
   "nbconvert_exporter": "python",
   "pygments_lexer": "ipython3",
   "version": "3.7.3"
  }
 },
 "nbformat": 4,
 "nbformat_minor": 2
}
