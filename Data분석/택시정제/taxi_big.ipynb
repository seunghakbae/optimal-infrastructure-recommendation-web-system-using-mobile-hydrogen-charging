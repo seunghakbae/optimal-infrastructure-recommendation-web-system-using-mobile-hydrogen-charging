{
 "cells": [
  {
   "cell_type": "code",
   "execution_count": 1,
   "metadata": {},
   "outputs": [],
   "source": [
    "import pandas as pd\n",
    "import numpy as np\n",
    "import time\n"
   ]
  },
  {
   "cell_type": "code",
   "execution_count": 8,
   "metadata": {},
   "outputs": [
    {
     "name": "stderr",
     "output_type": "stream",
     "text": [
      "C:\\ProgramData\\Anaconda3\\lib\\site-packages\\IPython\\core\\interactiveshell.py:3057: DtypeWarning: Columns (4) have mixed types. Specify dtype option on import or set low_memory=False.\n",
      "  interactivity=interactivity, compiler=compiler, result=result)\n"
     ]
    }
   ],
   "source": [
    "taxi = pd.read_csv(\"taxi_fix.csv\")"
   ]
  },
  {
   "cell_type": "code",
   "execution_count": 3,
   "metadata": {},
   "outputs": [
    {
     "data": {
      "text/plain": [
       "105936869"
      ]
     },
     "execution_count": 3,
     "metadata": {},
     "output_type": "execute_result"
    }
   ],
   "source": [
    "len(taxi)"
   ]
  },
  {
   "cell_type": "code",
   "execution_count": 4,
   "metadata": {},
   "outputs": [],
   "source": [
    "taxi = taxi.drop_duplicates([\"X_MAX\", \"Y_MAX\"])"
   ]
  },
  {
   "cell_type": "code",
   "execution_count": 5,
   "metadata": {},
   "outputs": [
    {
     "data": {
      "text/plain": [
       "36444"
      ]
     },
     "execution_count": 5,
     "metadata": {},
     "output_type": "execute_result"
    }
   ],
   "source": [
    "len(taxi)"
   ]
  },
  {
   "cell_type": "code",
   "execution_count": 7,
   "metadata": {},
   "outputs": [],
   "source": [
    "taxi.to_csv(\"taxi_del_duplicates\")"
   ]
  },
  {
   "cell_type": "code",
   "execution_count": 9,
   "metadata": {},
   "outputs": [
    {
     "data": {
      "text/html": [
       "<div>\n",
       "<style scoped>\n",
       "    .dataframe tbody tr th:only-of-type {\n",
       "        vertical-align: middle;\n",
       "    }\n",
       "\n",
       "    .dataframe tbody tr th {\n",
       "        vertical-align: top;\n",
       "    }\n",
       "\n",
       "    .dataframe thead th {\n",
       "        text-align: right;\n",
       "    }\n",
       "</style>\n",
       "<table border=\"1\" class=\"dataframe\">\n",
       "  <thead>\n",
       "    <tr style=\"text-align: right;\">\n",
       "      <th></th>\n",
       "      <th>Unnamed: 0</th>\n",
       "      <th>Day</th>\n",
       "      <th>Time</th>\n",
       "      <th>Weather</th>\n",
       "      <th>Dest</th>\n",
       "      <th>CntOn</th>\n",
       "      <th>CntOff</th>\n",
       "      <th>CntEmp</th>\n",
       "      <th>X_MAX</th>\n",
       "      <th>Y_MAX</th>\n",
       "      <th>X_MIN</th>\n",
       "      <th>Y_MIN</th>\n",
       "      <th>X_PART</th>\n",
       "      <th>Y_PART</th>\n",
       "    </tr>\n",
       "  </thead>\n",
       "  <tbody>\n",
       "    <tr>\n",
       "      <th>0</th>\n",
       "      <td>T_146396</td>\n",
       "      <td>1</td>\n",
       "      <td>0</td>\n",
       "      <td>-1</td>\n",
       "      <td>NaN</td>\n",
       "      <td>NaN</td>\n",
       "      <td>12.0</td>\n",
       "      <td>309.0</td>\n",
       "      <td>127.029931</td>\n",
       "      <td>37.608843</td>\n",
       "      <td>127.029098</td>\n",
       "      <td>37.607772</td>\n",
       "      <td>127.0299312^127.0298495^127.0296241^127.0290984^</td>\n",
       "      <td>37.6088426^37.6087194^37.6084175^37.6077722^</td>\n",
       "    </tr>\n",
       "    <tr>\n",
       "      <th>1</th>\n",
       "      <td>T_146396</td>\n",
       "      <td>1</td>\n",
       "      <td>0</td>\n",
       "      <td>-1</td>\n",
       "      <td>1111</td>\n",
       "      <td>2.0</td>\n",
       "      <td>NaN</td>\n",
       "      <td>NaN</td>\n",
       "      <td>127.029931</td>\n",
       "      <td>37.608843</td>\n",
       "      <td>127.029098</td>\n",
       "      <td>37.607772</td>\n",
       "      <td>127.0299312^127.0298495^127.0296241^127.0290984^</td>\n",
       "      <td>37.6088426^37.6087194^37.6084175^37.6077722^</td>\n",
       "    </tr>\n",
       "  </tbody>\n",
       "</table>\n",
       "</div>"
      ],
      "text/plain": [
       "  Unnamed: 0  Day  Time  Weather  Dest  CntOn  CntOff  CntEmp       X_MAX  \\\n",
       "0   T_146396    1     0       -1   NaN    NaN    12.0   309.0  127.029931   \n",
       "1   T_146396    1     0       -1  1111    2.0     NaN     NaN  127.029931   \n",
       "\n",
       "       Y_MAX       X_MIN      Y_MIN  \\\n",
       "0  37.608843  127.029098  37.607772   \n",
       "1  37.608843  127.029098  37.607772   \n",
       "\n",
       "                                             X_PART  \\\n",
       "0  127.0299312^127.0298495^127.0296241^127.0290984^   \n",
       "1  127.0299312^127.0298495^127.0296241^127.0290984^   \n",
       "\n",
       "                                         Y_PART  \n",
       "0  37.6088426^37.6087194^37.6084175^37.6077722^  \n",
       "1  37.6088426^37.6087194^37.6084175^37.6077722^  "
      ]
     },
     "execution_count": 9,
     "metadata": {},
     "output_type": "execute_result"
    }
   ],
   "source": [
    "taxi.head(2)"
   ]
  },
  {
   "cell_type": "code",
   "execution_count": 7,
   "metadata": {},
   "outputs": [
    {
     "data": {
      "text/html": [
       "<div>\n",
       "<style scoped>\n",
       "    .dataframe tbody tr th:only-of-type {\n",
       "        vertical-align: middle;\n",
       "    }\n",
       "\n",
       "    .dataframe tbody tr th {\n",
       "        vertical-align: top;\n",
       "    }\n",
       "\n",
       "    .dataframe thead th {\n",
       "        text-align: right;\n",
       "    }\n",
       "</style>\n",
       "<table border=\"1\" class=\"dataframe\">\n",
       "  <thead>\n",
       "    <tr style=\"text-align: right;\">\n",
       "      <th>Unnamed: 0</th>\n",
       "      <th>Unnamed: 0</th>\n",
       "      <th>Day</th>\n",
       "      <th>Time</th>\n",
       "      <th>Weather</th>\n",
       "      <th>Dest</th>\n",
       "      <th>CntOn</th>\n",
       "      <th>CntOff</th>\n",
       "      <th>CntEmp</th>\n",
       "      <th>X_MAX</th>\n",
       "      <th>Y_MAX</th>\n",
       "      <th>X_MIN</th>\n",
       "      <th>Y_MIN</th>\n",
       "      <th>X_PART</th>\n",
       "      <th>Y_PART</th>\n",
       "    </tr>\n",
       "  </thead>\n",
       "  <tbody>\n",
       "    <tr>\n",
       "      <th>0</th>\n",
       "      <td>T_146396</td>\n",
       "      <td>1</td>\n",
       "      <td>0</td>\n",
       "      <td>-1</td>\n",
       "      <td>NaN</td>\n",
       "      <td>NaN</td>\n",
       "      <td>12.0</td>\n",
       "      <td>309.0</td>\n",
       "      <td>127.029931</td>\n",
       "      <td>37.608843</td>\n",
       "      <td>127.029098</td>\n",
       "      <td>37.607772</td>\n",
       "      <td>127.0299312^127.0298495^127.0296241^127.0290984^</td>\n",
       "      <td>37.6088426^37.6087194^37.6084175^37.6077722^</td>\n",
       "    </tr>\n",
       "    <tr>\n",
       "      <th>1</th>\n",
       "      <td>T_146396</td>\n",
       "      <td>1</td>\n",
       "      <td>0</td>\n",
       "      <td>-1</td>\n",
       "      <td>1111</td>\n",
       "      <td>2.0</td>\n",
       "      <td>NaN</td>\n",
       "      <td>NaN</td>\n",
       "      <td>127.029931</td>\n",
       "      <td>37.608843</td>\n",
       "      <td>127.029098</td>\n",
       "      <td>37.607772</td>\n",
       "      <td>127.0299312^127.0298495^127.0296241^127.0290984^</td>\n",
       "      <td>37.6088426^37.6087194^37.6084175^37.6077722^</td>\n",
       "    </tr>\n",
       "  </tbody>\n",
       "</table>\n",
       "</div>"
      ],
      "text/plain": [
       "Unnamed: 0 Unnamed: 0  Day  Time  Weather  Dest  CntOn  CntOff  CntEmp  \\\n",
       "0            T_146396    1     0       -1   NaN    NaN    12.0   309.0   \n",
       "1            T_146396    1     0       -1  1111    2.0     NaN     NaN   \n",
       "\n",
       "Unnamed: 0       X_MAX      Y_MAX       X_MIN      Y_MIN  \\\n",
       "0           127.029931  37.608843  127.029098  37.607772   \n",
       "1           127.029931  37.608843  127.029098  37.607772   \n",
       "\n",
       "Unnamed: 0                                            X_PART  \\\n",
       "0           127.0299312^127.0298495^127.0296241^127.0290984^   \n",
       "1           127.0299312^127.0298495^127.0296241^127.0290984^   \n",
       "\n",
       "Unnamed: 0                                        Y_PART  \n",
       "0           37.6088426^37.6087194^37.6084175^37.6077722^  \n",
       "1           37.6088426^37.6087194^37.6084175^37.6077722^  "
      ]
     },
     "execution_count": 7,
     "metadata": {},
     "output_type": "execute_result"
    }
   ],
   "source": [
    "taxi.head(2)"
   ]
  },
  {
   "cell_type": "code",
   "execution_count": 1,
   "metadata": {},
   "outputs": [
    {
     "ename": "NameError",
     "evalue": "name 'taxi' is not defined",
     "output_type": "error",
     "traceback": [
      "\u001b[1;31m---------------------------------------------------------------------------\u001b[0m",
      "\u001b[1;31mNameError\u001b[0m                                 Traceback (most recent call last)",
      "\u001b[1;32m<ipython-input-1-668fc91836ac>\u001b[0m in \u001b[0;36m<module>\u001b[1;34m\u001b[0m\n\u001b[1;32m----> 1\u001b[1;33m \u001b[0mtaxi\u001b[0m\u001b[1;33m.\u001b[0m\u001b[0mrename\u001b[0m\u001b[1;33m(\u001b[0m\u001b[0mcolumns\u001b[0m \u001b[1;33m=\u001b[0m \u001b[1;33m{\u001b[0m\u001b[1;34m'Unnamed: 0'\u001b[0m\u001b[1;33m:\u001b[0m \u001b[1;34m'T_LINK'\u001b[0m\u001b[1;33m}\u001b[0m\u001b[1;33m,\u001b[0m \u001b[0minplace\u001b[0m \u001b[1;33m=\u001b[0m\u001b[1;32mTrue\u001b[0m\u001b[1;33m)\u001b[0m\u001b[1;33m\u001b[0m\u001b[1;33m\u001b[0m\u001b[0m\n\u001b[0m",
      "\u001b[1;31mNameError\u001b[0m: name 'taxi' is not defined"
     ]
    }
   ],
   "source": [
    "taxi.rename(columns = {'Unnamed: 0': 'T_LINK'}, inplace =True)"
   ]
  },
  {
   "cell_type": "code",
   "execution_count": 13,
   "metadata": {},
   "outputs": [
    {
     "data": {
      "text/html": [
       "<div>\n",
       "<style scoped>\n",
       "    .dataframe tbody tr th:only-of-type {\n",
       "        vertical-align: middle;\n",
       "    }\n",
       "\n",
       "    .dataframe tbody tr th {\n",
       "        vertical-align: top;\n",
       "    }\n",
       "\n",
       "    .dataframe thead th {\n",
       "        text-align: right;\n",
       "    }\n",
       "</style>\n",
       "<table border=\"1\" class=\"dataframe\">\n",
       "  <thead>\n",
       "    <tr style=\"text-align: right;\">\n",
       "      <th></th>\n",
       "      <th>Unnamed: 0</th>\n",
       "      <th>Day</th>\n",
       "      <th>Time</th>\n",
       "      <th>Weather</th>\n",
       "      <th>Dest</th>\n",
       "      <th>CntOn</th>\n",
       "      <th>CntOff</th>\n",
       "      <th>CntEmp</th>\n",
       "      <th>X_MAX</th>\n",
       "      <th>Y_MAX</th>\n",
       "      <th>X_MIN</th>\n",
       "      <th>Y_MIN</th>\n",
       "      <th>X_PART</th>\n",
       "      <th>Y_PART</th>\n",
       "    </tr>\n",
       "  </thead>\n",
       "  <tbody>\n",
       "    <tr>\n",
       "      <th>0</th>\n",
       "      <td>T_146396</td>\n",
       "      <td>1</td>\n",
       "      <td>0</td>\n",
       "      <td>-1</td>\n",
       "      <td>NaN</td>\n",
       "      <td>NaN</td>\n",
       "      <td>12.0</td>\n",
       "      <td>309.0</td>\n",
       "      <td>127.029931</td>\n",
       "      <td>37.608843</td>\n",
       "      <td>127.029098</td>\n",
       "      <td>37.607772</td>\n",
       "      <td>127.0299312^127.0298495^127.0296241^127.0290984^</td>\n",
       "      <td>37.6088426^37.6087194^37.6084175^37.6077722^</td>\n",
       "    </tr>\n",
       "    <tr>\n",
       "      <th>1</th>\n",
       "      <td>T_146396</td>\n",
       "      <td>1</td>\n",
       "      <td>0</td>\n",
       "      <td>-1</td>\n",
       "      <td>1111</td>\n",
       "      <td>2.0</td>\n",
       "      <td>NaN</td>\n",
       "      <td>NaN</td>\n",
       "      <td>127.029931</td>\n",
       "      <td>37.608843</td>\n",
       "      <td>127.029098</td>\n",
       "      <td>37.607772</td>\n",
       "      <td>127.0299312^127.0298495^127.0296241^127.0290984^</td>\n",
       "      <td>37.6088426^37.6087194^37.6084175^37.6077722^</td>\n",
       "    </tr>\n",
       "  </tbody>\n",
       "</table>\n",
       "</div>"
      ],
      "text/plain": [
       "  Unnamed: 0  Day  Time  Weather  Dest  CntOn  CntOff  CntEmp       X_MAX  \\\n",
       "0   T_146396    1     0       -1   NaN    NaN    12.0   309.0  127.029931   \n",
       "1   T_146396    1     0       -1  1111    2.0     NaN     NaN  127.029931   \n",
       "\n",
       "       Y_MAX       X_MIN      Y_MIN  \\\n",
       "0  37.608843  127.029098  37.607772   \n",
       "1  37.608843  127.029098  37.607772   \n",
       "\n",
       "                                             X_PART  \\\n",
       "0  127.0299312^127.0298495^127.0296241^127.0290984^   \n",
       "1  127.0299312^127.0298495^127.0296241^127.0290984^   \n",
       "\n",
       "                                         Y_PART  \n",
       "0  37.6088426^37.6087194^37.6084175^37.6077722^  \n",
       "1  37.6088426^37.6087194^37.6084175^37.6077722^  "
      ]
     },
     "execution_count": 13,
     "metadata": {},
     "output_type": "execute_result"
    }
   ],
   "source": [
    "taxi.head(2)"
   ]
  },
  {
   "cell_type": "code",
   "execution_count": 12,
   "metadata": {},
   "outputs": [
    {
     "ename": "AttributeError",
     "evalue": "'DataFrame' object has no attribute 'T_LINK'",
     "output_type": "error",
     "traceback": [
      "\u001b[1;31m---------------------------------------------------------------------------\u001b[0m",
      "\u001b[1;31mAttributeError\u001b[0m                            Traceback (most recent call last)",
      "\u001b[1;32m<ipython-input-12-a09ebf39fc4d>\u001b[0m in \u001b[0;36m<module>\u001b[1;34m\u001b[0m\n\u001b[1;32m----> 1\u001b[1;33m hi= [np.array(taxi.T_LINK),np.array(taxi.Day), np.array(taxi.Time), \n\u001b[0m\u001b[0;32m      2\u001b[0m      \u001b[0mnp\u001b[0m\u001b[1;33m.\u001b[0m\u001b[0marray\u001b[0m\u001b[1;33m(\u001b[0m\u001b[0mtaxi\u001b[0m\u001b[1;33m.\u001b[0m\u001b[0mCntOn\u001b[0m\u001b[1;33m)\u001b[0m\u001b[1;33m,\u001b[0m \u001b[0mnp\u001b[0m\u001b[1;33m.\u001b[0m\u001b[0marray\u001b[0m\u001b[1;33m(\u001b[0m\u001b[0mtaxi\u001b[0m\u001b[1;33m.\u001b[0m\u001b[0mCntOff\u001b[0m\u001b[1;33m)\u001b[0m\u001b[1;33m,\u001b[0m \u001b[0mnp\u001b[0m\u001b[1;33m.\u001b[0m\u001b[0marray\u001b[0m\u001b[1;33m(\u001b[0m\u001b[0mtaxi\u001b[0m\u001b[1;33m.\u001b[0m\u001b[0mCntEmp\u001b[0m\u001b[1;33m)\u001b[0m\u001b[1;33m,\u001b[0m\u001b[1;33m\u001b[0m\u001b[1;33m\u001b[0m\u001b[0m\n\u001b[0;32m      3\u001b[0m      np.array(taxi.X_MAX), np.array(taxi.Y_MAX)]\n",
      "\u001b[1;32mC:\\ProgramData\\Anaconda3\\lib\\site-packages\\pandas\\core\\generic.py\u001b[0m in \u001b[0;36m__getattr__\u001b[1;34m(self, name)\u001b[0m\n\u001b[0;32m   5065\u001b[0m             \u001b[1;32mif\u001b[0m \u001b[0mself\u001b[0m\u001b[1;33m.\u001b[0m\u001b[0m_info_axis\u001b[0m\u001b[1;33m.\u001b[0m\u001b[0m_can_hold_identifiers_and_holds_name\u001b[0m\u001b[1;33m(\u001b[0m\u001b[0mname\u001b[0m\u001b[1;33m)\u001b[0m\u001b[1;33m:\u001b[0m\u001b[1;33m\u001b[0m\u001b[1;33m\u001b[0m\u001b[0m\n\u001b[0;32m   5066\u001b[0m                 \u001b[1;32mreturn\u001b[0m \u001b[0mself\u001b[0m\u001b[1;33m[\u001b[0m\u001b[0mname\u001b[0m\u001b[1;33m]\u001b[0m\u001b[1;33m\u001b[0m\u001b[1;33m\u001b[0m\u001b[0m\n\u001b[1;32m-> 5067\u001b[1;33m             \u001b[1;32mreturn\u001b[0m \u001b[0mobject\u001b[0m\u001b[1;33m.\u001b[0m\u001b[0m__getattribute__\u001b[0m\u001b[1;33m(\u001b[0m\u001b[0mself\u001b[0m\u001b[1;33m,\u001b[0m \u001b[0mname\u001b[0m\u001b[1;33m)\u001b[0m\u001b[1;33m\u001b[0m\u001b[1;33m\u001b[0m\u001b[0m\n\u001b[0m\u001b[0;32m   5068\u001b[0m \u001b[1;33m\u001b[0m\u001b[0m\n\u001b[0;32m   5069\u001b[0m     \u001b[1;32mdef\u001b[0m \u001b[0m__setattr__\u001b[0m\u001b[1;33m(\u001b[0m\u001b[0mself\u001b[0m\u001b[1;33m,\u001b[0m \u001b[0mname\u001b[0m\u001b[1;33m,\u001b[0m \u001b[0mvalue\u001b[0m\u001b[1;33m)\u001b[0m\u001b[1;33m:\u001b[0m\u001b[1;33m\u001b[0m\u001b[1;33m\u001b[0m\u001b[0m\n",
      "\u001b[1;31mAttributeError\u001b[0m: 'DataFrame' object has no attribute 'T_LINK'"
     ]
    }
   ],
   "source": [
    "hi= [np.array(taxi.T_LINK),np.array(taxi.Day), np.array(taxi.Time), \n",
    "     np.array(taxi.CntOn), np.array(taxi.CntOff), np.array(taxi.CntEmp), \n",
    "     np.array(taxi.X_MAX), np.array(taxi.Y_MAX)]"
   ]
  },
  {
   "cell_type": "code",
   "execution_count": null,
   "metadata": {},
   "outputs": [],
   "source": [
    "def tapseung(time, day=1):\n",
    "    _sum =0\n",
    "    i=0\n",
    "    for i in range(999999):\n",
    "        if hi[2][i]!=hi[2][i+1]or hi[0][i] !=hi[0][i+1] or hi[1][i]!=hi[1][i+1]:\n",
    "            name.append([{hi[0][i]:_sum},{'Day':hi[1][i]},{\"Time\":hi[2][i]},{'i':i}, {\"X_MAX\":hi[6][i]},{\"Y_MAX\":hi[7][i]}])\n",
    "            _sum = 0\n",
    "\n",
    "        if hi[0][i] ==hi[0][i+1] and hi[1][i]==day and hi[2][i]==time:\n",
    "            _sum +=(hi[3][i]+hi[4][i]+hi[5][i])\n",
    "    return _sum"
   ]
  }
 ],
 "metadata": {
  "kernelspec": {
   "display_name": "Python 3",
   "language": "python",
   "name": "python3"
  },
  "language_info": {
   "codemirror_mode": {
    "name": "ipython",
    "version": 3
   },
   "file_extension": ".py",
   "mimetype": "text/x-python",
   "name": "python",
   "nbconvert_exporter": "python",
   "pygments_lexer": "ipython3",
   "version": "3.7.3"
  }
 },
 "nbformat": 4,
 "nbformat_minor": 2
}
