{
 "cells": [
  {
   "cell_type": "code",
   "execution_count": 99,
   "metadata": {},
   "outputs": [],
   "source": [
    "import sqlalchemy\n",
    "from sqlalchemy import create_engine\n",
    "from sqlalchemy import ForeignKey"
   ]
  },
  {
   "cell_type": "code",
   "execution_count": 100,
   "metadata": {},
   "outputs": [],
   "source": [
    "engine = create_engine(\"sqlite:///C:\\\\Users\\\\ASUS\\\\청년인재\\\\Project\\\\Database\\\\database.db\")"
   ]
  },
  {
   "cell_type": "code",
   "execution_count": 101,
   "metadata": {},
   "outputs": [],
   "source": [
    "from sqlalchemy.ext.declarative import declarative_base"
   ]
  },
  {
   "cell_type": "code",
   "execution_count": 102,
   "metadata": {},
   "outputs": [],
   "source": [
    "Base = declarative_base()"
   ]
  },
  {
   "cell_type": "code",
   "execution_count": 103,
   "metadata": {},
   "outputs": [],
   "source": [
    "from sqlalchemy import Column, Integer, String, VARCHAR, Float, Boolean"
   ]
  },
  {
   "cell_type": "code",
   "execution_count": 104,
   "metadata": {},
   "outputs": [],
   "source": [
    "class Dong(Base):\n",
    "    __tablename__ = 'dong'\n",
    "    \n",
    "    dong_id = Column(Integer, primary_key = True)\n",
    "    name = Column(VARCHAR)\n",
    "    gu_name = Column(VARCHAR)\n",
    "    rate_2020 = Column(Boolean)\n",
    "    rate_2022 = Column(Boolean)\n",
    "    rate_2024 = Column(Boolean)\n",
    "    rate_2026 = Column(Boolean)\n",
    "    rate_2028 = Column(Boolean)\n",
    "    \n",
    "def __repr__(self):\n",
    "    return \"<Dong(name='%s', gu_name='%s', rate_2020='%i', rate_2022='%i', rate_2024='%i', rate_2026='%i', rate_2028='%i')>\" % (self.name, self.gu_name, self.rate_2020, self.rate_2022, self.rate_2024, self.rate_2026, self.rate_2028)"
   ]
  },
  {
   "cell_type": "code",
   "execution_count": 105,
   "metadata": {},
   "outputs": [
    {
     "data": {
      "text/plain": [
       "Table('dong', MetaData(bind=None), Column('dong_id', Integer(), table=<dong>, primary_key=True, nullable=False), Column('name', VARCHAR(), table=<dong>), Column('gu_name', VARCHAR(), table=<dong>), Column('rate_2020', Boolean(), table=<dong>), Column('rate_2022', Boolean(), table=<dong>), Column('rate_2024', Boolean(), table=<dong>), Column('rate_2026', Boolean(), table=<dong>), Column('rate_2028', Boolean(), table=<dong>), schema=None)"
      ]
     },
     "execution_count": 105,
     "metadata": {},
     "output_type": "execute_result"
    }
   ],
   "source": [
    "Dong.__table__"
   ]
  },
  {
   "cell_type": "code",
   "execution_count": 106,
   "metadata": {},
   "outputs": [],
   "source": [
    "class LPG(Base):\n",
    "    __tablename__ = 'LPG'\n",
    "    \n",
    "    lpg_id = Column(Integer, primary_key = True)\n",
    "    name = Column(VARCHAR)\n",
    "    x_cor = Column(Float)\n",
    "    y_cor = Column(Float)\n",
    "    installed_2020 = Column(Boolean)\n",
    "    installed_2022 = Column(Boolean)\n",
    "    installed_2024 = Column(Boolean)\n",
    "    installed_2026 = Column(Boolean)\n",
    "    installed_2028 = Column(Boolean)\n",
    "    dong_id = Column(Integer, ForeignKey('dong.dong_id'))\n",
    "    \n",
    "    \n",
    "def __repr__(self):\n",
    "    return \"<LPG(name='%s', x_cor='%f', y_cor = '%f', installed_2020='%i', installed_2022='%i', installed_2024='%i', installed_2026 = '%i', installed_2028 = '%i', dong_id = '%d')>\" % (self.name, self.x_cor, self.y_cor, self.installed_2020, self.installed_2022, self.installed_2024, self.installed_2026, self.installed_2028, self.dong_id)"
   ]
  },
  {
   "cell_type": "code",
   "execution_count": 107,
   "metadata": {},
   "outputs": [
    {
     "data": {
      "text/plain": [
       "Table('LPG', MetaData(bind=None), Column('lpg_id', Integer(), table=<LPG>, primary_key=True, nullable=False), Column('name', VARCHAR(), table=<LPG>), Column('x_cor', Float(), table=<LPG>), Column('y_cor', Float(), table=<LPG>), Column('installed_2020', Boolean(), table=<LPG>), Column('installed_2022', Boolean(), table=<LPG>), Column('installed_2024', Boolean(), table=<LPG>), Column('installed_2026', Boolean(), table=<LPG>), Column('installed_2028', Boolean(), table=<LPG>), Column('dong_id', Integer(), ForeignKey('dong.dong_id'), table=<LPG>), schema=None)"
      ]
     },
     "execution_count": 107,
     "metadata": {},
     "output_type": "execute_result"
    }
   ],
   "source": [
    "LPG.__table__"
   ]
  },
  {
   "cell_type": "code",
   "execution_count": 108,
   "metadata": {},
   "outputs": [],
   "source": [
    "class Parking_lot(Base):\n",
    "    __tablename__ = 'Parking_lot'\n",
    "    \n",
    "    pl_id = Column(Integer, primary_key = True)\n",
    "    name = Column(VARCHAR)\n",
    "    installed_2020 = Column(Boolean)\n",
    "    installed_2022 = Column(Boolean)\n",
    "    installed_2024 = Column(Boolean)\n",
    "    installed_2026 = Column(Boolean)\n",
    "    installed_2028 = Column(Boolean)\n",
    "    dong_id = Column(Integer, ForeignKey('dong.dong_id'))\n",
    "    \n",
    "    \n",
    "def __repr__(self):\n",
    "    return \"<Parking_lot(name='%s', installed_2020='%i', installed_2022='%i', installed_2024='%i', installed_2026 = '%i', installed_2028 = '%i', dong_id = '%d')>\" % (self.name, self.installed_2020, self.installed_2022, self.installed_2024, self.installed_2026, self.installed_2028, self.dong_id)"
   ]
  },
  {
   "cell_type": "code",
   "execution_count": 109,
   "metadata": {
    "scrolled": true
   },
   "outputs": [
    {
     "data": {
      "text/plain": [
       "Table('Parking_lot', MetaData(bind=None), Column('pl_id', Integer(), table=<Parking_lot>, primary_key=True, nullable=False), Column('name', VARCHAR(), table=<Parking_lot>), Column('installed_2020', Boolean(), table=<Parking_lot>), Column('installed_2022', Boolean(), table=<Parking_lot>), Column('installed_2024', Boolean(), table=<Parking_lot>), Column('installed_2026', Boolean(), table=<Parking_lot>), Column('installed_2028', Boolean(), table=<Parking_lot>), Column('dong_id', Integer(), ForeignKey('dong.dong_id'), table=<Parking_lot>), schema=None)"
      ]
     },
     "execution_count": 109,
     "metadata": {},
     "output_type": "execute_result"
    }
   ],
   "source": [
    "Parking_lot.__table__"
   ]
  },
  {
   "cell_type": "code",
   "execution_count": 110,
   "metadata": {},
   "outputs": [],
   "source": [
    "class Charging_station(Base):\n",
    "    __tablename__ = 'Charging_station'\n",
    "    \n",
    "    cs_id = Column(Integer, primary_key = True)\n",
    "    name = Column(VARCHAR)\n",
    "    x_cor = Column(Float)\n",
    "    y_cor = Column(Float)\n",
    "    dong_id = Column(Integer, ForeignKey('dong.dong_id'))\n",
    "    \n",
    "    \n",
    "def __repr__(self):\n",
    "    return \"<Charging_station(name='%s', x_cor='%f', y_cor = '%f', dong_id = '%d')>\" % (self.name, self.x_cor, self.y_cor, self.dong_id)"
   ]
  },
  {
   "cell_type": "code",
   "execution_count": 111,
   "metadata": {},
   "outputs": [
    {
     "data": {
      "text/plain": [
       "Table('Charging_station', MetaData(bind=None), Column('cs_id', Integer(), table=<Charging_station>, primary_key=True, nullable=False), Column('name', VARCHAR(), table=<Charging_station>), Column('x_cor', Float(), table=<Charging_station>), Column('y_cor', Float(), table=<Charging_station>), Column('dong_id', Integer(), ForeignKey('dong.dong_id'), table=<Charging_station>), schema=None)"
      ]
     },
     "execution_count": 111,
     "metadata": {},
     "output_type": "execute_result"
    }
   ],
   "source": [
    "Charging_station.__table__"
   ]
  },
  {
   "cell_type": "code",
   "execution_count": 112,
   "metadata": {},
   "outputs": [],
   "source": [
    "class Route(Base):\n",
    "    __tablename__ = 'Route'\n",
    "    \n",
    "    route_id = Column(Integer, primary_key = True)\n",
    "    lpg_id = Column(Integer, ForeignKey(\"LPG.lpg_id\"))\n",
    "    pl_id = Column(Integer, ForeignKey(\"Parking_lot.pl_id\"))\n",
    "    par_mor = Column(VARCHAR)\n",
    "    par_din = Column(VARCHAR)\n",
    "    x_cor = Column(Float)\n",
    "    y_cor = Column(Float)\n",
    "    installed_2020 = Column(Boolean)\n",
    "    installed_2022 = Column(Boolean)\n",
    "    installed_2024 = Column(Boolean)\n",
    "    installed_2026 = Column(Boolean)\n",
    "    installed_2028 = Column(Boolean)\n",
    "    \n",
    "def __repr__(self):\n",
    "    return \"<Route(lpg_id='%d', pl_id = '%d', par_mor = '%s', par_din = '%s', x_cor='%f', y_cor = '%f',installed_2020='%i', installed_2022='%i', installed_2024='%i', installed_2026 = '%i', installed_2028 = '%i')>\" % (self.lpg_id, self.pl_id, self.par_mor, self.par_din,self.x_cor, self.y_cor, self.installed_2020, self.installed_2022, self.installed_2024, self.installed_2026, self.installed_2028)"
   ]
  },
  {
   "cell_type": "code",
   "execution_count": 113,
   "metadata": {},
   "outputs": [
    {
     "data": {
      "text/plain": [
       "Table('Route', MetaData(bind=None), Column('route_id', Integer(), table=<Route>, primary_key=True, nullable=False), Column('lpg_id', Integer(), ForeignKey('LPG.lpg_id'), table=<Route>), Column('pl_id', Integer(), ForeignKey('Parking_lot.pl_id'), table=<Route>), Column('par_mor', VARCHAR(), table=<Route>), Column('par_din', VARCHAR(), table=<Route>), Column('x_cor', Float(), table=<Route>), Column('y_cor', Float(), table=<Route>), Column('installed_2020', Boolean(), table=<Route>), Column('installed_2022', Boolean(), table=<Route>), Column('installed_2024', Boolean(), table=<Route>), Column('installed_2026', Boolean(), table=<Route>), Column('installed_2028', Boolean(), table=<Route>), schema=None)"
      ]
     },
     "execution_count": 113,
     "metadata": {},
     "output_type": "execute_result"
    }
   ],
   "source": [
    "Route.__table__"
   ]
  },
  {
   "cell_type": "code",
   "execution_count": 114,
   "metadata": {},
   "outputs": [],
   "source": [
    "Base.metadata.create_all(engine)"
   ]
  },
  {
   "cell_type": "code",
   "execution_count": null,
   "metadata": {},
   "outputs": [],
   "source": []
  },
  {
   "cell_type": "code",
   "execution_count": null,
   "metadata": {},
   "outputs": [],
   "source": []
  }
 ],
 "metadata": {
  "kernelspec": {
   "display_name": "Python 3",
   "language": "python",
   "name": "python3"
  },
  "language_info": {
   "codemirror_mode": {
    "name": "ipython",
    "version": 3
   },
   "file_extension": ".py",
   "mimetype": "text/x-python",
   "name": "python",
   "nbconvert_exporter": "python",
   "pygments_lexer": "ipython3",
   "version": "3.7.3"
  }
 },
 "nbformat": 4,
 "nbformat_minor": 2
}
