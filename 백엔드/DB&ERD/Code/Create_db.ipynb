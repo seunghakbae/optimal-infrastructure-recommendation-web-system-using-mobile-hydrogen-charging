{
 "cells": [
  {
   "cell_type": "code",
   "execution_count": null,
   "metadata": {},
   "outputs": [],
   "source": [
    "import sqlite3\n",
    "conn = sqlite3.connect('hydrogen.db')\n",
    "cur = conn.cursor()"
   ]
  },
  {
   "cell_type": "code",
   "execution_count": null,
   "metadata": {},
   "outputs": [],
   "source": [
    "cur.executescript('''\n",
    "    create table dong( \n",
    "        dong_id integer primary key,\n",
    "        population integer not null,\n",
    "        dong_name varchar(15) not null,\n",
    "        dong_income real not null,\n",
    "        dong_position integer not null,\n",
    "        num_hydrogen_car integer not null\n",
    "    );\n",
    "    create table sector(\n",
    "        sector_id varchar(20) primary key,\n",
    "        latitude_max real not null,\n",
    "        longitude_max real not null,\n",
    "        latitude_min real not null,\n",
    "        longitude_min real not null,\n",
    "        dong_id real not null,\n",
    "        final_grade integer not null\n",
    "    );\n",
    "    create table station(\n",
    "        station_id integer primary key autoincrement,\n",
    "        latitude real not null, \n",
    "        longitude real not null, \n",
    "        queue_len integer not null, \n",
    "        exist boolean,\n",
    "        sector_id varchar(20),\n",
    "        foreign key(sector_id) references sector(sector_id)\n",
    "    );     \n",
    "    create table taxi(\n",
    "        sector_id  varchar(20) primary key,\n",
    "        period integer not null, \n",
    "        date date not null,\n",
    "        car_on integer,\n",
    "        car_off integer,\n",
    "        desti varchar(20),\n",
    "        car_none integer,\n",
    "        foreign key(sector_id) references sector(sector_id)\n",
    "    );\n",
    "    create table sector_grade( \n",
    "        sector_grade_id integer primary key autoincrement,\n",
    "        sector_id varchar(20) not null,\n",
    "        regulation bool not null,\n",
    "        demand_grade integer not null,\n",
    "        population_grade integer not null,\n",
    "        station_in boolean not null,\n",
    "        income_grade integer not null,\n",
    "        foreign key(sector_id) references sector(sector_id)\n",
    "    );\n",
    "    create table traffic( \n",
    "       road_id integer primary key,\n",
    "       period integer not null,\n",
    "       num_car int not null,\n",
    "       date date not null,\n",
    "       address text not null,\n",
    "       sector_id varchar(20),\n",
    "       foreign key(sector_id) references sector(sector_id)\n",
    "    );\n",
    "    create table site(\n",
    "        site_id integer primary key autoincrement,\n",
    "        sector_id varchar(20) not null,\n",
    "        latitude real not null,\n",
    "        longitude real not null,\n",
    "        foreign key(sector_id) references sector(sector_id)\n",
    "    );\n",
    "    create table users(\n",
    "       user_id varchar(30) primary key,\n",
    "       name varchar(10) not null,\n",
    "       phone int not null,\n",
    "       address text not null,\n",
    "       car_num varchar(15) not null\n",
    "    );\n",
    "''')"
   ]
  },
  {
   "cell_type": "code",
   "execution_count": null,
   "metadata": {},
   "outputs": [],
   "source": [
    "conn.close()"
   ]
  }
 ],
 "metadata": {
  "kernelspec": {
   "display_name": "Python 3",
   "language": "python",
   "name": "python3"
  },
  "language_info": {
   "codemirror_mode": {
    "name": "ipython",
    "version": 3
   },
   "file_extension": ".py",
   "mimetype": "text/x-python",
   "name": "python",
   "nbconvert_exporter": "python",
   "pygments_lexer": "ipython3",
   "version": "3.7.3"
  }
 },
 "nbformat": 4,
 "nbformat_minor": 2
}
